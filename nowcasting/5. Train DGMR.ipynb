{
 "cells": [
  {
   "cell_type": "markdown",
   "id": "0842e789-24c2-4ff1-8fbd-ff68d00dc07c",
   "metadata": {},
   "source": [
    "## Train DGMR"
   ]
  },
  {
   "cell_type": "code",
   "execution_count": null,
   "id": "f489494a-8640-4199-9edc-56ec8509c50c",
   "metadata": {},
   "outputs": [],
   "source": [
    "import torch.utils.data.dataset\n",
    "from dgmr import DGMR\n",
    "from datasets import load_dataset\n",
    "from torch.utils.data import DataLoader\n",
    "\n",
    "from pytorch_lightning.callbacks import ModelCheckpoint\n",
    "import wandb\n",
    "\n",
    "wandb.init(project=\"dgmr\")\n",
    "from numpy.random import default_rng\n",
    "import os\n",
    "import numpy as np\n",
    "from pathlib import Path\n",
    "import tensorflow as tf\n",
    "from pytorch_lightning import Callback, Trainer\n",
    "from pytorch_lightning.loggers import  WandbLogger\n",
    "from pytorch_lightning.utilities import rank_zero_only\n",
    "    \n",
    "from src.dataio import DGMRDataModule"
   ]
  },
  {
   "cell_type": "code",
   "execution_count": null,
   "id": "f21ac843-6a25-4c87-b21e-6e19dba133cb",
   "metadata": {},
   "outputs": [],
   "source": [
    "wandb_logger = WandbLogger(logger=\"dgmr\")\n",
    "model_checkpoint = ModelCheckpoint(\n",
    "    monitor=\"train/g_loss\",\n",
    "    dirpath=\"./\",\n",
    "    filename=\"best\",\n",
    ")\n",
    "\n",
    "trainer = Trainer(\n",
    "    max_epochs=1000,\n",
    "    logger=wandb_logger,\n",
    "    callbacks=[model_checkpoint],\n",
    "    gpus=1,\n",
    "    precision=32,\n",
    "    # accelerator=\"tpu\", devices=8\n",
    ")"
   ]
  },
  {
   "cell_type": "code",
   "execution_count": 2,
   "id": "0d7c81e6-c896-43cd-b244-f416c9f81f6d",
   "metadata": {},
   "outputs": [],
   "source": [
    "# model = DGMR()\n",
    "model = DGMR.from_pretrained(\"openclimatefix/dgmr\")\n",
    "sampler = Sampler.from_pretrained(\"openclimatefix/dgmr-sampler\")\n",
    "discriminator = Discriminator.from_pretrained(\"openclimatefix/dgmr-discriminator\")\n",
    "latent_stack = LatentConditioningStack.from_pretrained(\"openclimatefix/dgmr-latent-conditioning-stack\")\n",
    "context_stack = ContextConditioningStack.from_pretrained(\"openclimatefix/dgmr-context-conditioning-stack\")\n",
    "generator = Generator(conditioning_stack=context_stack, latent_stack=latent_stack, sampler=sampler)"
   ]
  },
  {
   "cell_type": "code",
   "execution_count": null,
   "id": "86a3ee94-51ee-420f-a9e3-c2f7eefdec7e",
   "metadata": {},
   "outputs": [],
   "source": [
    "datamodule = DGMRDataModule(batch_size=1)\n",
    "trainer.fit(model, datamodule)"
   ]
  }
 ],
 "metadata": {
  "kernelspec": {
   "display_name": "Environment (conda_dgmr)",
   "language": "python",
   "name": "conda_dgmr"
  },
  "language_info": {
   "codemirror_mode": {
    "name": "ipython",
    "version": 3
   },
   "file_extension": ".py",
   "mimetype": "text/x-python",
   "name": "python",
   "nbconvert_exporter": "python",
   "pygments_lexer": "ipython3",
   "version": "3.9.15"
  }
 },
 "nbformat": 4,
 "nbformat_minor": 5
}
