{
 "cells": [
  {
   "cell_type": "markdown",
   "id": "69e1fecd-f7b1-4988-8ab5-426808d44f50",
   "metadata": {},
   "source": [
    "---\n",
    "# Convert Radar Gauge\n",
    "---"
   ]
  },
  {
   "cell_type": "code",
   "execution_count": 1,
   "id": "5f2885e7-0753-4b2c-bf0b-706c23a2aefd",
   "metadata": {},
   "outputs": [],
   "source": [
    "import os\n",
    "from multiprocessing import Process\n",
    "import datetime\n",
    "import subprocess\n",
    "import xarray as xr\n",
    "\n",
    "from src.util import fix_ds"
   ]
  },
  {
   "cell_type": "code",
   "execution_count": null,
   "id": "dd800c8b-8dc7-4dd4-ac47-05c20de8d094",
   "metadata": {},
   "outputs": [],
   "source": []
  },
  {
   "cell_type": "code",
   "execution_count": 2,
   "id": "a9c66e8c-4295-442f-b579-dc8fdf70de7a",
   "metadata": {},
   "outputs": [],
   "source": [
    "def bin2nc(dt, wgrib2='/home/yoshimi/grib2/wgrib2/wgrib2',\n",
    "           save_path='/media/yoshimi/9E9401BB94019745/pixel/garadar'):\n",
    "    # bin file\n",
    "    bin_file = dt.strftime('/media/yoshimi/9E9401BB94019745/JMA/DATA/%Y/%m/%d/Z__C_RJTD_%Y%m%d%H%M%S_SRF_GPV_Ggis1km_Prr60lv_ANAL_grib2.bin')\n",
    "    if not os.path.isfile(bin_file):\n",
    "        return\n",
    "    # convert\n",
    "    date = dt.strftime('%Y_%m_%d_%H_%M')\n",
    "    nc_file = f'{save_path}/{date}.nc'\n",
    "    subprocess.run([wgrib2, bin_file, '-netcdf', nc_file])\n",
    "    \n",
    "    # compress\n",
    "    ds = xr.load_dataset(nc_file)\n",
    "    ds = fix_ds(ds)\n",
    "    comp = dict(zlib=True, complevel=9)\n",
    "    encoding = {var: comp for var in ds.data_vars}\n",
    "    ds.to_netcdf(nc_file, encoding=encoding)"
   ]
  },
  {
   "cell_type": "code",
   "execution_count": 3,
   "id": "9770ba56-4291-44d6-85b5-4c5267050233",
   "metadata": {},
   "outputs": [],
   "source": [
    "def convert_garadar(start, end, num='30', timescale='minutes', \n",
    "                    wgrib2='/home/yoshimi/grib2/wgrib2/wgrib2',\n",
    "                    save_path='/media/yoshimi/9E9401BB94019745/pixel/garadar'):\n",
    "    dt = datetime.datetime.strptime(start, '%Y/%m/%d %H:%M:%S')\n",
    "    dt_limit = datetime.datetime.strptime(end, '%Y/%m/%d %H:%M:%S')\n",
    "    \n",
    "    while dt < dt_limit:\n",
    "        bin2nc(dt, wgrib2=wgrib2, save_path=save_path)\n",
    "        dt = dt + eval('datetime.timedelta(' + timescale + '=' + num + ')')"
   ]
  },
  {
   "cell_type": "code",
   "execution_count": 4,
   "id": "37ee3f22-6fc3-4c6e-ac5f-63934655d98a",
   "metadata": {},
   "outputs": [],
   "source": [
    "dates = ['2010/01/01 00:00:00', \n",
    "         '2011/01/01 00:00:00', \n",
    "         '2012/01/01 00:00:00', \n",
    "         '2013/01/01 00:00:00', \n",
    "         '2014/01/01 00:00:00', \n",
    "         '2015/01/01 00:00:00', \n",
    "         '2016/01/01 00:00:00', \n",
    "         '2017/01/01 00:00:00', \n",
    "         '2018/01/01 00:00:00', \n",
    "         '2019/01/01 00:00:00', \n",
    "         '2020/01/01 00:00:00', \n",
    "         '2021/01/01 00:00:00']\n",
    "process_num = len(dates) - 1 "
   ]
  },
  {
   "cell_type": "code",
   "execution_count": null,
   "id": "3f09f7ee-880f-42fa-8ea6-b849e093ed6f",
   "metadata": {},
   "outputs": [],
   "source": [
    "%%capture\n",
    "process_list = []\n",
    "for i in range(process_num):\n",
    "    process = Process(\n",
    "        target=convert_garadar,\n",
    "        kwargs={'start':dates[i],\n",
    "                'end':dates[i+1]})\n",
    "    \n",
    "    process.start()\n",
    "    process_list.append(process)\n",
    "\n",
    "for process in process_list:\n",
    "    process.join()"
   ]
  }
 ],
 "metadata": {
  "kernelspec": {
   "display_name": "Python 3 (ipykernel)",
   "language": "python",
   "name": "python3"
  },
  "language_info": {
   "codemirror_mode": {
    "name": "ipython",
    "version": 3
   },
   "file_extension": ".py",
   "mimetype": "text/x-python",
   "name": "python",
   "nbconvert_exporter": "python",
   "pygments_lexer": "ipython3",
   "version": "3.9.12"
  }
 },
 "nbformat": 4,
 "nbformat_minor": 5
}
