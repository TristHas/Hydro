{
 "cells": [
  {
   "cell_type": "markdown",
   "id": "187067fe-c6b0-4bcf-bf3e-4e6648fe7007",
   "metadata": {},
   "source": [
    "---\n",
    "# Download Echo GPV\n",
    "---"
   ]
  },
  {
   "cell_type": "code",
   "execution_count": 3,
   "id": "f7d65187-97cc-4692-9b98-322c5757c7a3",
   "metadata": {},
   "outputs": [],
   "source": [
    "from multiprocessing import Process\n",
    "import subprocess\n",
    "import datetime\n",
    "from pathlib import Path\n",
    "import xarray as xr\n",
    "\n",
    "from src.Ggis1km_downloder import Downloader\n",
    "from src.util import fix_ds"
   ]
  },
  {
   "cell_type": "code",
   "execution_count": 4,
   "id": "ee47962e-3018-42b7-a6f9-b02de1065dcd",
   "metadata": {},
   "outputs": [],
   "source": [
    "def convert2nc(bin_file, wgrib2='/home/yoshimi/grib2/wgrib2/wgrib2'):\n",
    "    nc_file = bin_file.split('.')[0] + \".nc\"\n",
    "    subprocess.run([wgrib2, bin_file, '-netcdf', nc_file])\n",
    "    \n",
    "    ds = xr.load_dataset(nc_file)\n",
    "    ds = fix_ds(ds)\n",
    "    comp = dict(zlib=True, complevel=9)\n",
    "    encoding = {var: comp for var in ds.data_vars}\n",
    "    ds.to_netcdf(nc_file, encoding=encoding)\n",
    "    \n",
    "    subprocess.run(['rm', bin_file]) \n",
    "\n",
    "def download_gpv(start, end, num='10', timescale='minutes', tar_path='./tar', bin_path='/media/yoshimi/9E9401BB94019745/pixel/radar'):\n",
    "    dt = datetime.datetime.strptime(start, '%Y/%m/%d %H:%M:%S')\n",
    "    dt_limit = datetime.datetime.strptime(end, '%Y/%m/%d %H:%M:%S')\n",
    "    \n",
    "    downloader = Downloader(tar_path, bin_path)\n",
    "    while dt < dt_limit:\n",
    "        downloader.set_date(dt)\n",
    "        if downloader.get_bin_file():\n",
    "            convert2nc(downloader.bin_file_path)\n",
    "        dt = dt + eval('datetime.timedelta(' + timescale + '=' + num + ')')"
   ]
  },
  {
   "cell_type": "code",
   "execution_count": 5,
   "id": "199a543a-f586-4b96-a449-f68331afd304",
   "metadata": {},
   "outputs": [],
   "source": [
    "dates = ['2010/01/01 00:00:00', \n",
    "         '2011/01/01 00:00:00', \n",
    "         '2012/01/01 00:00:00', \n",
    "         '2013/01/01 00:00:00', \n",
    "         '2014/01/01 00:00:00', \n",
    "         '2015/01/01 00:00:00', \n",
    "         '2016/01/01 00:00:00', \n",
    "         '2017/01/01 00:00:00', \n",
    "         '2018/01/01 00:00:00', \n",
    "         '2019/01/01 00:00:00', \n",
    "         '2020/01/01 00:00:00', \n",
    "         '2021/01/01 00:00:00', ]\n",
    "process_num = len(dates) - 1 "
   ]
  },
  {
   "cell_type": "code",
   "execution_count": null,
   "id": "99592cb3-e517-4854-879f-fae6a0c9b667",
   "metadata": {},
   "outputs": [],
   "source": [
    "%%capture\n",
    "process_list = []\n",
    "for i in range(process_num):\n",
    "    process = Process(\n",
    "        target=download_gpv,\n",
    "        kwargs={'start':dates[i],\n",
    "                'end':dates[i+1]})\n",
    "    \n",
    "    process.start()\n",
    "    process_list.append(process)\n",
    "\n",
    "for process in process_list:\n",
    "    process.join()"
   ]
  }
 ],
 "metadata": {
  "kernelspec": {
   "display_name": "Python 3 (ipykernel)",
   "language": "python",
   "name": "python3"
  },
  "language_info": {
   "codemirror_mode": {
    "name": "ipython",
    "version": 3
   },
   "file_extension": ".py",
   "mimetype": "text/x-python",
   "name": "python",
   "nbconvert_exporter": "python",
   "pygments_lexer": "ipython3",
   "version": "3.9.12"
  }
 },
 "nbformat": 4,
 "nbformat_minor": 5
}
