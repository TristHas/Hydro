{
 "cells": [
  {
   "cell_type": "code",
   "execution_count": 1,
   "id": "c6fe87e0-74f6-49cc-b6a3-1e56e0edf4e2",
   "metadata": {},
   "outputs": [],
   "source": [
    "from multiprocessing import Process\n",
    "from Ggis1km_downloder import Downloader\n",
    "\n",
    "import datetime"
   ]
  },
  {
   "cell_type": "code",
   "execution_count": 2,
   "id": "728ec070-667d-48ff-8d57-914aa9f3178a",
   "metadata": {},
   "outputs": [],
   "source": [
    "def download_gpv(start, end, num='10', timescale='minutes', tar_path='./tar', bin_path='./radar'):\n",
    "    dt = datetime.datetime.strptime(start, '%Y/%m/%d %H:%M:%S')\n",
    "    dt_limit = datetime.datetime.strptime(end, '%Y/%m/%d %H:%M:%S')\n",
    "    \n",
    "    downloader = Downloader(tar_path, bin_path)\n",
    "    while dt < dt_limit:\n",
    "        downloader.set_date(dt)\n",
    "        downloader.get_bin_file()\n",
    "        dt = dt + eval('datetime.timedelta(' + timescale + '=' + num + ')')"
   ]
  },
  {
   "cell_type": "code",
   "execution_count": 3,
   "id": "eed2f4ab-c65f-4b91-bb14-7fb48fa7d1e9",
   "metadata": {},
   "outputs": [],
   "source": [
    "dates = ['2014/01/01 00:00:00', \n",
    "         '2014/02/01 00:00:00',\n",
    "         '2014/03/01 00:00:00',\n",
    "         '2014/04/01 00:00:00']\n",
    "process_num = len(dates) - 1 \n",
    "\n",
    "%%time\n",
    "process_list = []\n",
    "for i in range(process_num):\n",
    "    process = Process(\n",
    "        target=download_gpv,\n",
    "        kwargs={'start':dates[i],\n",
    "                'end':dates[i+1]})\n",
    "    \n",
    "    process.start()\n",
    "    process_list.append(process)\n",
    "\n",
    "for process in process_list:\n",
    "    process.join()"
   ]
  }
 ],
 "metadata": {
  "kernelspec": {
   "display_name": "Python 3 (ipykernel)",
   "language": "python",
   "name": "python3"
  },
  "language_info": {
   "codemirror_mode": {
    "name": "ipython",
    "version": 3
   },
   "file_extension": ".py",
   "mimetype": "text/x-python",
   "name": "python",
   "nbconvert_exporter": "python",
   "pygments_lexer": "ipython3",
   "version": "3.8.11"
  }
 },
 "nbformat": 4,
 "nbformat_minor": 5
}
