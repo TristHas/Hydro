{
 "cells": [
  {
   "cell_type": "markdown",
   "id": "bef2cfe5-da5e-4bee-9163-0294c21f1549",
   "metadata": {},
   "source": [
    "# Modules"
   ]
  },
  {
   "cell_type": "code",
   "execution_count": 4,
   "id": "2b8fafde-37cc-463f-a178-4c301e89dad1",
   "metadata": {
    "tags": []
   },
   "outputs": [],
   "source": [
    "import sys, os, datetime\n",
    "sys.path.append(\"../src\")\n",
    "\n",
    "import numpy as np\n",
    "import pandas as pd\n",
    "from sklearn.neural_network import MLPRegressor\n",
    "from sklearn.linear_model import LinearRegression\n",
    "from sklearn.ensemble import RandomForestRegressor\n",
    "from sklearn.model_selection import GridSearchCV\n",
    "import xgboost as xgb\n",
    "\n",
    "from dataset import ds_generator\n",
    "from config import data_configuration\n",
    "from exp_helpers import result_path, format_results"
   ]
  },
  {
   "cell_type": "markdown",
   "id": "53ee9026-9c9e-4342-a562-9990069811a8",
   "metadata": {
    "tags": []
   },
   "source": [
    "## config"
   ]
  },
  {
   "cell_type": "code",
   "execution_count": 5,
   "id": "1f2a17a3-b91f-4c3f-8346-4840683a1beb",
   "metadata": {},
   "outputs": [],
   "source": [
    "# get calucurete index\n",
    "df = pd.read_pickle('data_details.pkl')\n",
    "idxs = df[~(df['lack of data']) & (df['network exist']) & ~(df['other dams']) & (df['gauge available'])].index"
   ]
  },
  {
   "cell_type": "code",
   "execution_count": 6,
   "id": "dd7ad451-4678-421c-9b41-d8ba7b9d9731",
   "metadata": {},
   "outputs": [],
   "source": [
    "# model setting\n",
    "mlp = MLPRegressor(max_iter=1000,learning_rate_init=0.005,random_state=2021)\n",
    "rf = RandomForestRegressor(random_state=2021)\n",
    "xgboost = xgb.XGBRegressor()\n",
    "# model = lgb.LGBMRegressor(seed=0)\n",
    "reg_cv = GridSearchCV(xgboost, {'max_depth': [2,4,6], 'n_estimators': [50,100,200]}, verbose=1)\n",
    "\n",
    "models = {'mlp':mlp, 'rf':rf, 'xgb':xgboost}"
   ]
  },
  {
   "cell_type": "markdown",
   "id": "af9ac458-9516-40f6-a3b7-44bef74bcf56",
   "metadata": {},
   "source": [
    "## Prediction"
   ]
  },
  {
   "cell_type": "code",
   "execution_count": null,
   "id": "84fe8e4c-21de-4de1-a4bc-0528be47d708",
   "metadata": {
    "collapsed": true,
    "jupyter": {
     "outputs_hidden": true
    },
    "tags": []
   },
   "outputs": [
    {
     "data": {
      "application/vnd.jupyter.widget-view+json": {
       "model_id": "69f03625b14e4feaa48a949240e0187d",
       "version_major": 2,
       "version_minor": 0
      },
      "text/plain": [
       "  0%|          | 0/86 [00:00<?, ?it/s]"
      ]
     },
     "metadata": {},
     "output_type": "display_data"
    }
   ],
   "source": [
    "mean = lambda x: x.mean(1) if isinstance(x, pd.DataFrame) else x\n",
    "results = {}\n",
    "\n",
    "for model_name, model in models.items():\n",
    "    config_args = data_configuration(rain_obs='msm', pca_exec=False, model=model_name)\n",
    "    \n",
    "    # make directory\n",
    "    dirname = result_path(config_args)\n",
    "    os.makedirs(dirname, exist_ok=True)\n",
    "    \n",
    "    for (idx, te_ds, train_x, train_y, train_date, val_x, val_y, val_date,\n",
    "         test_x, test_y, test_date) in ds_generator(idxs, **config_args):\n",
    "\n",
    "\n",
    "        if isinstance(model, xgb.XGBRegressor):\n",
    "            reg_cv.fit(val_x, val_y)\n",
    "            model = xgb.XGBRegressor(**reg_cv.best_params_)\n",
    "\n",
    "\n",
    "        model.fit(train_x, train_y)\n",
    "        predict = model.predict(test_x)\n",
    "        result = format_results(predict, test_y, te_ds, test_date)\n",
    "        result.to_pickle(f\"{dirname}/{idx}.pkl\")"
   ]
  }
 ],
 "metadata": {
  "kernelspec": {
   "display_name": "Python 3 (ipykernel)",
   "language": "python",
   "name": "python3"
  },
  "language_info": {
   "codemirror_mode": {
    "name": "ipython",
    "version": 3
   },
   "file_extension": ".py",
   "mimetype": "text/x-python",
   "name": "python",
   "nbconvert_exporter": "python",
   "pygments_lexer": "ipython3",
   "version": "3.8.11"
  }
 },
 "nbformat": 4,
 "nbformat_minor": 5
}
