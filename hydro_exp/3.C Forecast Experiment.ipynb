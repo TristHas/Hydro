{
 "cells": [
  {
   "cell_type": "markdown",
   "id": "d7c0e208-1794-49dd-a707-0631e1f0875a",
   "metadata": {
    "tags": []
   },
   "source": [
    "# Modules"
   ]
  },
  {
   "cell_type": "code",
   "execution_count": 1,
   "id": "28a625c6-d983-4472-8a31-7304f46b0ee2",
   "metadata": {
    "tags": []
   },
   "outputs": [],
   "source": [
    "import sys\n",
    "sys.path.append(\"../src\")\n",
    "\n",
    "import numpy as np\n",
    "import pandas as pd\n",
    "\n",
    "from config import data_configuration\n",
    "from exp_helpers import execute_forecast_exp"
   ]
  },
  {
   "cell_type": "markdown",
   "id": "e110b062-ae56-4a89-b03c-dee01fc3bd82",
   "metadata": {},
   "source": [
    "# config"
   ]
  },
  {
   "cell_type": "code",
   "execution_count": 2,
   "id": "1421287b-c956-433c-9806-6076c2b36920",
   "metadata": {},
   "outputs": [],
   "source": [
    "horizons = np.arange(73)\n",
    "\n",
    "df = pd.read_pickle('data_details.pkl')\n",
    "idxs = df[~(df['lack of data']) & (df['network exist']) & ~(df['other dams']) & (df['gauge available'])].index"
   ]
  },
  {
   "cell_type": "markdown",
   "id": "2e745fd9-cc73-4422-a4fe-050c4c2f34dd",
   "metadata": {
    "tags": []
   },
   "source": [
    "# Experiment"
   ]
  },
  {
   "cell_type": "markdown",
   "id": "8ef4e733-a07c-4197-8255-9df10b62bb2e",
   "metadata": {
    "tags": []
   },
   "source": [
    "### JMA Forecast (GSM) + Past Discharge"
   ]
  },
  {
   "cell_type": "code",
   "execution_count": null,
   "id": "68525df3-8b1f-464f-a83a-03c3d3626fda",
   "metadata": {},
   "outputs": [],
   "source": [
    "config_args = data_configuration(past=4, horizon=3, observed_hour=0, hourly=True, res_dir='fcst_result/pd_jma-pf', rain_obs='gauge',\n",
    "                                 input_discharge=True, input_snmlt=True, input_month=True,input_fcst=True, pca_exec='pca')\n",
    "\n",
    "for horizon in horizons:\n",
    "    config_args['horizon'] = int(horizon)\n",
    "    execute_forecast_exp(idxs, **config_args)"
   ]
  },
  {
   "cell_type": "markdown",
   "id": "bf062c22-00ed-41fd-bcdf-a78421910039",
   "metadata": {
    "tags": []
   },
   "source": [
    "### Past Discharge"
   ]
  },
  {
   "cell_type": "code",
   "execution_count": null,
   "id": "de25a144-09ae-4708-9daf-828d2da3454d",
   "metadata": {},
   "outputs": [],
   "source": [
    "config_args = data_configuration(past=4, horizon=3, observed_hour=0, hourly=True, res_dir='fcst_result/pd', rain_obs='gauge',\n",
    "                                 input_discharge=True, input_snmlt=True, input_month=True,input_fcst=False, pca_exec='pca')\n",
    "\n",
    "for horizon in horizons:\n",
    "    config_args['horizon'] = int(horizon)\n",
    "    execute_forecast_exp(idxs, **config_args)"
   ]
  },
  {
   "cell_type": "markdown",
   "id": "fab65a43-b85c-47b8-aad6-bcb076a2cd72",
   "metadata": {
    "tags": []
   },
   "source": [
    "### JMA Forecast (GSM)"
   ]
  },
  {
   "cell_type": "code",
   "execution_count": 22,
   "id": "c48da342-3174-49f5-bab0-da8864fdf080",
   "metadata": {
    "tags": []
   },
   "outputs": [],
   "source": [
    "config_args = data_configuration(past=4, horizon=3, observed_hour=0, hourly=True, res_dir='fcst_result/jma-pf', rain_obs='gauge',\n",
    "                                 input_discharge=False, input_snmlt=True, input_month=True,input_fcst=True, pca_exec='pca')\n",
    "\n",
    "for horizon in horizons:\n",
    "    config_args['horizon'] = int(horizon)\n",
    "    execute_forecast_exp(idxs, **config_args)"
   ]
  },
  {
   "cell_type": "markdown",
   "id": "3a0b6bbf-1ca5-4d58-8dc6-a3f6f9ff6905",
   "metadata": {
    "tags": []
   },
   "source": [
    "### Baseline"
   ]
  },
  {
   "cell_type": "code",
   "execution_count": 24,
   "id": "f519708c-aebf-4e35-aa54-86292af33d63",
   "metadata": {
    "tags": []
   },
   "outputs": [],
   "source": [
    "config_args = data_configuration(past=4, horizon=3, observed_hour=0, hourly=True, res_dir='fcst_result/baseline', rain_obs='gauge',\n",
    "                                 input_discharge=False, input_snmlt=True, input_month=True,input_fcst=False, pca_exec='pca')\n",
    "\n",
    "for horizon in horizons:\n",
    "    config_args['horizon'] = int(horizon)\n",
    "    execute_forecast_exp(idxs, **config_args)"
   ]
  },
  {
   "cell_type": "markdown",
   "id": "e03c522e-2eec-433b-955e-229e2940a2c0",
   "metadata": {
    "tags": []
   },
   "source": [
    "### Ideal Precipitation Forecast + Past Discharge"
   ]
  },
  {
   "cell_type": "code",
   "execution_count": 3,
   "id": "bb2e6368-0c92-4b30-a728-7b280079cf12",
   "metadata": {},
   "outputs": [],
   "source": [
    "config_args = data_configuration(past=4, horizon=0, observed_hour=0, hourly=True, res_dir='fcst_result/pd_ideal-pf',\n",
    "                                 input_discharge=True, input_snmlt=True, input_month=True,input_fcst=True, fcst_data='perfect', pca_exec='pca')\n",
    "\n",
    "for horizon in horizons:\n",
    "    config_args['horizon'] = int(horizon)\n",
    "    execute_forecast_exp(idxs, **config_args)"
   ]
  },
  {
   "cell_type": "markdown",
   "id": "69876078-775e-4378-9bad-38de0ced445d",
   "metadata": {
    "tags": []
   },
   "source": [
    "### Ideal Precipitation Forecast"
   ]
  },
  {
   "cell_type": "code",
   "execution_count": 9,
   "id": "5ff31f68-6561-423f-bac8-73dfb322b406",
   "metadata": {},
   "outputs": [],
   "source": [
    "config_args = data_configuration(past=4, horizon=0, observed_hour=0, hourly=True, res_dir='fcst_result/ideal-pf,\n",
    "                                 input_discharge=False, input_snmlt=True, input_month=True,input_fcst=True, fcst_data='perfect', pca_exec='pca')\n",
    "\n",
    "for horizon in horizons:\n",
    "    config_args['horizon'] = int(horizon)\n",
    "    execute_forecast_exp(idxs, **config_args)"
   ]
  }
 ],
 "metadata": {
  "kernelspec": {
   "display_name": "Python 3 (ipykernel)",
   "language": "python",
   "name": "python3"
  },
  "language_info": {
   "codemirror_mode": {
    "name": "ipython",
    "version": 3
   },
   "file_extension": ".py",
   "mimetype": "text/x-python",
   "name": "python",
   "nbconvert_exporter": "python",
   "pygments_lexer": "ipython3",
   "version": "3.8.11"
  }
 },
 "nbformat": 4,
 "nbformat_minor": 5
}
