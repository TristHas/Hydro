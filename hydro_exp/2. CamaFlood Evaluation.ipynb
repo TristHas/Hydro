{
 "cells": [
  {
   "cell_type": "code",
   "execution_count": 1,
   "id": "2b8fafde-37cc-463f-a178-4c301e89dad1",
   "metadata": {},
   "outputs": [],
   "source": [
    "import sys\n",
    "sys.path.append(\"../src\")\n",
    "from dataio import *\n",
    "from metric import *\n",
    "import datetime\n",
    "import pandas as pd\n",
    "from matplotlib import pyplot as plt\n",
    "import geopandas as gpd"
   ]
  },
  {
   "cell_type": "code",
   "execution_count": 2,
   "id": "5af5843a-f4fd-4c95-a6b8-9f7d2f13c2e7",
   "metadata": {},
   "outputs": [],
   "source": [
    "def make_df(idx,daily=False):\n",
    "    rivout = load_dam_rivout(idx,daily=daily)\n",
    "    \n",
    "    discharge = load_dam_discharge(idx)\n",
    "    discharge = pd.concat(load_dam_discharge(idx))\n",
    "    #processing missing data\n",
    "    discharge[discharge<0] = np.nan\n",
    "    discharge.fillna(method='ffill',inplace=True,limit=3)\n",
    "    discharge.dropna(inplace=True)\n",
    "    #match timezone\n",
    "    discharge.index -= datetime.timedelta(hours=9)\n",
    "    if daily:\n",
    "        discharge.index = discharge.index.date\n",
    "        discharge.index.name = 'date'\n",
    "        discharge = discharge.groupby(level=['date']).mean()\n",
    "        discharge.index = pd.to_datetime(discharge.index)\n",
    "    \n",
    "    df = pd.concat([rivout,discharge],axis=1)\n",
    "    df = df.dropna(how='any')\n",
    "    df.columns=['x','y']\n",
    "    return df "
   ]
  },
  {
   "cell_type": "code",
   "execution_count": 3,
   "id": "3e2e6baa-0bc4-4a46-8e01-fb6dc20db334",
   "metadata": {},
   "outputs": [],
   "source": [
    "df = pd.read_pickle('data_details.pkl')\n",
    "idxs = df[~(df['lack of data']) & (df['network exist']) & ~(df['other dams'])].index"
   ]
  },
  {
   "cell_type": "markdown",
   "id": "79c02d7e-79d5-4b96-affa-ecfab1a43853",
   "metadata": {
    "tags": []
   },
   "source": [
    "## 1. Daily Evaluation"
   ]
  },
  {
   "cell_type": "markdown",
   "id": "d2012d67-4e86-4620-828b-2c7127b95d87",
   "metadata": {
    "tags": []
   },
   "source": [
    "### 1.1 Total error"
   ]
  },
  {
   "cell_type": "code",
   "execution_count": 4,
   "id": "120e1dce-4591-4f43-b477-8902f0ad5386",
   "metadata": {},
   "outputs": [],
   "source": [
    "from sklearn.linear_model import LinearRegression\n",
    "from tqdm import tqdm"
   ]
  },
  {
   "cell_type": "code",
   "execution_count": 95,
   "id": "475b28e9-c839-4bbe-b486-1ef29fa6ba07",
   "metadata": {
    "tags": []
   },
   "outputs": [
    {
     "name": "stderr",
     "output_type": "stream",
     "text": [
      "100%|███████████████████████████████████████████| 91/91 [00:41<00:00,  2.18it/s]\n"
     ]
    }
   ],
   "source": [
    "dam_id,ms,ns,kg = [],[],[],[]\n",
    "num = []\n",
    "results = {}\n",
    "\n",
    "for idx in tqdm(idxs):\n",
    "    df = make_df(idx,daily=True)\n",
    "    x = df.values[:,0].reshape(-1, 1)\n",
    "    y = df.values[:,1].reshape(-1, 1)\n",
    "    \n",
    "    msk_tr = df.index<datetime.datetime(2018,9,1)\n",
    "    tr_idx = np.where(msk_tr)[0]\n",
    "    te_idx = np.where(~msk_tr)[0]\n",
    "\n",
    "    train_x, test_x = x[tr_idx], x[te_idx]\n",
    "    train_y, test_y = y[tr_idx], y[te_idx]\n",
    "    \n",
    "    lr = LinearRegression()\n",
    "    lr.fit(train_x,train_y)\n",
    "    predict = lr.predict(test_x)\n",
    "    \n",
    "    results[idx]=[mse(predict,test_y),\n",
    "                  nse(predict,test_y),\n",
    "                  kge(predict,test_y),\n",
    "                  test_y.mean()-predict.mean()]\n",
    "\n",
    "results = pd.DataFrame(results,index=['mse','ns','kge','bias']).T"
   ]
  },
  {
   "cell_type": "code",
   "execution_count": 66,
   "id": "cd47724a-0831-44f2-8ac2-fd09159774d2",
   "metadata": {},
   "outputs": [
    {
     "name": "stdout",
     "output_type": "stream",
     "text": [
      "mse     562.960839\n",
      "ns        0.513255\n",
      "kge       0.605075\n",
      "bias     -1.107193\n",
      "dtype: float64\n"
     ]
    },
    {
     "data": {
      "image/png": "[encoded data removed]",
      "text/plain": [
       "<Figure size 432x288 with 2 Axes>"
      ]
     },
     "metadata": {
      "needs_background": "light"
     },
     "output_type": "display_data"
    }
   ],
   "source": [
    "results[['ns','kge']].hist(range=[-3,1],bins=30)\n",
    "print(results.mean())"
   ]
  },
  {
   "cell_type": "markdown",
   "id": "fdf94f87-e6ea-4949-922b-4d8e811e6fed",
   "metadata": {
    "tags": []
   },
   "source": [
    "### 1.2 Seasonal effects"
   ]
  },
  {
   "cell_type": "code",
   "execution_count": 43,
   "id": "6905e7fc-342e-44f9-af33-185342f91477",
   "metadata": {
    "collapsed": true,
    "jupyter": {
     "outputs_hidden": true
    },
    "tags": []
   },
   "outputs": [
    {
     "name": "stderr",
     "output_type": "stream",
     "text": [
      "  2%|▉                                           | 2/91 [00:01<00:46,  1.92it/s]/home/yoshimi/anaconda3/lib/python3.8/site-packages/numpy/lib/function_base.py:2642: RuntimeWarning: invalid value encountered in true_divide\n",
      "  c /= stddev[:, None]\n",
      "/home/yoshimi/anaconda3/lib/python3.8/site-packages/numpy/lib/function_base.py:2643: RuntimeWarning: invalid value encountered in true_divide\n",
      "  c /= stddev[None, :]\n",
      "  4%|█▉                                          | 4/91 [00:02<00:44,  1.96it/s]/home/yoshimi/anaconda3/lib/python3.8/site-packages/numpy/lib/function_base.py:2642: RuntimeWarning: invalid value encountered in true_divide\n",
      "  c /= stddev[:, None]\n",
      "/home/yoshimi/anaconda3/lib/python3.8/site-packages/numpy/lib/function_base.py:2643: RuntimeWarning: invalid value encountered in true_divide\n",
      "  c /= stddev[None, :]\n",
      "100%|███████████████████████████████████████████| 91/91 [00:43<00:00,  2.10it/s]\n"
     ]
    }
   ],
   "source": [
    "monthly_ns = {}\n",
    "monthly_kge = {}\n",
    "\n",
    "for idx in tqdm(idxs):\n",
    "    df = make_df(idx)\n",
    "    x = df.values[:,0].reshape(-1, 1)\n",
    "    y = df.values[:,1].reshape(-1, 1)\n",
    "    \n",
    "    msk_tr = df.index<datetime.datetime(2018,9,1)\n",
    "    tr_idx = np.where(msk_tr)[0]\n",
    "    te_idx = np.where(~msk_tr)[0]\n",
    "    \n",
    "    test_time = df.index[~msk_tr]\n",
    "\n",
    "    train_x, test_x = x[tr_idx], x[te_idx]\n",
    "    train_y, test_y = y[tr_idx], y[te_idx]\n",
    "    \n",
    "    lr = LinearRegression()\n",
    "    lr.fit(train_x,train_y)\n",
    "    predict = lr.predict(test_x)\n",
    "    \n",
    "    temp_ns,temp_kge = [],[]\n",
    "    for month in range(1,13):\n",
    "#         temp_ns.append(nse(predict[test_time.month==month],test_y[test_time.month==month]))\n",
    "        temp_kge.append(kge(predict[test_time.month==month],test_y[test_time.month==month]))\n",
    "    \n",
    "    monthly_ns[idx] = temp_ns\n",
    "    monthly_kge[idx] = temp_kge\n",
    "    \n",
    "monthly_ns = pd.DataFrame(monthly_ns).T\n",
    "monthly_kge = pd.DataFrame(monthly_kge).T"
   ]
  },
  {
   "cell_type": "code",
   "execution_count": 45,
   "id": "94ff2867-072b-4eff-9436-944db151cda4",
   "metadata": {},
   "outputs": [
    {
     "data": {
      "image/png": "[encoded data removed]",
      "text/plain": [
       "<Figure size 432x288 with 1 Axes>"
      ]
     },
     "metadata": {
      "needs_background": "light"
     },
     "output_type": "display_data"
    }
   ],
   "source": [
    "plt.plot(range(1,13),monthly_kge.mean(axis=0))\n",
    "plt.title('Seasonal effects')\n",
    "plt.xlabel(\"month\")\n",
    "plt.ylabel(\"KGE\")\n",
    "plt.show()"
   ]
  },
  {
   "cell_type": "markdown",
   "id": "27fd1857-a912-42ec-b7d8-f700c4973260",
   "metadata": {},
   "source": [
    "### 1.3 latitude effects"
   ]
  },
  {
   "cell_type": "code",
   "execution_count": 77,
   "id": "670f2250-17fd-43dd-9151-afce79042b60",
   "metadata": {},
   "outputs": [
    {
     "data": {
      "text/plain": [
       "(0.0, 1.0)"
      ]
     },
     "execution_count": 77,
     "metadata": {},
     "output_type": "execute_result"
    },
    {
     "data": {
      "image/png": "[encoded data removed]",
      "text/plain": [
       "<Figure size 432x288 with 1 Axes>"
      ]
     },
     "metadata": {
      "needs_background": "light"
     },
     "output_type": "display_data"
    }
   ],
   "source": [
    "details = load_dam_details()\n",
    "lt = [x[0] for x in details.loc[idxs,'coordinates'].values]\n",
    "\n",
    "plt.scatter(lt,results['kge'])\n",
    "plt.xlabel('latitude')\n",
    "plt.ylabel('KGE')\n",
    "plt.title('latitude effects')\n",
    "plt.ylim(0,1)"
   ]
  },
  {
   "cell_type": "markdown",
   "id": "f8836f4f-eda4-4170-b45f-c11955166d3b",
   "metadata": {
    "tags": []
   },
   "source": [
    "## 2. Hourly Evaluation"
   ]
  },
  {
   "cell_type": "code",
   "execution_count": 5,
   "id": "d5b7e991-1f82-4ea8-a98b-bea119d4ff2d",
   "metadata": {},
   "outputs": [
    {
     "name": "stderr",
     "output_type": "stream",
     "text": [
      "100%|███████████████████████████████████████████| 91/91 [00:38<00:00,  2.37it/s]\n"
     ]
    }
   ],
   "source": [
    "dam_id,ms,ns,kg = [],[],[],[]\n",
    "num = []\n",
    "results = {}\n",
    "\n",
    "for idx in tqdm(idxs):\n",
    "    df = make_df(idx,daily=False)\n",
    "    x = df.values[:,0].reshape(-1, 1)\n",
    "    y = df.values[:,1].reshape(-1, 1)\n",
    "    \n",
    "    results[idx]=[mse(x,y),\n",
    "                  nse(x,y),\n",
    "                  kge(x,y),\n",
    "                  y.mean()-x.mean()]\n",
    "\n",
    "results = pd.DataFrame(results,index=['mse','ns','kge','bias']).T"
   ]
  },
  {
   "cell_type": "code",
   "execution_count": 6,
   "id": "13fd489f-2291-4ecd-b2d7-8d9f103cc6bd",
   "metadata": {},
   "outputs": [
    {
     "name": "stdout",
     "output_type": "stream",
     "text": [
      "mse     2245.808097\n",
      "ns        -2.418089\n",
      "kge       -0.425351\n",
      "bias       7.201099\n",
      "dtype: float64\n"
     ]
    },
    {
     "data": {
      "image/png": "[encoded data removed]",
      "text/plain": [
       "<Figure size 432x288 with 2 Axes>"
      ]
     },
     "metadata": {
      "needs_background": "light"
     },
     "output_type": "display_data"
    }
   ],
   "source": [
    "results[['ns','kge']].hist(range=[-3,1],bins=30)\n",
    "print(results.mean())"
   ]
  }
 ],
 "metadata": {
  "kernelspec": {
   "display_name": "Python 3 (ipykernel)",
   "language": "python",
   "name": "python3"
  },
  "language_info": {
   "codemirror_mode": {
    "name": "ipython",
    "version": 3
   },
   "file_extension": ".py",
   "mimetype": "text/x-python",
   "name": "python",
   "nbconvert_exporter": "python",
   "pygments_lexer": "ipython3",
   "version": "3.8.11"
  }
 },
 "nbformat": 4,
 "nbformat_minor": 5
}
