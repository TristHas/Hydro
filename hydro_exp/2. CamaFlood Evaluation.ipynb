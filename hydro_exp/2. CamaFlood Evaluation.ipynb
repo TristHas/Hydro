{
 "cells": [
  {
   "cell_type": "code",
   "execution_count": 1,
   "id": "2b8fafde-37cc-463f-a178-4c301e89dad1",
   "metadata": {},
   "outputs": [],
   "source": [
    "import sys\n",
    "sys.path.append(\"../src\")\n",
    "from dataio import *\n",
    "from metric import *\n",
    "import datetime\n",
    "import pandas as pd\n",
    "from matplotlib import pyplot as plt\n",
    "import geopandas as gpd"
   ]
  },
  {
   "cell_type": "code",
   "execution_count": 3,
   "id": "91873b2d-2838-4cda-ba2c-320655a090f4",
   "metadata": {},
   "outputs": [],
   "source": [
    "dams = load_dam_details()"
   ]
  },
  {
   "cell_type": "markdown",
   "id": "79c02d7e-79d5-4b96-affa-ecfab1a43853",
   "metadata": {
    "tags": []
   },
   "source": [
    "\n",
    "### 1. Daily Evaluation"
   ]
  },
  {
   "cell_type": "markdown",
   "id": "d2012d67-4e86-4620-828b-2c7127b95d87",
   "metadata": {
    "tags": []
   },
   "source": [
    "##### 1.1 全体なエラー\n",
    "\n",
    "- Use the different metrics you have and present them in one clear plot\n",
    "- Compare with linear model"
   ]
  },
  {
   "cell_type": "code",
   "execution_count": 4,
   "id": "475b28e9-c839-4bbe-b486-1ef29fa6ba07",
   "metadata": {
    "tags": []
   },
   "outputs": [
    {
     "name": "stdout",
     "output_type": "stream",
     "text": [
      "no discharge data at 1368010325190\n",
      "no matching date at 1368020475240\n"
     ]
    },
    {
     "name": "stderr",
     "output_type": "stream",
     "text": [
      "/home/yoshimi/Hydro/hydro_exp/../src/metric.py:7: RuntimeWarning: divide by zero encountered in double_scalars\n",
      "  return 1 - mse(output,observed)/np.var(observed)\n",
      "/home/yoshimi/anaconda3/lib/python3.8/site-packages/numpy/lib/function_base.py:2642: RuntimeWarning: invalid value encountered in true_divide\n",
      "  c /= stddev[:, None]\n",
      "/home/yoshimi/anaconda3/lib/python3.8/site-packages/numpy/lib/function_base.py:2643: RuntimeWarning: invalid value encountered in true_divide\n",
      "  c /= stddev[None, :]\n",
      "/home/yoshimi/Hydro/hydro_exp/../src/metric.py:14: RuntimeWarning: divide by zero encountered in double_scalars\n",
      "  a = np.std(output)/np.std(observed)\n",
      "/home/yoshimi/Hydro/hydro_exp/../src/metric.py:15: RuntimeWarning: divide by zero encountered in double_scalars\n",
      "  b = np.mean(output)/np.mean(observed)\n"
     ]
    },
    {
     "name": "stdout",
     "output_type": "stream",
     "text": [
      "no discharge data at 1368080364020\n",
      "no matching date at 602111282217030\n"
     ]
    }
   ],
   "source": [
    "dam_id,ms,ns,kg = [],[],[],[]\n",
    "num = []\n",
    "\n",
    "for idx in dams.index:\n",
    "    #load data\n",
    "    rivout = load_dam_rivout(idx,daily=True)\n",
    "    rivout = rivout[rivout.index>=datetime.datetime(2018,9,1)]\n",
    "    discharge = load_dam_discharge(idx)\n",
    "    \n",
    "    if len(discharge)==0:\n",
    "        print(f\"no discharge data at {idx}\")\n",
    "        continue\n",
    "    discharge = pd.concat(load_dam_discharge(idx))\n",
    "    \n",
    "    #match timezone\n",
    "    discharge.index -= datetime.timedelta(hours=9)\n",
    "    \n",
    "    #use data after 2018/9/1 to to match hourly data\n",
    "    discharge = discharge[discharge.index >= datetime.datetime(2018,9,1)]\n",
    "    \n",
    "    #transform discharge to daily data \n",
    "    discharge.index = discharge.index.date\n",
    "    discharge.index.name = 'date'\n",
    "    discharge = discharge.groupby(level=['date']).mean()\n",
    "    discharge.index = pd.to_datetime(discharge.index)\n",
    "    \n",
    "    #calculate the data at the time when both rivout and discharge exist\n",
    "    rivout = rivout[rivout.index.isin(discharge.index)]\n",
    "    discharge = discharge[discharge.index.isin(rivout.index)]\n",
    "       \n",
    "    \n",
    "    if len(discharge)==0:\n",
    "        print(f\"no matching date at {idx}\")\n",
    "        continue\n",
    "        \n",
    "    dam_id.append(idx)\n",
    "    num.append(len(discharge))\n",
    "    ms.append(mse(rivout.values,discharge.values))\n",
    "    ns.append(nse(rivout.values,discharge.values))\n",
    "    kg.append(kge(rivout.values,discharge.values))"
   ]
  },
  {
   "cell_type": "markdown",
   "id": "e5cde156-8779-44e1-8e87-c1b86547ce68",
   "metadata": {},
   "source": [
    "#### problem \n",
    "there may be the data discharge is zero at the all calculating time ,so zero deviding is occured when calc variance.\n",
    "I don't know what to do, so I ignore this data for now"
   ]
  },
  {
   "cell_type": "code",
   "execution_count": 75,
   "id": "6e51dbb4-6816-481d-a9d5-4d57ec1ea64d",
   "metadata": {},
   "outputs": [],
   "source": [
    "err_table = pd.DataFrame({\"id\":dam_id,\"mse\":ms,\"ns\":ns,\"kge\":kg,}).set_index(\"id\")\n",
    "err_table = err_table.drop(index=1368050751020)"
   ]
  },
  {
   "cell_type": "code",
   "execution_count": 13,
   "id": "76970487-4120-49d7-97c4-d33122dbd388",
   "metadata": {},
   "outputs": [
    {
     "name": "stderr",
     "output_type": "stream",
     "text": [
      "/tmp/ipykernel_15271/3585593851.py:1: FutureWarning: Dropping of nuisance columns in DataFrame reductions (with 'numeric_only=None') is deprecated; in a future version this will raise TypeError.  Select only valid columns before calling the reduction.\n",
      "  err_table.mean(axis=0)\n"
     ]
    },
    {
     "data": {
      "text/plain": [
       "mse    8.254581e+06\n",
       "ns    -1.905544e+01\n",
       "kge   -7.061813e-01\n",
       "dtype: float64"
      ]
     },
     "execution_count": 13,
     "metadata": {},
     "output_type": "execute_result"
    }
   ],
   "source": [
    "err_table.mean(axis=0)"
   ]
  },
  {
   "cell_type": "code",
   "execution_count": null,
   "id": "0187dbc7-403c-404b-bc9f-8fef5e9c4cb2",
   "metadata": {},
   "outputs": [
    {
     "data": {
      "text/plain": [
       "<AxesSubplot:xlabel='ns', ylabel='kge'>"
      ]
     },
     "execution_count": 8,
     "metadata": {},
     "output_type": "execute_result"
    },
    {
     "data": {
      "image/png": "[encoded data removed]",
      "text/plain": [
       "<Figure size 432x288 with 1 Axes>"
      ]
     },
     "metadata": {
      "needs_background": "light"
     },
     "output_type": "display_data"
    }
   ],
   "source": [
    "err_table[err_table[\"ns\"]>-1].plot.scatter(x=\"ns\",y=\"kge\")"
   ]
  },
  {
   "cell_type": "markdown",
   "id": "d34463c2-8f80-41e0-9a69-8d75135f6282",
   "metadata": {
    "tags": []
   },
   "source": [
    "### check most fittin sample"
   ]
  },
  {
   "cell_type": "code",
   "execution_count": 84,
   "id": "958c3324-de47-44b2-b8e3-9f02d617a3c5",
   "metadata": {},
   "outputs": [
    {
     "data": {
      "image/png": "[encoded data removed]",
      "text/plain": [
       "<Figure size 432x288 with 1 Axes>"
      ]
     },
     "metadata": {
      "needs_background": "light"
     },
     "output_type": "display_data"
    }
   ],
   "source": [
    "idx = err_table[\"ns\"].idxmax()\n",
    "rivout = load_dam_rivout(idx,daily=True)\n",
    "rivout = rivout[rivout.index>=datetime.datetime(2018,9,1)]\n",
    "discharge = load_dam_discharge(idx)\n",
    "discharge = pd.concat(load_dam_discharge(idx))\n",
    "discharge.index -= datetime.timedelta(hours=9)\n",
    "discharge.index = discharge.index.date\n",
    "discharge.index.name = 'date'\n",
    "discharge = discharge.groupby(level=['date']).mean()\n",
    "discharge.index = pd.to_datetime(discharge.index)\n",
    "discharge = discharge[discharge.index >= datetime.datetime(2018,9,1)]\n",
    "rivout = rivout[rivout.index.isin(discharge.index)]\n",
    "discharge = discharge[discharge.index.isin(rivout.index)]\n",
    "\n",
    "plt.plot(discharge[:150])\n",
    "plt.plot(rivout[:150])\n",
    "plt.xticks(rotation=45)\n",
    "plt.show()"
   ]
  },
  {
   "cell_type": "markdown",
   "id": "0ac71755-3882-460d-afd4-99c1f88dccab",
   "metadata": {},
   "source": [
    "##### 1.２ ダムごとの分析\n",
    "\n",
    "- ダムごとのエラーの分布\n",
    "- うまく行ってるダムの共有点ありますか？　（ダムのサイズ、県など）\n",
    "- うまく行ってないダムの共有点ありますか？"
   ]
  },
  {
   "cell_type": "markdown",
   "id": "f8836f4f-eda4-4170-b45f-c11955166d3b",
   "metadata": {},
   "source": [
    "### 2. Hourly Evaluation"
   ]
  },
  {
   "cell_type": "code",
   "execution_count": null,
   "id": "8eb5e096-56fc-4825-a494-b4c752783084",
   "metadata": {},
   "outputs": [],
   "source": []
  },
  {
   "cell_type": "code",
   "execution_count": null,
   "id": "f7f15ef2-628d-4b1a-bdc9-9c9bfb11cc84",
   "metadata": {},
   "outputs": [],
   "source": []
  },
  {
   "cell_type": "code",
   "execution_count": null,
   "id": "05d987ea-7e7b-48a0-800d-a51746930d93",
   "metadata": {},
   "outputs": [],
   "source": []
  },
  {
   "cell_type": "code",
   "execution_count": null,
   "id": "506912c2-ff76-4243-a0d4-a86b14a0887f",
   "metadata": {},
   "outputs": [],
   "source": []
  }
 ],
 "metadata": {
  "kernelspec": {
   "display_name": "Python 3 (ipykernel)",
   "language": "python",
   "name": "python3"
  },
  "language_info": {
   "codemirror_mode": {
    "name": "ipython",
    "version": 3
   },
   "file_extension": ".py",
   "mimetype": "text/x-python",
   "name": "python",
   "nbconvert_exporter": "python",
   "pygments_lexer": "ipython3",
   "version": "3.8.11"
  }
 },
 "nbformat": 4,
 "nbformat_minor": 5
}
