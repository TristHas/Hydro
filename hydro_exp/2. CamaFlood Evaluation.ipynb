{
 "cells": [
  {
   "cell_type": "code",
   "execution_count": 1,
   "id": "2b8fafde-37cc-463f-a178-4c301e89dad1",
   "metadata": {},
   "outputs": [],
   "source": [
    "import sys\n",
    "sys.path.append(\"../src\")\n",
    "from dataio import load_dam_rivout, load_dam_discharge"
   ]
  },
  {
   "cell_type": "markdown",
   "id": "79c02d7e-79d5-4b96-affa-ecfab1a43853",
   "metadata": {},
   "source": [
    "\n",
    "### 1. Daily Evaluation"
   ]
  },
  {
   "cell_type": "markdown",
   "id": "d2012d67-4e86-4620-828b-2c7127b95d87",
   "metadata": {},
   "source": [
    "##### 1.1 全体なエラー\n",
    "\n",
    "- Use the different metrics you have and present them in one clear plot\n",
    "- Compare with linear model"
   ]
  },
  {
   "cell_type": "code",
   "execution_count": null,
   "id": "575ccaca-5d39-410c-a63f-6b2e10f9041f",
   "metadata": {},
   "outputs": [],
   "source": []
  },
  {
   "cell_type": "markdown",
   "id": "0ac71755-3882-460d-afd4-99c1f88dccab",
   "metadata": {
    "tags": []
   },
   "source": [
    "##### 1.２ ダムごとの分析\n",
    "\n",
    "- ダムごとのエラーの分布\n",
    "- うまく行ってるダムの共有点ありますか？　（ダムのサイズ、県など）\n",
    "- うまく行ってないダムの共有点ありますか？"
   ]
  },
  {
   "cell_type": "code",
   "execution_count": null,
   "id": "2f542016-55ca-4ef3-99aa-6b93f427065c",
   "metadata": {},
   "outputs": [],
   "source": []
  },
  {
   "cell_type": "markdown",
   "id": "62861726-103e-47fd-8e5d-bc0cdb12ece8",
   "metadata": {},
   "source": [
    "##### 1.3 季節の影響\n",
    "\n",
    "- 季節によってエラーはよく変わりますか？季節は大きく影響ありますか？\n",
    "- 月毎のエラープロット\n",
    "- 月の影響：error = f(雪とける)"
   ]
  },
  {
   "cell_type": "code",
   "execution_count": null,
   "id": "b3fd0a56-4d4f-40a4-95c9-eb232f6c830a",
   "metadata": {},
   "outputs": [],
   "source": []
  },
  {
   "cell_type": "markdown",
   "id": "f8836f4f-eda4-4170-b45f-c11955166d3b",
   "metadata": {},
   "source": [
    "### 2. Hourly Evaluation"
   ]
  },
  {
   "cell_type": "code",
   "execution_count": null,
   "id": "8eb5e096-56fc-4825-a494-b4c752783084",
   "metadata": {},
   "outputs": [],
   "source": []
  },
  {
   "cell_type": "code",
   "execution_count": null,
   "id": "f7f15ef2-628d-4b1a-bdc9-9c9bfb11cc84",
   "metadata": {},
   "outputs": [],
   "source": []
  },
  {
   "cell_type": "code",
   "execution_count": null,
   "id": "05d987ea-7e7b-48a0-800d-a51746930d93",
   "metadata": {},
   "outputs": [],
   "source": []
  },
  {
   "cell_type": "code",
   "execution_count": null,
   "id": "506912c2-ff76-4243-a0d4-a86b14a0887f",
   "metadata": {},
   "outputs": [],
   "source": []
  }
 ],
 "metadata": {
  "kernelspec": {
   "display_name": "Python 3 (ipykernel)",
   "language": "python",
   "name": "python3"
  },
  "language_info": {
   "codemirror_mode": {
    "name": "ipython",
    "version": 3
   },
   "file_extension": ".py",
   "mimetype": "text/x-python",
   "name": "python",
   "nbconvert_exporter": "python",
   "pygments_lexer": "ipython3",
   "version": "3.8.11"
  }
 },
 "nbformat": 4,
 "nbformat_minor": 5
}
