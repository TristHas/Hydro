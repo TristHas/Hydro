{
 "cells": [
  {
   "cell_type": "markdown",
   "id": "a65b00bc-2537-423b-bc68-e899a17cfd79",
   "metadata": {},
   "source": [
    "# Modules"
   ]
  },
  {
   "cell_type": "code",
   "execution_count": 3,
   "id": "8ddab2e3-64dd-42d5-9ce9-c39a93bc200a",
   "metadata": {},
   "outputs": [],
   "source": [
    "import sys \n",
    "\n",
    "from neuralhydrology.evaluation import metrics\n",
    "import pandas as pd \n",
    "\n",
    "import glob\n",
    "from pathlib import Path\n",
    "from tqdm.notebook import tqdm\n",
    "import numpy as np\n",
    "import datetime\n",
    "\n",
    "import hvplot.pandas"
   ]
  },
  {
   "cell_type": "code",
   "execution_count": 29,
   "id": "2494b9ca-2adf-4ad5-88ea-5e954762c5df",
   "metadata": {},
   "outputs": [],
   "source": [
    "def calc(path, val_end=datetime.datetime(2018, 9, 1, 0, 0)):\n",
    "    if 'ideal' in path:\n",
    "        resolution = '1H'\n",
    "    else:\n",
    "        resolution = '6H'\n",
    "    df = pd.read_pickle(path)\n",
    "    df = df[df.index > val_end]\n",
    "    df.index.name = 'date'\n",
    "    sim, obs = df.pred.to_xarray(), df.y.to_xarray()\n",
    "    return metrics.calculate_all_metrics(obs, sim, resolution=resolution, datetime_coord='date')\n",
    "\n",
    "def get_score(ex_dir):\n",
    "    horizons = np.arange(73)[::2]\n",
    "    score = {}\n",
    "    for horizon in tqdm(horizons):\n",
    "        res = {}\n",
    "        files = glob.glob(f'{ex_dir}/{horizon}/*')\n",
    "        for f in files:\n",
    "            idx = Path(f).stem\n",
    "            res[idx] = calc(f)\n",
    "        res = pd.DataFrame(res).T\n",
    "        score[horizon] = res.mean()\n",
    "\n",
    "\n",
    "    return pd.DataFrame(score).T"
   ]
  },
  {
   "cell_type": "markdown",
   "id": "9b6f3a5b-6149-480b-9ac2-57d113353ceb",
   "metadata": {},
   "source": [
    "# FIgures"
   ]
  },
  {
   "cell_type": "code",
   "execution_count": 30,
   "id": "759cf08b-4737-4924-8cad-53fd7a59e9b1",
   "metadata": {
    "tags": []
   },
   "outputs": [
    {
     "data": {
      "application/vnd.jupyter.widget-view+json": {
       "model_id": "fef2e3788a6a45b88e1b6213354c00c7",
       "version_major": 2,
       "version_minor": 0
      },
      "text/plain": [
       "  0%|          | 0/37 [00:00<?, ?it/s]"
      ]
     },
     "metadata": {},
     "output_type": "display_data"
    },
    {
     "data": {
      "application/vnd.jupyter.widget-view+json": {
       "model_id": "f7ab691459b848b7a89888d6475a945d",
       "version_major": 2,
       "version_minor": 0
      },
      "text/plain": [
       "  0%|          | 0/37 [00:00<?, ?it/s]"
      ]
     },
     "metadata": {},
     "output_type": "display_data"
    },
    {
     "data": {
      "application/vnd.jupyter.widget-view+json": {
       "model_id": "87d06eaaadca4baab5d4934cde6e601b",
       "version_major": 2,
       "version_minor": 0
      },
      "text/plain": [
       "  0%|          | 0/37 [00:00<?, ?it/s]"
      ]
     },
     "metadata": {},
     "output_type": "display_data"
    },
    {
     "data": {
      "application/vnd.jupyter.widget-view+json": {
       "model_id": "90228207ff6d4a59862da0cd1094b0c7",
       "version_major": 2,
       "version_minor": 0
      },
      "text/plain": [
       "  0%|          | 0/37 [00:00<?, ?it/s]"
      ]
     },
     "metadata": {},
     "output_type": "display_data"
    },
    {
     "data": {
      "application/vnd.jupyter.widget-view+json": {
       "model_id": "2fb77d0373884e7aab7a4994fcbd0e48",
       "version_major": 2,
       "version_minor": 0
      },
      "text/plain": [
       "  0%|          | 0/37 [00:00<?, ?it/s]"
      ]
     },
     "metadata": {},
     "output_type": "display_data"
    },
    {
     "data": {
      "application/vnd.jupyter.widget-view+json": {
       "model_id": "47a14177bc944ff3a9fb2379b89fbaf8",
       "version_major": 2,
       "version_minor": 0
      },
      "text/plain": [
       "  0%|          | 0/37 [00:00<?, ?it/s]"
      ]
     },
     "metadata": {},
     "output_type": "display_data"
    }
   ],
   "source": [
    "res_jma_pd = get_score('fcst_result/pd_jma-pf')\n",
    "res_jma = get_score('fcst_result/jma-pf')\n",
    "res_pd= get_score('fcst_result/pd')\n",
    "res_base = get_score('fcst_result/baseline')\n",
    "res_ideal_pd = get_score('fcst_result/pd_ideal-pf')\n",
    "res_ideal = get_score('fcst_result/ideal-pf')"
   ]
  },
  {
   "cell_type": "markdown",
   "id": "ed50a9c9-6c52-4330-b266-0b711e05b1a5",
   "metadata": {},
   "source": [
    "### NSE"
   ]
  },
  {
   "cell_type": "code",
   "execution_count": 36,
   "id": "f19ffa6c-9d44-4a45-8a97-7cdc6808dc42",
   "metadata": {},
   "outputs": [
    {
     "data": {},
     "metadata": {},
     "output_type": "display_data"
    },
    {
     "data": {
      "application/vnd.holoviews_exec.v0+json": "",
      "text/html": [
       "<div id='3791'>\n",
       "\n",
       "\n",
       "\n",
       "\n",
       "\n",
       "  <div class=\"bk-root\" id=\"e126b0ac-7c8b-40af-a2ec-b75b26878643\" data-root-id=\"3791\"></div>\n",
       "</div>\n",
       "<script type=\"application/javascript\">(function(root) {\n",
       "  function embed_document(root) {\n",
       "    var docs_json = {\"52e75e0d-33d0-4d8c-822b-ac29e07b2a1f\":{\"defs\":[{\"extends\":null,\"module\":null,\"name\":\"ReactiveHTML1\",\"overrides\":[],\"properties\":[]},{\"extends\":null,\"module\":null,\"name\":\"FlexBox1\",\"overrides\":[],\"properties\":[{\"default\":\"flex-start\",\"kind\":null,\"name\":\"align_content\"},{\"default\":\"flex-start\",\"kind\":null,\"name\":\"align_items\"},{\"default\":\"row\",\"kind\":null,\"name\":\"flex_direction\"},{\"default\":\"wrap\",\"kind\":null,\"name\":\"flex_wrap\"},{\"default\":\"flex-start\",\"kind\":null,\"name\":\"justify_content\"}]},{\"extends\":null,\"module\":null,\"name\":\"GridStack1\",\"overrides\":[],\"properties\":[{\"default\":\"warn\",\"kind\":null,\"name\":\"mode\"},{\"default\":null,\"kind\":null,\"name\":\"ncols\"},{\"default\":null,\"kind\":null,\"name\":\"nrows\"},{\"default\":true,\"kind\":null,\"name\":\"allow_resize\"},{\"default\":true,\"kind\":null,\"name\":\"allow_drag\"},{\"default\":[],\"kind\":null,\"name\":\"state\"}]},{\"extends\":null,\"module\":null,\"name\":\"click1\",\"overrides\":[],\"properties\":[{\"default\":\"\",\"kind\":null,\"name\":\"terminal_output\"},{\"default\":\"\",\"kind\":null,\"name\":\"debug_name\"},{\"default\":0,\"kind\":null,\"name\":\"clears\"}]},{\"extends\":null,\"module\":null,\"name\":\"NotificationAreaBase1\",\"overrides\":[],\"properties\":[{\"default\":\"bottom-right\",\"kind\":null,\"name\":\"position\"},{\"default\":0,\"kind\":null,\"name\":\"_clear\"}]},{\"extends\":null,\"module\":null,\"name\":\"NotificationArea1\",\"overrides\":[],\"properties\":[{\"default\":[],\"kind\":null,\"name\":\"notifications\"},{\"default\":\"bottom-right\",\"kind\":null,\"name\":\"position\"},{\"default\":0,\"kind\":null,\"name\":\"_clear\"},{\"default\":[{\"background\":\"#ffc107\",\"icon\":{\"className\":\"fas fa-exclamation-triangle\",\"color\":\"white\",\"tagName\":\"i\"},\"type\":\"warning\"},{\"background\":\"#007bff\",\"icon\":{\"className\":\"fas fa-info-circle\",\"color\":\"white\",\"tagName\":\"i\"},\"type\":\"info\"}],\"kind\":null,\"name\":\"types\"}]},{\"extends\":null,\"module\":null,\"name\":\"Notification\",\"overrides\":[],\"properties\":[{\"default\":null,\"kind\":null,\"name\":\"background\"},{\"default\":3000,\"kind\":null,\"name\":\"duration\"},{\"default\":null,\"kind\":null,\"name\":\"icon\"},{\"default\":\"\",\"kind\":null,\"name\":\"message\"},{\"default\":null,\"kind\":null,\"name\":\"notification_type\"},{\"default\":false,\"kind\":null,\"name\":\"_destroyed\"}]},{\"extends\":null,\"module\":null,\"name\":\"TemplateActions1\",\"overrides\":[],\"properties\":[{\"default\":0,\"kind\":null,\"name\":\"open_modal\"},{\"default\":0,\"kind\":null,\"name\":\"close_modal\"}]},{\"extends\":null,\"module\":null,\"name\":\"MaterialTemplateActions1\",\"overrides\":[],\"properties\":[{\"default\":0,\"kind\":null,\"name\":\"open_modal\"},{\"default\":0,\"kind\":null,\"name\":\"close_modal\"}]}],\"roots\":{\"references\":[{\"attributes\":{\"line_color\":\"#17becf\",\"line_width\":2,\"x\":{\"field\":\"index\"},\"y\":{\"field\":\"NSE\"}},\"id\":\"3987\",\"type\":\"Line\"},{\"attributes\":{\"line_color\":\"#6d904f\",\"line_width\":2,\"x\":{\"field\":\"index\"},\"y\":{\"field\":\"NSE\"}},\"id\":\"3907\",\"type\":\"Line\"},{\"attributes\":{},\"id\":\"3875\",\"type\":\"UnionRenderers\"},{\"attributes\":{\"line_color\":\"#8b8b8b\",\"line_width\":2,\"x\":{\"field\":\"index\"},\"y\":{\"field\":\"NSE\"}},\"id\":\"3957\",\"type\":\"Line\"},{\"attributes\":{\"data\":{\"NSE\":{\"__ndarray__\":\"8S1vzU+M6j8YPGGwKiHoP6qLbPSbruY/RGJYJK7W5T85yevRAFXlP0uLGIn+BOU/zi/dj2vL5D++sxnM+KHkPzobKjVVgeQ/aSYMsfpn5D+98FBMd1DkP3wC7VfdOuQ/NOvnHJ8j5D9F+yyoCQ7kPwWcvwQC/uM/JVQhCory4z/AHrcbLejjP4+7cKCB3+M/ya5OmEvY4z8eul/1q9LjP5GiZfnazOM/Xin78dnI4z9UroAb/sLjP4hUPrtuu+M/41aDl3uw4z9R1uAl4qTjPzssuNIznOM/CP/5ioST4z8IodjaL47jPyS8GQ42iOM/yI3olcaC4z8iX806s37jP0Jx4Z3DeuM/qj6afhx34z/0RM6aHHXjPwA+cG8mceM/5bbEI2tP4z8=\",\"dtype\":\"float64\",\"order\":\"little\",\"shape\":[37]},\"index\":[0,2,4,6,8,10,12,14,16,18,20,22,24,26,28,30,32,34,36,38,40,42,44,46,48,50,52,54,56,58,60,62,64,66,68,70,72]},\"selected\":{\"id\":\"3838\"},\"selection_policy\":{\"id\":\"3852\"}},\"id\":\"3837\",\"type\":\"ColumnDataSource\"},{\"attributes\":{\"line_alpha\":0.1,\"line_color\":\"#6d904f\",\"line_width\":2,\"x\":{\"field\":\"index\"},\"y\":{\"field\":\"NSE\"}},\"id\":\"3908\",\"type\":\"Line\"},{\"attributes\":{\"label\":{\"value\":\"JMA PF\"},\"renderers\":[{\"id\":\"3910\"}]},\"id\":\"3928\",\"type\":\"LegendItem\"},{\"attributes\":{\"coordinates\":null,\"data_source\":{\"id\":\"3958\"},\"glyph\":{\"id\":\"3961\"},\"group\":null,\"hover_glyph\":null,\"muted_glyph\":{\"id\":\"3963\"},\"nonselection_glyph\":{\"id\":\"3962\"},\"selection_glyph\":{\"id\":\"3987\"},\"view\":{\"id\":\"3965\"}},\"id\":\"3964\",\"type\":\"GlyphRenderer\"},{\"attributes\":{\"label\":{\"value\":\"PD\"},\"renderers\":[{\"id\":\"3936\"}]},\"id\":\"3956\",\"type\":\"LegendItem\"},{\"attributes\":{\"line_alpha\":0.2,\"line_color\":\"#6d904f\",\"line_width\":2,\"x\":{\"field\":\"index\"},\"y\":{\"field\":\"NSE\"}},\"id\":\"3909\",\"type\":\"Line\"},{\"attributes\":{\"line_alpha\":0.1,\"line_color\":\"#17becf\",\"line_width\":2,\"x\":{\"field\":\"index\"},\"y\":{\"field\":\"NSE\"}},\"id\":\"3962\",\"type\":\"Line\"},{\"attributes\":{},\"id\":\"3953\",\"type\":\"UnionRenderers\"},{\"attributes\":{},\"id\":\"3832\",\"type\":\"BasicTickFormatter\"},{\"attributes\":{},\"id\":\"3959\",\"type\":\"Selection\"},{\"attributes\":{\"source\":{\"id\":\"3904\"}},\"id\":\"3911\",\"type\":\"CDSView\"},{\"attributes\":{},\"id\":\"3925\",\"type\":\"UnionRenderers\"},{\"attributes\":{\"end\":0.9072774407588778,\"reset_end\":0.9072774407588778,\"reset_start\":-0.019306817859236693,\"start\":-0.019306817859236693,\"tags\":[[[\"NSE\",\"NSE\",null]]]},\"id\":\"3794\",\"type\":\"Range1d\"},{\"attributes\":{\"line_color\":\"#17becf\",\"line_width\":2,\"x\":{\"field\":\"index\"},\"y\":{\"field\":\"NSE\"}},\"id\":\"3961\",\"type\":\"Line\"},{\"attributes\":{\"below\":[{\"id\":\"3810\"}],\"center\":[{\"id\":\"3813\"},{\"id\":\"3817\"},{\"id\":\"3855\"}],\"height\":400,\"left\":[{\"id\":\"3814\"}],\"margin\":[5,5,5,5],\"min_border_bottom\":10,\"min_border_left\":10,\"min_border_right\":10,\"min_border_top\":10,\"renderers\":[{\"id\":\"3843\"},{\"id\":\"3864\"},{\"id\":\"3886\"},{\"id\":\"3910\"},{\"id\":\"3936\"},{\"id\":\"3964\"}],\"sizing_mode\":\"fixed\",\"title\":{\"id\":\"3802\"},\"toolbar\":{\"id\":\"3824\"},\"width\":750,\"x_range\":{\"id\":\"3793\"},\"x_scale\":{\"id\":\"3806\"},\"y_range\":{\"id\":\"3794\"},\"y_scale\":{\"id\":\"3808\"}},\"id\":\"3801\",\"subtype\":\"Figure\",\"type\":\"Plot\"},{\"attributes\":{\"bottom_units\":\"screen\",\"coordinates\":null,\"fill_alpha\":0.5,\"fill_color\":\"lightgrey\",\"group\":null,\"left_units\":\"screen\",\"level\":\"overlay\",\"line_alpha\":1.0,\"line_color\":\"black\",\"line_dash\":[4,4],\"line_width\":2,\"right_units\":\"screen\",\"syncable\":false,\"top_units\":\"screen\"},\"id\":\"3823\",\"type\":\"BoxAnnotation\"},{\"attributes\":{\"line_alpha\":0.2,\"line_color\":\"#17becf\",\"line_width\":2,\"x\":{\"field\":\"index\"},\"y\":{\"field\":\"NSE\"}},\"id\":\"3963\",\"type\":\"Line\"},{\"attributes\":{},\"id\":\"3852\",\"type\":\"UnionRenderers\"},{\"attributes\":{\"axis_label\":\"NSE\",\"coordinates\":null,\"formatter\":{\"id\":\"3835\"},\"group\":null,\"major_label_policy\":{\"id\":\"3836\"},\"ticker\":{\"id\":\"3815\"}},\"id\":\"3814\",\"type\":\"LinearAxis\"},{\"attributes\":{\"source\":{\"id\":\"3958\"}},\"id\":\"3965\",\"type\":\"CDSView\"},{\"attributes\":{},\"id\":\"3983\",\"type\":\"UnionRenderers\"},{\"attributes\":{\"line_color\":\"#30a2da\",\"line_width\":2,\"x\":{\"field\":\"index\"},\"y\":{\"field\":\"NSE\"}},\"id\":\"3840\",\"type\":\"Line\"},{\"attributes\":{},\"id\":\"3815\",\"type\":\"BasicTicker\"},{\"attributes\":{},\"id\":\"3835\",\"type\":\"BasicTickFormatter\"},{\"attributes\":{\"line_alpha\":0.2,\"line_color\":\"#fc4f30\",\"line_width\":2,\"x\":{\"field\":\"index\"},\"y\":{\"field\":\"NSE\"}},\"id\":\"3863\",\"type\":\"Line\"},{\"attributes\":{\"label\":{\"value\":\"Baseline\"},\"renderers\":[{\"id\":\"3964\"}]},\"id\":\"3986\",\"type\":\"LegendItem\"},{\"attributes\":{\"coordinates\":null,\"data_source\":{\"id\":\"3858\"},\"glyph\":{\"id\":\"3861\"},\"group\":null,\"hover_glyph\":null,\"muted_glyph\":{\"id\":\"3863\"},\"nonselection_glyph\":{\"id\":\"3862\"},\"selection_glyph\":{\"id\":\"3879\"},\"view\":{\"id\":\"3865\"}},\"id\":\"3864\",\"type\":\"GlyphRenderer\"},{\"attributes\":{\"axis\":{\"id\":\"3814\"},\"coordinates\":null,\"dimension\":1,\"grid_line_color\":null,\"group\":null,\"ticker\":null},\"id\":\"3817\",\"type\":\"Grid\"},{\"attributes\":{\"line_alpha\":0.1,\"line_color\":\"#fc4f30\",\"line_width\":2,\"x\":{\"field\":\"index\"},\"y\":{\"field\":\"NSE\"}},\"id\":\"3862\",\"type\":\"Line\"},{\"attributes\":{\"axis\":{\"id\":\"3810\"},\"coordinates\":null,\"grid_line_color\":null,\"group\":null,\"ticker\":null},\"id\":\"3813\",\"type\":\"Grid\"},{\"attributes\":{\"coordinates\":null,\"group\":null,\"text_color\":\"black\",\"text_font_size\":\"12pt\"},\"id\":\"3802\",\"type\":\"Title\"},{\"attributes\":{\"line_color\":\"#fc4f30\",\"line_width\":2,\"x\":{\"field\":\"index\"},\"y\":{\"field\":\"NSE\"}},\"id\":\"3879\",\"type\":\"Line\"},{\"attributes\":{\"line_alpha\":0.1,\"line_color\":\"#e5ae38\",\"line_width\":2,\"x\":{\"field\":\"index\"},\"y\":{\"field\":\"NSE\"}},\"id\":\"3884\",\"type\":\"Line\"},{\"attributes\":{},\"id\":\"3820\",\"type\":\"WheelZoomTool\"},{\"attributes\":{\"label\":{\"value\":\"JMA PF + PD\"},\"renderers\":[{\"id\":\"3886\"}]},\"id\":\"3902\",\"type\":\"LegendItem\"},{\"attributes\":{\"source\":{\"id\":\"3858\"}},\"id\":\"3865\",\"type\":\"CDSView\"},{\"attributes\":{},\"id\":\"3836\",\"type\":\"AllLabels\"},{\"attributes\":{},\"id\":\"3881\",\"type\":\"Selection\"},{\"attributes\":{},\"id\":\"3905\",\"type\":\"Selection\"},{\"attributes\":{\"line_color\":\"#e5ae38\",\"line_width\":2,\"x\":{\"field\":\"index\"},\"y\":{\"field\":\"NSE\"}},\"id\":\"3883\",\"type\":\"Line\"},{\"attributes\":{},\"id\":\"3822\",\"type\":\"ResetTool\"},{\"attributes\":{\"click_policy\":\"mute\",\"coordinates\":null,\"group\":null,\"items\":[{\"id\":\"3856\"},{\"id\":\"3878\"},{\"id\":\"3902\"},{\"id\":\"3928\"},{\"id\":\"3956\"},{\"id\":\"3986\"}]},\"id\":\"3855\",\"type\":\"Legend\"},{\"attributes\":{\"coordinates\":null,\"data_source\":{\"id\":\"3880\"},\"glyph\":{\"id\":\"3883\"},\"group\":null,\"hover_glyph\":null,\"muted_glyph\":{\"id\":\"3885\"},\"nonselection_glyph\":{\"id\":\"3884\"},\"selection_glyph\":{\"id\":\"3903\"},\"view\":{\"id\":\"3887\"}},\"id\":\"3886\",\"type\":\"GlyphRenderer\"},{\"attributes\":{\"line_alpha\":0.2,\"line_color\":\"#e5ae38\",\"line_width\":2,\"x\":{\"field\":\"index\"},\"y\":{\"field\":\"NSE\"}},\"id\":\"3885\",\"type\":\"Line\"},{\"attributes\":{\"line_color\":\"#6d904f\",\"line_width\":2,\"x\":{\"field\":\"index\"},\"y\":{\"field\":\"NSE\"}},\"id\":\"3929\",\"type\":\"Line\"},{\"attributes\":{},\"id\":\"3819\",\"type\":\"PanTool\"},{\"attributes\":{\"data\":{\"NSE\":{\"__ndarray__\":\"AJNGA6i54T+PmJRPQ9/hP1ScQFfk4eE//JJoALHj4T9mV5ksB+XhP5GmRgMk5uE/nSu988Pm4T+LCkmQiOfhP7mkMo+86OE/pjz1eQbq4T+4xquLjOvhP9XNI/sA7eE/5j8rvbbt4T9yozKo2+3hPxff9VrK7eE/2mqR3D/t4T8VZkr+Mu3hP0hMRxYs7eE/MEEJIoft4T+pwR3khe7hP3RDEbG27uE/BgmqU+Hu4T+4QKUzF+/hP+PY2j5r7+E/Uj+Rrqvv4T+svKQWXu/hP5vKE/qh7uE/08lu6XLt4T9CHDBFMOzhP37ad4ve6uE/z27QoqDp4T8RbydrZujhP5nmlXCL5+E/sncLAnvn4T/X4P/xxOfhP4Q5tBob6OE/v6eaE9vN4T8=\",\"dtype\":\"float64\",\"order\":\"little\",\"shape\":[37]},\"index\":[0,2,4,6,8,10,12,14,16,18,20,22,24,26,28,30,32,34,36,38,40,42,44,46,48,50,52,54,56,58,60,62,64,66,68,70,72]},\"selected\":{\"id\":\"3859\"},\"selection_policy\":{\"id\":\"3875\"}},\"id\":\"3858\",\"type\":\"ColumnDataSource\"},{\"attributes\":{},\"id\":\"3811\",\"type\":\"BasicTicker\"},{\"attributes\":{\"coordinates\":null,\"data_source\":{\"id\":\"3837\"},\"glyph\":{\"id\":\"3840\"},\"group\":null,\"hover_glyph\":null,\"muted_glyph\":{\"id\":\"3842\"},\"nonselection_glyph\":{\"id\":\"3841\"},\"selection_glyph\":{\"id\":\"3857\"},\"view\":{\"id\":\"3844\"}},\"id\":\"3843\",\"type\":\"GlyphRenderer\"},{\"attributes\":{\"source\":{\"id\":\"3880\"}},\"id\":\"3887\",\"type\":\"CDSView\"},{\"attributes\":{},\"id\":\"3899\",\"type\":\"UnionRenderers\"},{\"attributes\":{\"data\":{\"NSE\":{\"__ndarray__\":\"hYsJasq54T9joMCRFkHgP7s10nMbitw/Kr6zX+7w2D/JrKYL9izVP1sLzgVlz9E/RLGIEZJ4zz9EL54k/InLP5Q80nq9g8g/MXjvpnAbxz99AHAGlSHFP9VOUzFoPMQ/Zocre2Zgwz9KOWdWGpvBPwd4UcAWCsA/u4o8moC7vT+5gJGrsOG7P5iXQ4Lvaro/jGmJS4bFuD8hsKIoHIC3P47LnngsfrY/JkkKe70OtT919jpDb0S0P1efIDUy3rM/Q+xdf1T0sj+PTSe3rESyP8b6pNm/PbI/FPEZYlFssT/qhIOlu9+wP+jy7+8I27A/15emR8E5sD8hn5mwhJWvP/vAfMRZ+K8/DgrWM6a5rj+GM70cFDauP49VhjWuwa4/U01eETCmrT8=\",\"dtype\":\"float64\",\"order\":\"little\",\"shape\":[37]},\"index\":[0,2,4,6,8,10,12,14,16,18,20,22,24,26,28,30,32,34,36,38,40,42,44,46,48,50,52,54,56,58,60,62,64,66,68,70,72]},\"selected\":{\"id\":\"3959\"},\"selection_policy\":{\"id\":\"3983\"}},\"id\":\"3958\",\"type\":\"ColumnDataSource\"},{\"attributes\":{\"line_alpha\":0.2,\"line_color\":\"#8b8b8b\",\"line_width\":2,\"x\":{\"field\":\"index\"},\"y\":{\"field\":\"NSE\"}},\"id\":\"3935\",\"type\":\"Line\"},{\"attributes\":{\"callback\":null,\"renderers\":[{\"id\":\"3843\"},{\"id\":\"3864\"},{\"id\":\"3886\"},{\"id\":\"3910\"},{\"id\":\"3936\"},{\"id\":\"3964\"}],\"tags\":[\"hv_created\"],\"tooltips\":[[\"index\",\"@{index}\"],[\"NSE\",\"@{NSE}\"]]},\"id\":\"3795\",\"type\":\"HoverTool\"},{\"attributes\":{\"label\":{\"value\":\"Ideal PF + PD\"},\"renderers\":[{\"id\":\"3843\"}]},\"id\":\"3856\",\"type\":\"LegendItem\"},{\"attributes\":{\"line_color\":\"#8b8b8b\",\"line_width\":2,\"x\":{\"field\":\"index\"},\"y\":{\"field\":\"NSE\"}},\"id\":\"3933\",\"type\":\"Line\"},{\"attributes\":{},\"id\":\"3838\",\"type\":\"Selection\"},{\"attributes\":{\"source\":{\"id\":\"3930\"}},\"id\":\"3937\",\"type\":\"CDSView\"},{\"attributes\":{\"line_alpha\":0.1,\"line_color\":\"#8b8b8b\",\"line_width\":2,\"x\":{\"field\":\"index\"},\"y\":{\"field\":\"NSE\"}},\"id\":\"3934\",\"type\":\"Line\"},{\"attributes\":{\"margin\":[5,5,5,5],\"name\":\"HSpacer09975\",\"sizing_mode\":\"stretch_width\"},\"id\":\"3792\",\"type\":\"Spacer\"},{\"attributes\":{\"margin\":[5,5,5,5],\"name\":\"HSpacer09976\",\"sizing_mode\":\"stretch_width\"},\"id\":\"4148\",\"type\":\"Spacer\"},{\"attributes\":{\"data\":{\"NSE\":{\"__ndarray__\":\"y2EyfIuN6j+PqnR8pYznPwsZksXw4uQ/kLnPs7P34j8jiqbfMkrhPylAJPJaTOA/go/CTWfp3j/rFP4dMWDdP6YAlCqt9Nw/M2zosG0y3D+gce8k86XbP8iZSe005Ns/VFsBFRyb2z9daR+IXW/aP/SSJ6IF09o/6+8K7pFU2j8Jhsfsq0LaP5sO4FXWcNo/e0pDq20W2j9dW9+kfonZPyM5XvEXktk/iUP+4T5N2T8zT1foXtnYP9OgpvJuMNk/6W/FEZi72D8qAJfw4EbYPzVRd8RMk9g/USTgoJPO1z9gMFOD1GDXP1SZGoHw9dY/lAug2cEJ1z+JfoGPz/zWP7IhURxrbtY/GCpQB0Iv1T9UD/XLjenUPzGsBT9Pi9Q//UgFncke1D8=\",\"dtype\":\"float64\",\"order\":\"little\",\"shape\":[37]},\"index\":[0,2,4,6,8,10,12,14,16,18,20,22,24,26,28,30,32,34,36,38,40,42,44,46,48,50,52,54,56,58,60,62,64,66,68,70,72]},\"selected\":{\"id\":\"3881\"},\"selection_policy\":{\"id\":\"3899\"}},\"id\":\"3880\",\"type\":\"ColumnDataSource\"},{\"attributes\":{\"data\":{\"NSE\":{\"__ndarray__\":\"EVAPXd6P6j9fF41sG4zmPywJLPGi1+I/AoSRBEc34D8s8ufdwY7bP9RsHFKRjdc/qYGbimsd1T++dupROdPSP/ZNfxDSPNE/MUq0fCNG0D/oW7qDBWLOP3c6Nastac0/+ws/+sYUzD+Yp5C0uvvJP7WupVS1bsg/vY0Mx/G7xj9XP8crV8jFPz62dX+MNsU/IDramqEdxD8dMnJzaUjDP/SrlXlG78I/nfrT1Q/0wT9X1KTL5l/BP5A65KpbOcE/C83PA0ZwwD8bJv8G87+/P5Tn7cWa9b8/ZiHFa4aMvj+2fCWhlZ69PzOnuTMv6r0/oHbMuPzDvD/xbgruSQS8P/ug3kdHf7w/O3VVZA04uz8XsqALgqW6PzxY8ngyars/voKhr5s0uj8=\",\"dtype\":\"float64\",\"order\":\"little\",\"shape\":[37]},\"index\":[0,2,4,6,8,10,12,14,16,18,20,22,24,26,28,30,32,34,36,38,40,42,44,46,48,50,52,54,56,58,60,62,64,66,68,70,72]},\"selected\":{\"id\":\"3931\"},\"selection_policy\":{\"id\":\"3953\"}},\"id\":\"3930\",\"type\":\"ColumnDataSource\"},{\"attributes\":{},\"id\":\"3833\",\"type\":\"AllLabels\"},{\"attributes\":{\"children\":[{\"id\":\"3792\"},{\"id\":\"3801\"},{\"id\":\"4148\"}],\"margin\":[0,0,0,0],\"name\":\"Row09971\",\"tags\":[\"embedded\"]},\"id\":\"3791\",\"type\":\"Row\"},{\"attributes\":{\"coordinates\":null,\"data_source\":{\"id\":\"3930\"},\"glyph\":{\"id\":\"3933\"},\"group\":null,\"hover_glyph\":null,\"muted_glyph\":{\"id\":\"3935\"},\"nonselection_glyph\":{\"id\":\"3934\"},\"selection_glyph\":{\"id\":\"3957\"},\"view\":{\"id\":\"3937\"}},\"id\":\"3936\",\"type\":\"GlyphRenderer\"},{\"attributes\":{\"end\":72.0,\"reset_end\":72.0,\"reset_start\":0.0,\"tags\":[[[\"index\",\"index\",null]]]},\"id\":\"3793\",\"type\":\"Range1d\"},{\"attributes\":{\"line_color\":\"#fc4f30\",\"line_width\":2,\"x\":{\"field\":\"index\"},\"y\":{\"field\":\"NSE\"}},\"id\":\"3861\",\"type\":\"Line\"},{\"attributes\":{\"line_color\":\"#30a2da\",\"line_width\":2,\"x\":{\"field\":\"index\"},\"y\":{\"field\":\"NSE\"}},\"id\":\"3857\",\"type\":\"Line\"},{\"attributes\":{\"label\":{\"value\":\"Ideal PF\"},\"renderers\":[{\"id\":\"3864\"}]},\"id\":\"3878\",\"type\":\"LegendItem\"},{\"attributes\":{\"line_alpha\":0.2,\"line_color\":\"#30a2da\",\"line_width\":2,\"x\":{\"field\":\"index\"},\"y\":{\"field\":\"NSE\"}},\"id\":\"3842\",\"type\":\"Line\"},{\"attributes\":{\"coordinates\":null,\"data_source\":{\"id\":\"3904\"},\"glyph\":{\"id\":\"3907\"},\"group\":null,\"hover_glyph\":null,\"muted_glyph\":{\"id\":\"3909\"},\"nonselection_glyph\":{\"id\":\"3908\"},\"selection_glyph\":{\"id\":\"3929\"},\"view\":{\"id\":\"3911\"}},\"id\":\"3910\",\"type\":\"GlyphRenderer\"},{\"attributes\":{\"data\":{\"NSE\":{\"__ndarray__\":\"qqMoxbu54T/1T4DWDhzhP2EILYsUIOA/Ly2FLaEU3j9xWo/SJcjbP2vMSeB6ito/0NdqYyRP2T9dtfSvhCbYP0Ucw7234tc/bD8VciJJ1z8d2vk3m/nWP6QTdtqTSdc/c7igaABT1z9D9EZ9WFTWP8NjLrLSwNY/a1kbaSN61j8XToVLWG7WP7kMgCbRitY/yA6KQnRK1j8trZpvnN/VPw2AmpNOzdU//KNU3gOc1T8voHNAOkzVPyXFmK9Hk9U/Oy7fMDk91T/9b/drtOvUP6ISNRFsJdU/7ODNYvN11D+O9pc0kR/UPyMcbH5Fo9M/ZyXRngXL0z+pxQsHRdLTP+e5GkeSNtM/ueWTCqwJ0j9HE6X2+OvRP6ly+E9EVdE/EPYxkDYE0T8=\",\"dtype\":\"float64\",\"order\":\"little\",\"shape\":[37]},\"index\":[0,2,4,6,8,10,12,14,16,18,20,22,24,26,28,30,32,34,36,38,40,42,44,46,48,50,52,54,56,58,60,62,64,66,68,70,72]},\"selected\":{\"id\":\"3905\"},\"selection_policy\":{\"id\":\"3925\"}},\"id\":\"3904\",\"type\":\"ColumnDataSource\"},{\"attributes\":{},\"id\":\"3859\",\"type\":\"Selection\"},{\"attributes\":{},\"id\":\"3806\",\"type\":\"LinearScale\"},{\"attributes\":{\"source\":{\"id\":\"3837\"}},\"id\":\"3844\",\"type\":\"CDSView\"},{\"attributes\":{\"tools\":[{\"id\":\"3795\"},{\"id\":\"3818\"},{\"id\":\"3819\"},{\"id\":\"3820\"},{\"id\":\"3821\"},{\"id\":\"3822\"}]},\"id\":\"3824\",\"type\":\"Toolbar\"},{\"attributes\":{\"axis_label\":\"horizon (hour)\",\"coordinates\":null,\"formatter\":{\"id\":\"3832\"},\"group\":null,\"major_label_policy\":{\"id\":\"3833\"},\"ticker\":{\"id\":\"3811\"}},\"id\":\"3810\",\"type\":\"LinearAxis\"},{\"attributes\":{\"line_color\":\"#e5ae38\",\"line_width\":2,\"x\":{\"field\":\"index\"},\"y\":{\"field\":\"NSE\"}},\"id\":\"3903\",\"type\":\"Line\"},{\"attributes\":{},\"id\":\"3808\",\"type\":\"LinearScale\"},{\"attributes\":{},\"id\":\"3931\",\"type\":\"Selection\"},{\"attributes\":{\"line_alpha\":0.1,\"line_color\":\"#30a2da\",\"line_width\":2,\"x\":{\"field\":\"index\"},\"y\":{\"field\":\"NSE\"}},\"id\":\"3841\",\"type\":\"Line\"},{\"attributes\":{},\"id\":\"3818\",\"type\":\"SaveTool\"},{\"attributes\":{\"overlay\":{\"id\":\"3823\"}},\"id\":\"3821\",\"type\":\"BoxZoomTool\"}],\"root_ids\":[\"3791\"]},\"title\":\"Bokeh Application\",\"version\":\"2.4.2\"}};\n",
       "    var render_items = [{\"docid\":\"52e75e0d-33d0-4d8c-822b-ac29e07b2a1f\",\"root_ids\":[\"3791\"],\"roots\":{\"3791\":\"e126b0ac-7c8b-40af-a2ec-b75b26878643\"}}];\n",
       "    root.Bokeh.embed.embed_items_notebook(docs_json, render_items);\n",
       "  }\n",
       "  if (root.Bokeh !== undefined && root.Bokeh.Panel !== undefined) {\n",
       "    embed_document(root);\n",
       "  } else {\n",
       "    var attempts = 0;\n",
       "    var timer = setInterval(function(root) {\n",
       "      if (root.Bokeh !== undefined && root.Bokeh.Panel !== undefined) {\n",
       "        clearInterval(timer);\n",
       "        embed_document(root);\n",
       "      } else if (document.readyState == \"complete\") {\n",
       "        attempts++;\n",
       "        if (attempts > 200) {\n",
       "          clearInterval(timer);\n",
       "          console.log(\"Bokeh: ERROR: Unable to run BokehJS code because BokehJS library is missing\");\n",
       "        }\n",
       "      }\n",
       "    }, 25, root)\n",
       "  }\n",
       "})(window);</script>"
      ],
      "text/plain": [
       ":Overlay\n",
       "   .Curve.Ideal_PF_plus_PD :Curve   [index]   (NSE)\n",
       "   .Curve.Ideal_PF         :Curve   [index]   (NSE)\n",
       "   .Curve.JMA_PF_plus_PD   :Curve   [index]   (NSE)\n",
       "   .Curve.JMA_PF           :Curve   [index]   (NSE)\n",
       "   .Curve.PD               :Curve   [index]   (NSE)\n",
       "   .Curve.Baseline         :Curve   [index]   (NSE)"
      ]
     },
     "execution_count": 36,
     "metadata": {
      "application/vnd.holoviews_exec.v0+json": {
       "id": "3791"
      }
     },
     "output_type": "execute_result"
    }
   ],
   "source": [
    "(res_ideal_pd['NSE'].hvplot(xlabel='horizon (hour)', ylabel='NSE', title='', width=750, label='Ideal PF + PD',height=400) * \\\n",
    "res_ideal['NSE'].hvplot(xlabel='horizon (hour)', ylabel='NSE', title='', width=750, label='Ideal PF',height=400) * \\\n",
    "res_jma_pd['NSE'].hvplot(xlabel='horizon (hour)', ylabel='NSE', title='', width=750, label='JMA PF + PD',height=400) * \\\n",
    "res_jma['NSE'].hvplot(xlabel='horizon (hour)', ylabel='NSE', title='', width=750, label='JMA PF',height=400) * \\\n",
    "res_pd['NSE'].hvplot(xlabel='horizon (hour)', ylabel='NSE', title='', width=750, label='PD',height=400) * \\\n",
    "res_base['NSE'].hvplot(xlabel='horizon (hour)', ylabel='NSE', title='', width=750, label='Baseline', height=400))"
   ]
  },
  {
   "cell_type": "markdown",
   "id": "6f340abe-67df-4b17-85ca-6b8bcbcd07dd",
   "metadata": {
    "tags": []
   },
   "source": [
    "### FHV"
   ]
  },
  {
   "cell_type": "code",
   "execution_count": 38,
   "id": "b6c80493-58b4-41dd-a269-82385797512f",
   "metadata": {},
   "outputs": [
    {
     "data": {},
     "metadata": {},
     "output_type": "display_data"
    },
    {
     "data": {
      "application/vnd.holoviews_exec.v0+json": "",
      "text/html": [
       "<div id='4597'>\n",
       "\n",
       "\n",
       "\n",
       "\n",
       "\n",
       "  <div class=\"bk-root\" id=\"ca2f9495-0f87-49b7-b15e-d0dc4f8a1ab3\" data-root-id=\"4597\"></div>\n",
       "</div>\n",
       "<script type=\"application/javascript\">(function(root) {\n",
       "  function embed_document(root) {\n",
       "    var docs_json = {\"c5642fa1-1d1b-40e6-a890-04360802099a\":{\"defs\":[{\"extends\":null,\"module\":null,\"name\":\"ReactiveHTML1\",\"overrides\":[],\"properties\":[]},{\"extends\":null,\"module\":null,\"name\":\"FlexBox1\",\"overrides\":[],\"properties\":[{\"default\":\"flex-start\",\"kind\":null,\"name\":\"align_content\"},{\"default\":\"flex-start\",\"kind\":null,\"name\":\"align_items\"},{\"default\":\"row\",\"kind\":null,\"name\":\"flex_direction\"},{\"default\":\"wrap\",\"kind\":null,\"name\":\"flex_wrap\"},{\"default\":\"flex-start\",\"kind\":null,\"name\":\"justify_content\"}]},{\"extends\":null,\"module\":null,\"name\":\"GridStack1\",\"overrides\":[],\"properties\":[{\"default\":\"warn\",\"kind\":null,\"name\":\"mode\"},{\"default\":null,\"kind\":null,\"name\":\"ncols\"},{\"default\":null,\"kind\":null,\"name\":\"nrows\"},{\"default\":true,\"kind\":null,\"name\":\"allow_resize\"},{\"default\":true,\"kind\":null,\"name\":\"allow_drag\"},{\"default\":[],\"kind\":null,\"name\":\"state\"}]},{\"extends\":null,\"module\":null,\"name\":\"click1\",\"overrides\":[],\"properties\":[{\"default\":\"\",\"kind\":null,\"name\":\"terminal_output\"},{\"default\":\"\",\"kind\":null,\"name\":\"debug_name\"},{\"default\":0,\"kind\":null,\"name\":\"clears\"}]},{\"extends\":null,\"module\":null,\"name\":\"NotificationAreaBase1\",\"overrides\":[],\"properties\":[{\"default\":\"bottom-right\",\"kind\":null,\"name\":\"position\"},{\"default\":0,\"kind\":null,\"name\":\"_clear\"}]},{\"extends\":null,\"module\":null,\"name\":\"NotificationArea1\",\"overrides\":[],\"properties\":[{\"default\":[],\"kind\":null,\"name\":\"notifications\"},{\"default\":\"bottom-right\",\"kind\":null,\"name\":\"position\"},{\"default\":0,\"kind\":null,\"name\":\"_clear\"},{\"default\":[{\"background\":\"#ffc107\",\"icon\":{\"className\":\"fas fa-exclamation-triangle\",\"color\":\"white\",\"tagName\":\"i\"},\"type\":\"warning\"},{\"background\":\"#007bff\",\"icon\":{\"className\":\"fas fa-info-circle\",\"color\":\"white\",\"tagName\":\"i\"},\"type\":\"info\"}],\"kind\":null,\"name\":\"types\"}]},{\"extends\":null,\"module\":null,\"name\":\"Notification\",\"overrides\":[],\"properties\":[{\"default\":null,\"kind\":null,\"name\":\"background\"},{\"default\":3000,\"kind\":null,\"name\":\"duration\"},{\"default\":null,\"kind\":null,\"name\":\"icon\"},{\"default\":\"\",\"kind\":null,\"name\":\"message\"},{\"default\":null,\"kind\":null,\"name\":\"notification_type\"},{\"default\":false,\"kind\":null,\"name\":\"_destroyed\"}]},{\"extends\":null,\"module\":null,\"name\":\"TemplateActions1\",\"overrides\":[],\"properties\":[{\"default\":0,\"kind\":null,\"name\":\"open_modal\"},{\"default\":0,\"kind\":null,\"name\":\"close_modal\"}]},{\"extends\":null,\"module\":null,\"name\":\"MaterialTemplateActions1\",\"overrides\":[],\"properties\":[{\"default\":0,\"kind\":null,\"name\":\"open_modal\"},{\"default\":0,\"kind\":null,\"name\":\"close_modal\"}]}],\"roots\":{\"references\":[{\"attributes\":{\"line_alpha\":0.1,\"line_color\":\"#e5ae38\",\"line_width\":2,\"x\":{\"field\":\"index\"},\"y\":{\"field\":\"FHV\"}},\"id\":\"4690\",\"type\":\"Line\"},{\"attributes\":{\"label\":{\"value\":\"JMA PF + PD\"},\"renderers\":[{\"id\":\"4692\"}]},\"id\":\"4708\",\"type\":\"LegendItem\"},{\"attributes\":{},\"id\":\"4639\",\"type\":\"AllLabels\"},{\"attributes\":{\"line_alpha\":0.1,\"line_color\":\"#6d904f\",\"line_width\":2,\"x\":{\"field\":\"index\"},\"y\":{\"field\":\"FHV\"}},\"id\":\"4714\",\"type\":\"Line\"},{\"attributes\":{\"line_color\":\"#8b8b8b\",\"line_width\":2,\"x\":{\"field\":\"index\"},\"y\":{\"field\":\"FHV\"}},\"id\":\"4739\",\"type\":\"Line\"},{\"attributes\":{\"line_color\":\"#e5ae38\",\"line_width\":2,\"x\":{\"field\":\"index\"},\"y\":{\"field\":\"FHV\"}},\"id\":\"4689\",\"type\":\"Line\"},{\"attributes\":{\"coordinates\":null,\"data_source\":{\"id\":\"4686\"},\"glyph\":{\"id\":\"4689\"},\"group\":null,\"hover_glyph\":null,\"muted_glyph\":{\"id\":\"4691\"},\"nonselection_glyph\":{\"id\":\"4690\"},\"selection_glyph\":{\"id\":\"4709\"},\"view\":{\"id\":\"4693\"}},\"id\":\"4692\",\"type\":\"GlyphRenderer\"},{\"attributes\":{\"line_alpha\":0.2,\"line_color\":\"#e5ae38\",\"line_width\":2,\"x\":{\"field\":\"index\"},\"y\":{\"field\":\"FHV\"}},\"id\":\"4691\",\"type\":\"Line\"},{\"attributes\":{\"data\":{\"FHV\":{\"__ndarray__\":\"BmmmTph/C8BEXqTIKFYQwEHpTzLynx7AfjUDrl7OJMA8d+3xC9AowKnvPCGEli7ACAZW9G7fMMAh5C13uCQywG/jmB92SDTA58Lijuw+NcDQcbG6xOE1wHHY4cMIfzfAg9FflKnrN8Cgd5wI3Zs4wB6cf2zuDDvApmbodZegO8DZDsXK91Q8wMGSc21eeT7AnnhTM4UKP8COYAjuBRk/wC+wz39cCEDAIs6iTXg7QMDPtixpLUhAwH0M7jyu4EDAYB6YsMxbQcChQuya7lZBwABpsj9e3EHAHjUVwS4nQsBjXsCdmxlCwFEwt5+us0LAF8TsZQWjQsBXdtKzNqFCwKTog01r9kLASJz/JH3iQsCrcFktchZDwEwFiz2UpkPAWiaSrhyhQ8A=\",\"dtype\":\"float64\",\"order\":\"little\",\"shape\":[37]},\"index\":[0,2,4,6,8,10,12,14,16,18,20,22,24,26,28,30,32,34,36,38,40,42,44,46,48,50,52,54,56,58,60,62,64,66,68,70,72]},\"selected\":{\"id\":\"4687\"},\"selection_policy\":{\"id\":\"4705\"}},\"id\":\"4686\",\"type\":\"ColumnDataSource\"},{\"attributes\":{\"line_color\":\"#6d904f\",\"line_width\":2,\"x\":{\"field\":\"index\"},\"y\":{\"field\":\"FHV\"}},\"id\":\"4735\",\"type\":\"Line\"},{\"attributes\":{},\"id\":\"4711\",\"type\":\"Selection\"},{\"attributes\":{\"line_alpha\":0.1,\"line_color\":\"#8b8b8b\",\"line_width\":2,\"x\":{\"field\":\"index\"},\"y\":{\"field\":\"FHV\"}},\"id\":\"4740\",\"type\":\"Line\"},{\"attributes\":{\"line_color\":\"#fc4f30\",\"line_width\":2,\"x\":{\"field\":\"index\"},\"y\":{\"field\":\"FHV\"}},\"id\":\"4667\",\"type\":\"Line\"},{\"attributes\":{\"source\":{\"id\":\"4686\"}},\"id\":\"4693\",\"type\":\"CDSView\"},{\"attributes\":{},\"id\":\"4638\",\"type\":\"BasicTickFormatter\"},{\"attributes\":{\"label\":{\"value\":\"PD\"},\"renderers\":[{\"id\":\"4742\"}]},\"id\":\"4762\",\"type\":\"LegendItem\"},{\"attributes\":{},\"id\":\"4705\",\"type\":\"UnionRenderers\"},{\"attributes\":{\"line_color\":\"#6d904f\",\"line_width\":2,\"x\":{\"field\":\"index\"},\"y\":{\"field\":\"FHV\"}},\"id\":\"4713\",\"type\":\"Line\"},{\"attributes\":{\"line_alpha\":0.2,\"line_color\":\"#8b8b8b\",\"line_width\":2,\"x\":{\"field\":\"index\"},\"y\":{\"field\":\"FHV\"}},\"id\":\"4741\",\"type\":\"Line\"},{\"attributes\":{},\"id\":\"4642\",\"type\":\"AllLabels\"},{\"attributes\":{\"callback\":null,\"renderers\":[{\"id\":\"4649\"},{\"id\":\"4670\"},{\"id\":\"4692\"},{\"id\":\"4716\"},{\"id\":\"4742\"},{\"id\":\"4770\"}],\"tags\":[\"hv_created\"],\"tooltips\":[[\"index\",\"@{index}\"],[\"FHV\",\"@{FHV}\"]]},\"id\":\"4601\",\"type\":\"HoverTool\"},{\"attributes\":{\"line_color\":\"#17becf\",\"line_width\":2,\"x\":{\"field\":\"index\"},\"y\":{\"field\":\"FHV\"}},\"id\":\"4793\",\"type\":\"Line\"},{\"attributes\":{},\"id\":\"4641\",\"type\":\"BasicTickFormatter\"},{\"attributes\":{\"source\":{\"id\":\"4736\"}},\"id\":\"4743\",\"type\":\"CDSView\"},{\"attributes\":{},\"id\":\"4759\",\"type\":\"UnionRenderers\"},{\"attributes\":{\"coordinates\":null,\"data_source\":{\"id\":\"4643\"},\"glyph\":{\"id\":\"4646\"},\"group\":null,\"hover_glyph\":null,\"muted_glyph\":{\"id\":\"4648\"},\"nonselection_glyph\":{\"id\":\"4647\"},\"selection_glyph\":{\"id\":\"4663\"},\"view\":{\"id\":\"4650\"}},\"id\":\"4649\",\"type\":\"GlyphRenderer\"},{\"attributes\":{\"end\":2.3795184385542174,\"reset_end\":2.3795184385542174,\"reset_start\":-67.06401583409,\"start\":-67.06401583409,\"tags\":[[[\"FHV\",\"FHV\",null]]]},\"id\":\"4600\",\"type\":\"Range1d\"},{\"attributes\":{\"margin\":[5,5,5,5],\"name\":\"HSpacer12184\",\"sizing_mode\":\"stretch_width\"},\"id\":\"4954\",\"type\":\"Spacer\"},{\"attributes\":{\"click_policy\":\"mute\",\"coordinates\":null,\"group\":null,\"items\":[{\"id\":\"4662\"},{\"id\":\"4684\"},{\"id\":\"4708\"},{\"id\":\"4734\"},{\"id\":\"4762\"},{\"id\":\"4792\"}]},\"id\":\"4661\",\"type\":\"Legend\"},{\"attributes\":{},\"id\":\"4665\",\"type\":\"Selection\"},{\"attributes\":{},\"id\":\"4644\",\"type\":\"Selection\"},{\"attributes\":{},\"id\":\"4612\",\"type\":\"LinearScale\"},{\"attributes\":{\"line_alpha\":0.1,\"line_color\":\"#30a2da\",\"line_width\":2,\"x\":{\"field\":\"index\"},\"y\":{\"field\":\"FHV\"}},\"id\":\"4647\",\"type\":\"Line\"},{\"attributes\":{},\"id\":\"4687\",\"type\":\"Selection\"},{\"attributes\":{\"line_color\":\"#30a2da\",\"line_width\":2,\"x\":{\"field\":\"index\"},\"y\":{\"field\":\"FHV\"}},\"id\":\"4646\",\"type\":\"Line\"},{\"attributes\":{\"label\":{\"value\":\"Ideal PF\"},\"renderers\":[{\"id\":\"4670\"}]},\"id\":\"4684\",\"type\":\"LegendItem\"},{\"attributes\":{\"end\":72.0,\"reset_end\":72.0,\"reset_start\":0.0,\"tags\":[[[\"index\",\"index\",null]]]},\"id\":\"4599\",\"type\":\"Range1d\"},{\"attributes\":{},\"id\":\"4681\",\"type\":\"UnionRenderers\"},{\"attributes\":{\"source\":{\"id\":\"4643\"}},\"id\":\"4650\",\"type\":\"CDSView\"},{\"attributes\":{\"line_color\":\"#30a2da\",\"line_width\":2,\"x\":{\"field\":\"index\"},\"y\":{\"field\":\"FHV\"}},\"id\":\"4663\",\"type\":\"Line\"},{\"attributes\":{\"margin\":[5,5,5,5],\"name\":\"HSpacer12183\",\"sizing_mode\":\"stretch_width\"},\"id\":\"4598\",\"type\":\"Spacer\"},{\"attributes\":{\"line_alpha\":0.2,\"line_color\":\"#30a2da\",\"line_width\":2,\"x\":{\"field\":\"index\"},\"y\":{\"field\":\"FHV\"}},\"id\":\"4648\",\"type\":\"Line\"},{\"attributes\":{\"label\":{\"value\":\"Ideal PF + PD\"},\"renderers\":[{\"id\":\"4649\"}]},\"id\":\"4662\",\"type\":\"LegendItem\"},{\"attributes\":{},\"id\":\"4614\",\"type\":\"LinearScale\"},{\"attributes\":{\"coordinates\":null,\"group\":null,\"text_color\":\"black\",\"text_font_size\":\"12pt\"},\"id\":\"4608\",\"type\":\"Title\"},{\"attributes\":{\"source\":{\"id\":\"4664\"}},\"id\":\"4671\",\"type\":\"CDSView\"},{\"attributes\":{\"line_color\":\"#e5ae38\",\"line_width\":2,\"x\":{\"field\":\"index\"},\"y\":{\"field\":\"FHV\"}},\"id\":\"4709\",\"type\":\"Line\"},{\"attributes\":{\"axis_label\":\"horizon (hour)\",\"coordinates\":null,\"formatter\":{\"id\":\"4638\"},\"group\":null,\"major_label_policy\":{\"id\":\"4639\"},\"ticker\":{\"id\":\"4617\"}},\"id\":\"4616\",\"type\":\"LinearAxis\"},{\"attributes\":{\"data\":{\"FHV\":{\"__ndarray__\":\"oY1OWHFCC8CRFmgZgR0SwI7hcsdEeBXAJxLtssFuGMBruuzsZ70awC+d4A+zCx3AptgDY0D4HsAozM+RBk8gwL4ujoFWDyHA58JS/fy0IcADXR7i2UUiwF3qNm311iLAHErt9yt7I8CgrfYAMQ4kwOzKdZCHoSTA3OWjqgghJcDZXfZIUIAlwEw62QNtyiXA/jL6/ODzJcDbrC2sgi0mwN00EVxpUSbAYM4cX5KQJsCag4HDJ7UmwNmEW5Qc7CbAlpVtLb4yJ8C+ImAB0YQnwBSZ9UuQvifAlPFYdbTcJ8BXPIfUmhAowHuhcf8eMijAu3OkD9FSKMD1z5p/MXkowKDCTpB8mSjA3xwPw1qyKMAOtp5cdtgowGIneF7K+yjAUTFsNZyNKcA=\",\"dtype\":\"float64\",\"order\":\"little\",\"shape\":[37]},\"index\":[0,2,4,6,8,10,12,14,16,18,20,22,24,26,28,30,32,34,36,38,40,42,44,46,48,50,52,54,56,58,60,62,64,66,68,70,72]},\"selected\":{\"id\":\"4644\"},\"selection_policy\":{\"id\":\"4658\"}},\"id\":\"4643\",\"type\":\"ColumnDataSource\"},{\"attributes\":{\"below\":[{\"id\":\"4616\"}],\"center\":[{\"id\":\"4619\"},{\"id\":\"4623\"},{\"id\":\"4661\"}],\"height\":400,\"left\":[{\"id\":\"4620\"}],\"margin\":[5,5,5,5],\"min_border_bottom\":10,\"min_border_left\":10,\"min_border_right\":10,\"min_border_top\":10,\"renderers\":[{\"id\":\"4649\"},{\"id\":\"4670\"},{\"id\":\"4692\"},{\"id\":\"4716\"},{\"id\":\"4742\"},{\"id\":\"4770\"}],\"sizing_mode\":\"fixed\",\"title\":{\"id\":\"4608\"},\"toolbar\":{\"id\":\"4630\"},\"width\":750,\"x_range\":{\"id\":\"4599\"},\"x_scale\":{\"id\":\"4612\"},\"y_range\":{\"id\":\"4600\"},\"y_scale\":{\"id\":\"4614\"}},\"id\":\"4607\",\"subtype\":\"Figure\",\"type\":\"Plot\"},{\"attributes\":{\"axis\":{\"id\":\"4616\"},\"coordinates\":null,\"grid_line_color\":null,\"group\":null,\"ticker\":null},\"id\":\"4619\",\"type\":\"Grid\"},{\"attributes\":{\"data\":{\"FHV\":{\"__ndarray__\":\"MCgYNmxQK8D+Ks0PqMIqwD28+7JZGzDAzOJ7uylEMsBecBR0GHIzwMWhCq1uyzXAbPUTh4xNN8D75tFIV/w3wMetsSr+mDnADELmaqZ8OsBR3ydlU+86wGNTW/sWLDzApL+8y0d5PMBvg83B4aw8wF8K22Nw2D7AiG/P5/lhP8BsWUfYCuA/wIuZyGOe70DAbPkSIQg9QcDOPwDq9ylBwH2U1j8jl0HAjylPVkHMQcCHFtQerMZBwKamKz86W0LAgR05Rae8QsB23+QCkKJCwF2+bGX8HUPAI9G5NoBfQ8DCEYrNpUNDwE50q8sx2kPAKLQ5TijGQ8CieRNkVblDwKXNZBZh90PAQVyFNx31Q8B/hFwpJBdEwIWD/1xflETAsvUvW8uPRMA=\",\"dtype\":\"float64\",\"order\":\"little\",\"shape\":[37]},\"index\":[0,2,4,6,8,10,12,14,16,18,20,22,24,26,28,30,32,34,36,38,40,42,44,46,48,50,52,54,56,58,60,62,64,66,68,70,72]},\"selected\":{\"id\":\"4711\"},\"selection_policy\":{\"id\":\"4731\"}},\"id\":\"4710\",\"type\":\"ColumnDataSource\"},{\"attributes\":{\"children\":[{\"id\":\"4598\"},{\"id\":\"4607\"},{\"id\":\"4954\"}],\"margin\":[0,0,0,0],\"name\":\"Row12179\",\"tags\":[\"embedded\"]},\"id\":\"4597\",\"type\":\"Row\"},{\"attributes\":{\"label\":{\"value\":\"JMA PF\"},\"renderers\":[{\"id\":\"4716\"}]},\"id\":\"4734\",\"type\":\"LegendItem\"},{\"attributes\":{\"axis_label\":\"NSE\",\"coordinates\":null,\"formatter\":{\"id\":\"4641\"},\"group\":null,\"major_label_policy\":{\"id\":\"4642\"},\"ticker\":{\"id\":\"4621\"}},\"id\":\"4620\",\"type\":\"LinearAxis\"},{\"attributes\":{},\"id\":\"4626\",\"type\":\"WheelZoomTool\"},{\"attributes\":{\"coordinates\":null,\"data_source\":{\"id\":\"4736\"},\"glyph\":{\"id\":\"4739\"},\"group\":null,\"hover_glyph\":null,\"muted_glyph\":{\"id\":\"4741\"},\"nonselection_glyph\":{\"id\":\"4740\"},\"selection_glyph\":{\"id\":\"4763\"},\"view\":{\"id\":\"4743\"}},\"id\":\"4742\",\"type\":\"GlyphRenderer\"},{\"attributes\":{\"line_color\":\"#8b8b8b\",\"line_width\":2,\"x\":{\"field\":\"index\"},\"y\":{\"field\":\"FHV\"}},\"id\":\"4763\",\"type\":\"Line\"},{\"attributes\":{},\"id\":\"4617\",\"type\":\"BasicTicker\"},{\"attributes\":{},\"id\":\"4737\",\"type\":\"Selection\"},{\"attributes\":{},\"id\":\"4621\",\"type\":\"BasicTicker\"},{\"attributes\":{\"coordinates\":null,\"data_source\":{\"id\":\"4710\"},\"glyph\":{\"id\":\"4713\"},\"group\":null,\"hover_glyph\":null,\"muted_glyph\":{\"id\":\"4715\"},\"nonselection_glyph\":{\"id\":\"4714\"},\"selection_glyph\":{\"id\":\"4735\"},\"view\":{\"id\":\"4717\"}},\"id\":\"4716\",\"type\":\"GlyphRenderer\"},{\"attributes\":{},\"id\":\"4625\",\"type\":\"PanTool\"},{\"attributes\":{\"axis\":{\"id\":\"4620\"},\"coordinates\":null,\"dimension\":1,\"grid_line_color\":null,\"group\":null,\"ticker\":null},\"id\":\"4623\",\"type\":\"Grid\"},{\"attributes\":{\"coordinates\":null,\"data_source\":{\"id\":\"4764\"},\"glyph\":{\"id\":\"4767\"},\"group\":null,\"hover_glyph\":null,\"muted_glyph\":{\"id\":\"4769\"},\"nonselection_glyph\":{\"id\":\"4768\"},\"selection_glyph\":{\"id\":\"4793\"},\"view\":{\"id\":\"4771\"}},\"id\":\"4770\",\"type\":\"GlyphRenderer\"},{\"attributes\":{\"line_alpha\":0.2,\"line_color\":\"#6d904f\",\"line_width\":2,\"x\":{\"field\":\"index\"},\"y\":{\"field\":\"FHV\"}},\"id\":\"4715\",\"type\":\"Line\"},{\"attributes\":{},\"id\":\"4624\",\"type\":\"SaveTool\"},{\"attributes\":{\"data\":{\"FHV\":{\"__ndarray__\":\"pMytzOhQK8CeLD9//3MuwHWGxpc49TLAJ2eRj0rmNsCSo5cJo/c5wP0J5cFIUz3Ay5yfNnkAQMD+Em6RAfdAwK+4or7CBULAA/tCj5PmQsAItNec9p5DwOVvIp/EeUTARQtsm0snRcBifIc7tupFwBFyLKItMkfAcusBoj4YSMCC6LPY4KpIwNw+mghnlUnAIbUBJaAoSsCqo+uZQY5KwNA1HLysMUvAYxhlqMKVS8CdNvmpvclLwEvgk7bcXUzAHcKwoCawTMDpabkKM8JMwNqL1EraNk3A4P2bWFlxTcC7a+SG0XlNwDspOnxk3U3ADiMw+2YETsDKcOVjsgJOwJLApaPsT07AaCwWHQFbTsDHRXTQx1ZOwNbN7arUmk7AIxrPhnajTsA=\",\"dtype\":\"float64\",\"order\":\"little\",\"shape\":[37]},\"index\":[0,2,4,6,8,10,12,14,16,18,20,22,24,26,28,30,32,34,36,38,40,42,44,46,48,50,52,54,56,58,60,62,64,66,68,70,72]},\"selected\":{\"id\":\"4765\"},\"selection_policy\":{\"id\":\"4789\"}},\"id\":\"4764\",\"type\":\"ColumnDataSource\"},{\"attributes\":{\"line_alpha\":0.1,\"line_color\":\"#17becf\",\"line_width\":2,\"x\":{\"field\":\"index\"},\"y\":{\"field\":\"FHV\"}},\"id\":\"4768\",\"type\":\"Line\"},{\"attributes\":{\"overlay\":{\"id\":\"4629\"}},\"id\":\"4627\",\"type\":\"BoxZoomTool\"},{\"attributes\":{},\"id\":\"4765\",\"type\":\"Selection\"},{\"attributes\":{},\"id\":\"4628\",\"type\":\"ResetTool\"},{\"attributes\":{\"source\":{\"id\":\"4710\"}},\"id\":\"4717\",\"type\":\"CDSView\"},{\"attributes\":{},\"id\":\"4731\",\"type\":\"UnionRenderers\"},{\"attributes\":{\"bottom_units\":\"screen\",\"coordinates\":null,\"fill_alpha\":0.5,\"fill_color\":\"lightgrey\",\"group\":null,\"left_units\":\"screen\",\"level\":\"overlay\",\"line_alpha\":1.0,\"line_color\":\"black\",\"line_dash\":[4,4],\"line_width\":2,\"right_units\":\"screen\",\"syncable\":false,\"top_units\":\"screen\"},\"id\":\"4629\",\"type\":\"BoxAnnotation\"},{\"attributes\":{\"line_color\":\"#17becf\",\"line_width\":2,\"x\":{\"field\":\"index\"},\"y\":{\"field\":\"FHV\"}},\"id\":\"4767\",\"type\":\"Line\"},{\"attributes\":{\"tools\":[{\"id\":\"4601\"},{\"id\":\"4624\"},{\"id\":\"4625\"},{\"id\":\"4626\"},{\"id\":\"4627\"},{\"id\":\"4628\"}]},\"id\":\"4630\",\"type\":\"Toolbar\"},{\"attributes\":{\"line_alpha\":0.1,\"line_color\":\"#fc4f30\",\"line_width\":2,\"x\":{\"field\":\"index\"},\"y\":{\"field\":\"FHV\"}},\"id\":\"4668\",\"type\":\"Line\"},{\"attributes\":{\"line_alpha\":0.2,\"line_color\":\"#17becf\",\"line_width\":2,\"x\":{\"field\":\"index\"},\"y\":{\"field\":\"FHV\"}},\"id\":\"4769\",\"type\":\"Line\"},{\"attributes\":{},\"id\":\"4658\",\"type\":\"UnionRenderers\"},{\"attributes\":{\"source\":{\"id\":\"4764\"}},\"id\":\"4771\",\"type\":\"CDSView\"},{\"attributes\":{\"line_alpha\":0.2,\"line_color\":\"#fc4f30\",\"line_width\":2,\"x\":{\"field\":\"index\"},\"y\":{\"field\":\"FHV\"}},\"id\":\"4669\",\"type\":\"Line\"},{\"attributes\":{},\"id\":\"4789\",\"type\":\"UnionRenderers\"},{\"attributes\":{\"label\":{\"value\":\"Baseline\"},\"renderers\":[{\"id\":\"4770\"}]},\"id\":\"4792\",\"type\":\"LegendItem\"},{\"attributes\":{\"coordinates\":null,\"data_source\":{\"id\":\"4664\"},\"glyph\":{\"id\":\"4667\"},\"group\":null,\"hover_glyph\":null,\"muted_glyph\":{\"id\":\"4669\"},\"nonselection_glyph\":{\"id\":\"4668\"},\"selection_glyph\":{\"id\":\"4685\"},\"view\":{\"id\":\"4671\"}},\"id\":\"4670\",\"type\":\"GlyphRenderer\"},{\"attributes\":{\"data\":{\"FHV\":{\"__ndarray__\":\"if0DCi9tC8DT4qDcbIwXwGjAlwV5qiXAMhScLUjwLcB/bh8C/pgywKuJV2gUrTbAaFeTwdliOcBFRFBmIbc7wE0qW8HnSz7AncDl9pwHQMBZWOlECOJAwJnrZG3680HAETTQ2BmsQsBTEgYI9IdDwL0aj3+E9UTARnYzQG3ZRcAUQW0ST3tGwG9Y/C2XiEfAteSfat8WSMDiJ/VDIXhIwJGX+Ac5MknAgolzf7OYScD9eYgeBdNJwH7Cva8UfkrAC430bz7YSsB15NZQvABLwCOcJ9IkmEvA9bzuuQjRS8COkYEFHdlLwFC2HPeFVkzAPpwKJDl5TMCSHCqsqHpMwDA1Laf+3kzA0fZQ6D3nTMBIu/zqgOZMwPK1vtwmUE3AP9QzoxRQTcA=\",\"dtype\":\"float64\",\"order\":\"little\",\"shape\":[37]},\"index\":[0,2,4,6,8,10,12,14,16,18,20,22,24,26,28,30,32,34,36,38,40,42,44,46,48,50,52,54,56,58,60,62,64,66,68,70,72]},\"selected\":{\"id\":\"4737\"},\"selection_policy\":{\"id\":\"4759\"}},\"id\":\"4736\",\"type\":\"ColumnDataSource\"},{\"attributes\":{\"data\":{\"FHV\":{\"__ndarray__\":\"puFLvpFSK8ADPb9JKMAqwAjA1ThPuirA7w6tkra2KsCpYW6K5bMqwON9x3xrsSrAzSdgvCiuKsD1brmy3KcqwCMz0qJkpirAbvbd9w2kKsCtRqChkKMqwMcUjvSUpCrAawsvfWGkKsCew3toxacqwPfE/S/UqCrATkr59NSoKsCzQ5Fex6oqwImS3uNuqirA9OC4oimRKsC+eBg4OJIqwHKWA0uNlyrAo2knNYOaKsA8IIEjmqAqwK3NNq8ZpCrARc9dNQeoKsAdxIM0a6sqwNy1dUD7sSrAzj0EkWG4KsCAy7I+X74qwKRY796MwirAnS5RW37DKsCvTSsUc8IqwN+v5O1jwirAi5VPDC3EKsB4sI4ZJMkqwNpLuWztzirAlV0U69Y9K8A=\",\"dtype\":\"float64\",\"order\":\"little\",\"shape\":[37]},\"index\":[0,2,4,6,8,10,12,14,16,18,20,22,24,26,28,30,32,34,36,38,40,42,44,46,48,50,52,54,56,58,60,62,64,66,68,70,72]},\"selected\":{\"id\":\"4665\"},\"selection_policy\":{\"id\":\"4681\"}},\"id\":\"4664\",\"type\":\"ColumnDataSource\"},{\"attributes\":{\"line_color\":\"#fc4f30\",\"line_width\":2,\"x\":{\"field\":\"index\"},\"y\":{\"field\":\"FHV\"}},\"id\":\"4685\",\"type\":\"Line\"}],\"root_ids\":[\"4597\"]},\"title\":\"Bokeh Application\",\"version\":\"2.4.2\"}};\n",
       "    var render_items = [{\"docid\":\"c5642fa1-1d1b-40e6-a890-04360802099a\",\"root_ids\":[\"4597\"],\"roots\":{\"4597\":\"ca2f9495-0f87-49b7-b15e-d0dc4f8a1ab3\"}}];\n",
       "    root.Bokeh.embed.embed_items_notebook(docs_json, render_items);\n",
       "  }\n",
       "  if (root.Bokeh !== undefined && root.Bokeh.Panel !== undefined) {\n",
       "    embed_document(root);\n",
       "  } else {\n",
       "    var attempts = 0;\n",
       "    var timer = setInterval(function(root) {\n",
       "      if (root.Bokeh !== undefined && root.Bokeh.Panel !== undefined) {\n",
       "        clearInterval(timer);\n",
       "        embed_document(root);\n",
       "      } else if (document.readyState == \"complete\") {\n",
       "        attempts++;\n",
       "        if (attempts > 200) {\n",
       "          clearInterval(timer);\n",
       "          console.log(\"Bokeh: ERROR: Unable to run BokehJS code because BokehJS library is missing\");\n",
       "        }\n",
       "      }\n",
       "    }, 25, root)\n",
       "  }\n",
       "})(window);</script>"
      ],
      "text/plain": [
       ":Overlay\n",
       "   .Curve.Ideal_PF_plus_PD :Curve   [index]   (FHV)\n",
       "   .Curve.Ideal_PF         :Curve   [index]   (FHV)\n",
       "   .Curve.JMA_PF_plus_PD   :Curve   [index]   (FHV)\n",
       "   .Curve.JMA_PF           :Curve   [index]   (FHV)\n",
       "   .Curve.PD               :Curve   [index]   (FHV)\n",
       "   .Curve.Baseline         :Curve   [index]   (FHV)"
      ]
     },
     "execution_count": 38,
     "metadata": {
      "application/vnd.holoviews_exec.v0+json": {
       "id": "4597"
      }
     },
     "output_type": "execute_result"
    }
   ],
   "source": [
    "(res_ideal_pd['FHV'].hvplot(xlabel='horizon (hour)', ylabel='NSE', title='', width=750, label='Ideal PF + PD',height=400) * \\\n",
    "res_ideal['FHV'].hvplot(xlabel='horizon (hour)', ylabel='NSE', title='', width=750, label='Ideal PF',height=400) * \\\n",
    "res_jma_pd['FHV'].hvplot(xlabel='horizon (hour)', ylabel='NSE', title='', width=750, label='JMA PF + PD',height=400) * \\\n",
    "res_jma['FHV'].hvplot(xlabel='horizon (hour)', ylabel='NSE', title='', width=750, label='JMA PF',height=400) * \\\n",
    "res_pd['FHV'].hvplot(xlabel='horizon (hour)', ylabel='NSE', title='', width=750, label='PD',height=400) * \\\n",
    "res_base['FHV'].hvplot(xlabel='horizon (hour)', ylabel='NSE', title='', width=750, label='Baseline', height=400))"
   ]
  },
  {
   "cell_type": "markdown",
   "id": "809be9d2-806e-4139-8c70-31d240dfcaf4",
   "metadata": {},
   "source": [
    "### FLV"
   ]
  },
  {
   "cell_type": "code",
   "execution_count": 39,
   "id": "b67f2893-787b-41d9-856e-71fead8a173b",
   "metadata": {},
   "outputs": [
    {
     "data": {},
     "metadata": {},
     "output_type": "display_data"
    },
    {
     "data": {
      "application/vnd.holoviews_exec.v0+json": "",
      "text/html": [
       "<div id='5056'>\n",
       "\n",
       "\n",
       "\n",
       "\n",
       "\n",
       "  <div class=\"bk-root\" id=\"247a2a66-2bde-4d34-a41a-79e86c3fc4d2\" data-root-id=\"5056\"></div>\n",
       "</div>\n",
       "<script type=\"application/javascript\">(function(root) {\n",
       "  function embed_document(root) {\n",
       "    var docs_json = {\"055b5a47-96f9-4d1c-b5ec-c3a610490804\":{\"defs\":[{\"extends\":null,\"module\":null,\"name\":\"ReactiveHTML1\",\"overrides\":[],\"properties\":[]},{\"extends\":null,\"module\":null,\"name\":\"FlexBox1\",\"overrides\":[],\"properties\":[{\"default\":\"flex-start\",\"kind\":null,\"name\":\"align_content\"},{\"default\":\"flex-start\",\"kind\":null,\"name\":\"align_items\"},{\"default\":\"row\",\"kind\":null,\"name\":\"flex_direction\"},{\"default\":\"wrap\",\"kind\":null,\"name\":\"flex_wrap\"},{\"default\":\"flex-start\",\"kind\":null,\"name\":\"justify_content\"}]},{\"extends\":null,\"module\":null,\"name\":\"GridStack1\",\"overrides\":[],\"properties\":[{\"default\":\"warn\",\"kind\":null,\"name\":\"mode\"},{\"default\":null,\"kind\":null,\"name\":\"ncols\"},{\"default\":null,\"kind\":null,\"name\":\"nrows\"},{\"default\":true,\"kind\":null,\"name\":\"allow_resize\"},{\"default\":true,\"kind\":null,\"name\":\"allow_drag\"},{\"default\":[],\"kind\":null,\"name\":\"state\"}]},{\"extends\":null,\"module\":null,\"name\":\"click1\",\"overrides\":[],\"properties\":[{\"default\":\"\",\"kind\":null,\"name\":\"terminal_output\"},{\"default\":\"\",\"kind\":null,\"name\":\"debug_name\"},{\"default\":0,\"kind\":null,\"name\":\"clears\"}]},{\"extends\":null,\"module\":null,\"name\":\"NotificationAreaBase1\",\"overrides\":[],\"properties\":[{\"default\":\"bottom-right\",\"kind\":null,\"name\":\"position\"},{\"default\":0,\"kind\":null,\"name\":\"_clear\"}]},{\"extends\":null,\"module\":null,\"name\":\"NotificationArea1\",\"overrides\":[],\"properties\":[{\"default\":[],\"kind\":null,\"name\":\"notifications\"},{\"default\":\"bottom-right\",\"kind\":null,\"name\":\"position\"},{\"default\":0,\"kind\":null,\"name\":\"_clear\"},{\"default\":[{\"background\":\"#ffc107\",\"icon\":{\"className\":\"fas fa-exclamation-triangle\",\"color\":\"white\",\"tagName\":\"i\"},\"type\":\"warning\"},{\"background\":\"#007bff\",\"icon\":{\"className\":\"fas fa-info-circle\",\"color\":\"white\",\"tagName\":\"i\"},\"type\":\"info\"}],\"kind\":null,\"name\":\"types\"}]},{\"extends\":null,\"module\":null,\"name\":\"Notification\",\"overrides\":[],\"properties\":[{\"default\":null,\"kind\":null,\"name\":\"background\"},{\"default\":3000,\"kind\":null,\"name\":\"duration\"},{\"default\":null,\"kind\":null,\"name\":\"icon\"},{\"default\":\"\",\"kind\":null,\"name\":\"message\"},{\"default\":null,\"kind\":null,\"name\":\"notification_type\"},{\"default\":false,\"kind\":null,\"name\":\"_destroyed\"}]},{\"extends\":null,\"module\":null,\"name\":\"TemplateActions1\",\"overrides\":[],\"properties\":[{\"default\":0,\"kind\":null,\"name\":\"open_modal\"},{\"default\":0,\"kind\":null,\"name\":\"close_modal\"}]},{\"extends\":null,\"module\":null,\"name\":\"MaterialTemplateActions1\",\"overrides\":[],\"properties\":[{\"default\":0,\"kind\":null,\"name\":\"open_modal\"},{\"default\":0,\"kind\":null,\"name\":\"close_modal\"}]}],\"roots\":{\"references\":[{\"attributes\":{\"axis\":{\"id\":\"5079\"},\"coordinates\":null,\"dimension\":1,\"grid_line_color\":null,\"group\":null,\"ticker\":null},\"id\":\"5082\",\"type\":\"Grid\"},{\"attributes\":{\"data\":{\"FLV\":{\"__ndarray__\":\"Vojq7zAdJsCpdHWe1CnBv+tE1bUa8RNA9W1ID+4GIECcWYJbiNsnQKEx18Bm2ytAaRr8IZ2LMEBvOebG9GkyQI3N7rkG4DRAHrMJ1D5GNkDgMhd1ujs2QBdo5v0mkDhAAsOgkVkIOEAAgByxJA45QIwyPrsRjjhAxDS4hg38OUAJIshbYCs5QEKhFMYssTpAna/UGg0pO0AMP+vFCSQ7QBUdI5yXDjtAiT/JGyVhO0CFMSJPKS07QEsv19BYwjtA2pRZkEs2PUAaCVVg13Q9QFrGqBgelz1Av4433CjsO0Bc+w1FYJk9QL8d3gXH9zxA19hisYUMPEBU3O2IGAM+QJJXZyfjIT5A9bap5gqSP0Ct0R/oJuA/QN09SDLQHz9AYMesxcJmPUA=\",\"dtype\":\"float64\",\"order\":\"little\",\"shape\":[37]},\"index\":[0,2,4,6,8,10,12,14,16,18,20,22,24,26,28,30,32,34,36,38,40,42,44,46,48,50,52,54,56,58,60,62,64,66,68,70,72]},\"selected\":{\"id\":\"5103\"},\"selection_policy\":{\"id\":\"5117\"}},\"id\":\"5102\",\"type\":\"ColumnDataSource\"},{\"attributes\":{\"coordinates\":null,\"data_source\":{\"id\":\"5223\"},\"glyph\":{\"id\":\"5226\"},\"group\":null,\"hover_glyph\":null,\"muted_glyph\":{\"id\":\"5228\"},\"nonselection_glyph\":{\"id\":\"5227\"},\"selection_glyph\":{\"id\":\"5252\"},\"view\":{\"id\":\"5230\"}},\"id\":\"5229\",\"type\":\"GlyphRenderer\"},{\"attributes\":{},\"id\":\"5190\",\"type\":\"UnionRenderers\"},{\"attributes\":{\"coordinates\":null,\"data_source\":{\"id\":\"5195\"},\"glyph\":{\"id\":\"5198\"},\"group\":null,\"hover_glyph\":null,\"muted_glyph\":{\"id\":\"5200\"},\"nonselection_glyph\":{\"id\":\"5199\"},\"selection_glyph\":{\"id\":\"5222\"},\"view\":{\"id\":\"5202\"}},\"id\":\"5201\",\"type\":\"GlyphRenderer\"},{\"attributes\":{},\"id\":\"5087\",\"type\":\"ResetTool\"},{\"attributes\":{\"label\":{\"value\":\"JMA PF\"},\"renderers\":[{\"id\":\"5175\"}]},\"id\":\"5193\",\"type\":\"LegendItem\"},{\"attributes\":{\"bottom_units\":\"screen\",\"coordinates\":null,\"fill_alpha\":0.5,\"fill_color\":\"lightgrey\",\"group\":null,\"left_units\":\"screen\",\"level\":\"overlay\",\"line_alpha\":1.0,\"line_color\":\"black\",\"line_dash\":[4,4],\"line_width\":2,\"right_units\":\"screen\",\"syncable\":false,\"top_units\":\"screen\"},\"id\":\"5088\",\"type\":\"BoxAnnotation\"},{\"attributes\":{\"overlay\":{\"id\":\"5088\"}},\"id\":\"5086\",\"type\":\"BoxZoomTool\"},{\"attributes\":{\"line_color\":\"#17becf\",\"line_width\":2,\"x\":{\"field\":\"index\"},\"y\":{\"field\":\"FLV\"}},\"id\":\"5252\",\"type\":\"Line\"},{\"attributes\":{},\"id\":\"5098\",\"type\":\"AllLabels\"},{\"attributes\":{\"line_alpha\":0.1,\"line_color\":\"#17becf\",\"line_width\":2,\"x\":{\"field\":\"index\"},\"y\":{\"field\":\"FLV\"}},\"id\":\"5227\",\"type\":\"Line\"},{\"attributes\":{},\"id\":\"5224\",\"type\":\"Selection\"},{\"attributes\":{\"line_color\":\"#17becf\",\"line_width\":2,\"x\":{\"field\":\"index\"},\"y\":{\"field\":\"FLV\"}},\"id\":\"5226\",\"type\":\"Line\"},{\"attributes\":{},\"id\":\"5124\",\"type\":\"Selection\"},{\"attributes\":{},\"id\":\"5083\",\"type\":\"SaveTool\"},{\"attributes\":{\"line_alpha\":0.2,\"line_color\":\"#17becf\",\"line_width\":2,\"x\":{\"field\":\"index\"},\"y\":{\"field\":\"FLV\"}},\"id\":\"5228\",\"type\":\"Line\"},{\"attributes\":{},\"id\":\"5117\",\"type\":\"UnionRenderers\"},{\"attributes\":{\"source\":{\"id\":\"5223\"}},\"id\":\"5230\",\"type\":\"CDSView\"},{\"attributes\":{},\"id\":\"5248\",\"type\":\"UnionRenderers\"},{\"attributes\":{\"label\":{\"value\":\"Baseline\"},\"renderers\":[{\"id\":\"5229\"}]},\"id\":\"5251\",\"type\":\"LegendItem\"},{\"attributes\":{\"end\":46.05294065567712,\"reset_end\":46.05294065567712,\"reset_start\":-55.711707176332084,\"start\":-55.711707176332084,\"tags\":[[[\"FLV\",\"FLV\",null]]]},\"id\":\"5059\",\"type\":\"Range1d\"},{\"attributes\":{\"line_color\":\"#fc4f30\",\"line_width\":2,\"x\":{\"field\":\"index\"},\"y\":{\"field\":\"FLV\"}},\"id\":\"5144\",\"type\":\"Line\"},{\"attributes\":{},\"id\":\"5101\",\"type\":\"AllLabels\"},{\"attributes\":{\"line_alpha\":0.1,\"line_color\":\"#e5ae38\",\"line_width\":2,\"x\":{\"field\":\"index\"},\"y\":{\"field\":\"FLV\"}},\"id\":\"5149\",\"type\":\"Line\"},{\"attributes\":{\"label\":{\"value\":\"JMA PF + PD\"},\"renderers\":[{\"id\":\"5151\"}]},\"id\":\"5167\",\"type\":\"LegendItem\"},{\"attributes\":{\"line_alpha\":0.1,\"line_color\":\"#6d904f\",\"line_width\":2,\"x\":{\"field\":\"index\"},\"y\":{\"field\":\"FLV\"}},\"id\":\"5173\",\"type\":\"Line\"},{\"attributes\":{\"data\":{\"FLV\":{\"__ndarray__\":\"19b5r70gQUChdXzPbZo+QPc800+LrTBADjFD3hB0J0DdP43baUY0QOXfAAekWAzASsIG3LuVGcCCDd1OFE8CQOVSlX8fQyPACCUMc4IcKMDIVzzwul7kP32LKIoYRirAiMi33PhUMcAJbngFYJzvv0tWqFheMCzAuRQiDIitGcCItZ8pyaMRQIBLShFsERrAyJl1/JPXE8C6zu+1oEwUQHWbr7pHxOS/DxjvGxe3BMAX8pyGK0gXQOrZ6usOWQdAwmunbqAgEUApp+rh2XAjQImVCMvcNvs/xkjeLL2TEkBL6chp8rUxQFRdHMpSeiBAp/UWwLvOKUCPoT60mYw4QM51GJThSCJABqSLgLEeNED3Mwaw1jA3QAgbS+wJlzBAIze0RYyQM0A=\",\"dtype\":\"float64\",\"order\":\"little\",\"shape\":[37]},\"index\":[0,2,4,6,8,10,12,14,16,18,20,22,24,26,28,30,32,34,36,38,40,42,44,46,48,50,52,54,56,58,60,62,64,66,68,70,72]},\"selected\":{\"id\":\"5224\"},\"selection_policy\":{\"id\":\"5248\"}},\"id\":\"5223\",\"type\":\"ColumnDataSource\"},{\"attributes\":{\"line_color\":\"#e5ae38\",\"line_width\":2,\"x\":{\"field\":\"index\"},\"y\":{\"field\":\"FLV\"}},\"id\":\"5148\",\"type\":\"Line\"},{\"attributes\":{\"coordinates\":null,\"data_source\":{\"id\":\"5145\"},\"glyph\":{\"id\":\"5148\"},\"group\":null,\"hover_glyph\":null,\"muted_glyph\":{\"id\":\"5150\"},\"nonselection_glyph\":{\"id\":\"5149\"},\"selection_glyph\":{\"id\":\"5168\"},\"view\":{\"id\":\"5152\"}},\"id\":\"5151\",\"type\":\"GlyphRenderer\"},{\"attributes\":{\"tools\":[{\"id\":\"5060\"},{\"id\":\"5083\"},{\"id\":\"5084\"},{\"id\":\"5085\"},{\"id\":\"5086\"},{\"id\":\"5087\"}]},\"id\":\"5089\",\"type\":\"Toolbar\"},{\"attributes\":{\"line_alpha\":0.2,\"line_color\":\"#e5ae38\",\"line_width\":2,\"x\":{\"field\":\"index\"},\"y\":{\"field\":\"FLV\"}},\"id\":\"5150\",\"type\":\"Line\"},{\"attributes\":{\"line_color\":\"#6d904f\",\"line_width\":2,\"x\":{\"field\":\"index\"},\"y\":{\"field\":\"FLV\"}},\"id\":\"5194\",\"type\":\"Line\"},{\"attributes\":{},\"id\":\"5170\",\"type\":\"Selection\"},{\"attributes\":{\"line_color\":\"#30a2da\",\"line_width\":2,\"x\":{\"field\":\"index\"},\"y\":{\"field\":\"FLV\"}},\"id\":\"5122\",\"type\":\"Line\"},{\"attributes\":{\"source\":{\"id\":\"5145\"}},\"id\":\"5152\",\"type\":\"CDSView\"},{\"attributes\":{},\"id\":\"5164\",\"type\":\"UnionRenderers\"},{\"attributes\":{},\"id\":\"5097\",\"type\":\"BasicTickFormatter\"},{\"attributes\":{\"label\":{\"value\":\"PD\"},\"renderers\":[{\"id\":\"5201\"}]},\"id\":\"5221\",\"type\":\"LegendItem\"},{\"attributes\":{\"line_color\":\"#6d904f\",\"line_width\":2,\"x\":{\"field\":\"index\"},\"y\":{\"field\":\"FLV\"}},\"id\":\"5172\",\"type\":\"Line\"},{\"attributes\":{\"line_alpha\":0.2,\"line_color\":\"#8b8b8b\",\"line_width\":2,\"x\":{\"field\":\"index\"},\"y\":{\"field\":\"FLV\"}},\"id\":\"5200\",\"type\":\"Line\"},{\"attributes\":{\"callback\":null,\"renderers\":[{\"id\":\"5108\"},{\"id\":\"5129\"},{\"id\":\"5151\"},{\"id\":\"5175\"},{\"id\":\"5201\"},{\"id\":\"5229\"}],\"tags\":[\"hv_created\"],\"tooltips\":[[\"index\",\"@{index}\"],[\"FLV\",\"@{FLV}\"]]},\"id\":\"5060\",\"type\":\"HoverTool\"},{\"attributes\":{\"line_alpha\":0.1,\"line_color\":\"#8b8b8b\",\"line_width\":2,\"x\":{\"field\":\"index\"},\"y\":{\"field\":\"FLV\"}},\"id\":\"5199\",\"type\":\"Line\"},{\"attributes\":{\"line_color\":\"#8b8b8b\",\"line_width\":2,\"x\":{\"field\":\"index\"},\"y\":{\"field\":\"FLV\"}},\"id\":\"5198\",\"type\":\"Line\"},{\"attributes\":{\"source\":{\"id\":\"5195\"}},\"id\":\"5202\",\"type\":\"CDSView\"},{\"attributes\":{},\"id\":\"5100\",\"type\":\"BasicTickFormatter\"},{\"attributes\":{},\"id\":\"5218\",\"type\":\"UnionRenderers\"},{\"attributes\":{\"coordinates\":null,\"data_source\":{\"id\":\"5102\"},\"glyph\":{\"id\":\"5105\"},\"group\":null,\"hover_glyph\":null,\"muted_glyph\":{\"id\":\"5107\"},\"nonselection_glyph\":{\"id\":\"5106\"},\"selection_glyph\":{\"id\":\"5122\"},\"view\":{\"id\":\"5109\"}},\"id\":\"5108\",\"type\":\"GlyphRenderer\"},{\"attributes\":{\"click_policy\":\"mute\",\"coordinates\":null,\"group\":null,\"items\":[{\"id\":\"5121\"},{\"id\":\"5143\"},{\"id\":\"5167\"},{\"id\":\"5193\"},{\"id\":\"5221\"},{\"id\":\"5251\"}]},\"id\":\"5120\",\"type\":\"Legend\"},{\"attributes\":{},\"id\":\"5146\",\"type\":\"Selection\"},{\"attributes\":{},\"id\":\"5071\",\"type\":\"LinearScale\"},{\"attributes\":{},\"id\":\"5103\",\"type\":\"Selection\"},{\"attributes\":{\"line_alpha\":0.1,\"line_color\":\"#30a2da\",\"line_width\":2,\"x\":{\"field\":\"index\"},\"y\":{\"field\":\"FLV\"}},\"id\":\"5106\",\"type\":\"Line\"},{\"attributes\":{\"data\":{\"FLV\":{\"__ndarray__\":\"Y2cmQMx8JsA1zd0ynvQiwOr+Cwbi0jPA2r+7bYVsNsAa6MBsuE8wwDDHipN+tjjA1nsortQgR8BFDs1zxYoxwCS0d4o1tDzAYlya45udR8AqVzGaMvE+wBGkCACz2zjA7g7nvYVKPcBi4lItpUI8wOKi3n8XbT7ADg70j+BXP8Daopnl7d4uwF8hwhPg0zbAvhZErcybOsAg3jDFINg2wL9RHOy/hDjAd43alZ7BO8BFpIYIzOspwLsH0mB0RzPAXIEB1QT2NcC7mA5GpVclwJolzuU6YzPA5lovo4sLM8CUMIgI+r0iwNt8CB3xVzLAnupQzUpCMMBHqxYwYlgBwLapwSNcUSPA0d/YUgVKK8Cts5k0YIUKwGIm43RwXCbAgsWhCKeXKsA=\",\"dtype\":\"float64\",\"order\":\"little\",\"shape\":[37]},\"index\":[0,2,4,6,8,10,12,14,16,18,20,22,24,26,28,30,32,34,36,38,40,42,44,46,48,50,52,54,56,58,60,62,64,66,68,70,72]},\"selected\":{\"id\":\"5196\"},\"selection_policy\":{\"id\":\"5218\"}},\"id\":\"5195\",\"type\":\"ColumnDataSource\"},{\"attributes\":{\"label\":{\"value\":\"Ideal PF\"},\"renderers\":[{\"id\":\"5129\"}]},\"id\":\"5143\",\"type\":\"LegendItem\"},{\"attributes\":{\"end\":72.0,\"reset_end\":72.0,\"reset_start\":0.0,\"tags\":[[[\"index\",\"index\",null]]]},\"id\":\"5058\",\"type\":\"Range1d\"},{\"attributes\":{\"line_color\":\"#30a2da\",\"line_width\":2,\"x\":{\"field\":\"index\"},\"y\":{\"field\":\"FLV\"}},\"id\":\"5105\",\"type\":\"Line\"},{\"attributes\":{\"data\":{\"FLV\":{\"__ndarray__\":\"gexvnLB3QUCM6MFANns8QNu1Jxc/NDBAawqQ4sbALECwGMytgWY7QAY+L2LOrStAAGK3z8A8KkB+ax2FF682QEncIQ14BCdAI+2aKO5cHsAtnz0dLBEgQA+kye6ugR5AAyW6ScK3IsAsDupJcJYSQLjrQx7zKxpAO4s91AkoEkCY7/Ph+g4xQCYsvIL3K8o/snc+Zs8W5D9TsAUlGaYmQJFTsed7WA1Ay60twYWt8z9B4OgcaHQdQJJXlFzGwBJA/gj27tsR37+qJQpRb/4dQKDR6hVi/Lu/APwOQFCh6z/ED0P7UgIbQI9VxhnNKgXA86ktc6mnAcCeTHTr4JcaQAnB9rMXdxXAOP1yvT1LFEDg7JRiWgYjQDiHnBhKhxLA7zILx3sWB0A=\",\"dtype\":\"float64\",\"order\":\"little\",\"shape\":[37]},\"index\":[0,2,4,6,8,10,12,14,16,18,20,22,24,26,28,30,32,34,36,38,40,42,44,46,48,50,52,54,56,58,60,62,64,66,68,70,72]},\"selected\":{\"id\":\"5170\"},\"selection_policy\":{\"id\":\"5190\"}},\"id\":\"5169\",\"type\":\"ColumnDataSource\"},{\"attributes\":{\"coordinates\":null,\"data_source\":{\"id\":\"5123\"},\"glyph\":{\"id\":\"5126\"},\"group\":null,\"hover_glyph\":null,\"muted_glyph\":{\"id\":\"5128\"},\"nonselection_glyph\":{\"id\":\"5127\"},\"selection_glyph\":{\"id\":\"5144\"},\"view\":{\"id\":\"5130\"}},\"id\":\"5129\",\"type\":\"GlyphRenderer\"},{\"attributes\":{\"margin\":[5,5,5,5],\"name\":\"HSpacer13495\",\"sizing_mode\":\"stretch_width\"},\"id\":\"5057\",\"type\":\"Spacer\"},{\"attributes\":{\"source\":{\"id\":\"5102\"}},\"id\":\"5109\",\"type\":\"CDSView\"},{\"attributes\":{\"data\":{\"FLV\":{\"__ndarray__\":\"69Wo0WRdJMB48klJCsAawEx4FtlkiyXA8gp/cR+CK8A0Tgv3iYX0P5JvORX2ixDAQpWQ3/mCIcA7reF0XMEYQBVp5EeHDMC/TZqYEmVZM8BjEF99GgceQA7dAg/HNeU/FTezhXxwNcAIvWvh1r8TwHLSCMSlsQbATlOimNfVNcD0WfyCmL4RQDuPqjgODxHAs9QEYCkaPMAsj2UFp9n8PyF8rhGG3BzAqS88b8KQKMBaxiMj85gJwCnyUzbwfyXAnVf0f+8mL8C5PeiuJ3MEwOCXXtFm9CTAnkT29GjBK8DQgwEPjFAxwNNqt9D4Wy3A5xg/YQnzMcBmu/iB0YMcwNudvt7KSCfA7P44AL31McCFjtsxVWUcwD403fSPmDDAm6E78ly4LcA=\",\"dtype\":\"float64\",\"order\":\"little\",\"shape\":[37]},\"index\":[0,2,4,6,8,10,12,14,16,18,20,22,24,26,28,30,32,34,36,38,40,42,44,46,48,50,52,54,56,58,60,62,64,66,68,70,72]},\"selected\":{\"id\":\"5146\"},\"selection_policy\":{\"id\":\"5164\"}},\"id\":\"5145\",\"type\":\"ColumnDataSource\"},{\"attributes\":{\"line_alpha\":0.2,\"line_color\":\"#fc4f30\",\"line_width\":2,\"x\":{\"field\":\"index\"},\"y\":{\"field\":\"FLV\"}},\"id\":\"5128\",\"type\":\"Line\"},{\"attributes\":{},\"id\":\"5073\",\"type\":\"LinearScale\"},{\"attributes\":{\"line_alpha\":0.2,\"line_color\":\"#30a2da\",\"line_width\":2,\"x\":{\"field\":\"index\"},\"y\":{\"field\":\"FLV\"}},\"id\":\"5107\",\"type\":\"Line\"},{\"attributes\":{\"line_alpha\":0.1,\"line_color\":\"#fc4f30\",\"line_width\":2,\"x\":{\"field\":\"index\"},\"y\":{\"field\":\"FLV\"}},\"id\":\"5127\",\"type\":\"Line\"},{\"attributes\":{\"line_color\":\"#fc4f30\",\"line_width\":2,\"x\":{\"field\":\"index\"},\"y\":{\"field\":\"FLV\"}},\"id\":\"5126\",\"type\":\"Line\"},{\"attributes\":{\"coordinates\":null,\"group\":null,\"text_color\":\"black\",\"text_font_size\":\"12pt\"},\"id\":\"5067\",\"type\":\"Title\"},{\"attributes\":{\"line_color\":\"#e5ae38\",\"line_width\":2,\"x\":{\"field\":\"index\"},\"y\":{\"field\":\"FLV\"}},\"id\":\"5168\",\"type\":\"Line\"},{\"attributes\":{},\"id\":\"5140\",\"type\":\"UnionRenderers\"},{\"attributes\":{\"source\":{\"id\":\"5123\"}},\"id\":\"5130\",\"type\":\"CDSView\"},{\"attributes\":{\"axis_label\":\"horizon (hour)\",\"coordinates\":null,\"formatter\":{\"id\":\"5097\"},\"group\":null,\"major_label_policy\":{\"id\":\"5098\"},\"ticker\":{\"id\":\"5076\"}},\"id\":\"5075\",\"type\":\"LinearAxis\"},{\"attributes\":{\"below\":[{\"id\":\"5075\"}],\"center\":[{\"id\":\"5078\"},{\"id\":\"5082\"},{\"id\":\"5120\"}],\"height\":400,\"left\":[{\"id\":\"5079\"}],\"margin\":[5,5,5,5],\"min_border_bottom\":10,\"min_border_left\":10,\"min_border_right\":10,\"min_border_top\":10,\"renderers\":[{\"id\":\"5108\"},{\"id\":\"5129\"},{\"id\":\"5151\"},{\"id\":\"5175\"},{\"id\":\"5201\"},{\"id\":\"5229\"}],\"sizing_mode\":\"fixed\",\"title\":{\"id\":\"5067\"},\"toolbar\":{\"id\":\"5089\"},\"width\":750,\"x_range\":{\"id\":\"5058\"},\"x_scale\":{\"id\":\"5071\"},\"y_range\":{\"id\":\"5059\"},\"y_scale\":{\"id\":\"5073\"}},\"id\":\"5066\",\"subtype\":\"Figure\",\"type\":\"Plot\"},{\"attributes\":{\"label\":{\"value\":\"Ideal PF + PD\"},\"renderers\":[{\"id\":\"5108\"}]},\"id\":\"5121\",\"type\":\"LegendItem\"},{\"attributes\":{\"margin\":[5,5,5,5],\"name\":\"HSpacer13496\",\"sizing_mode\":\"stretch_width\"},\"id\":\"5413\",\"type\":\"Spacer\"},{\"attributes\":{\"axis\":{\"id\":\"5075\"},\"coordinates\":null,\"grid_line_color\":null,\"group\":null,\"ticker\":null},\"id\":\"5078\",\"type\":\"Grid\"},{\"attributes\":{\"axis_label\":\"NSE\",\"coordinates\":null,\"formatter\":{\"id\":\"5100\"},\"group\":null,\"major_label_policy\":{\"id\":\"5101\"},\"ticker\":{\"id\":\"5080\"}},\"id\":\"5079\",\"type\":\"LinearAxis\"},{\"attributes\":{\"children\":[{\"id\":\"5057\"},{\"id\":\"5066\"},{\"id\":\"5413\"}],\"margin\":[0,0,0,0],\"name\":\"Row13491\",\"tags\":[\"embedded\"]},\"id\":\"5056\",\"type\":\"Row\"},{\"attributes\":{},\"id\":\"5085\",\"type\":\"WheelZoomTool\"},{\"attributes\":{\"line_color\":\"#8b8b8b\",\"line_width\":2,\"x\":{\"field\":\"index\"},\"y\":{\"field\":\"FLV\"}},\"id\":\"5222\",\"type\":\"Line\"},{\"attributes\":{},\"id\":\"5076\",\"type\":\"BasicTicker\"},{\"attributes\":{\"source\":{\"id\":\"5169\"}},\"id\":\"5176\",\"type\":\"CDSView\"},{\"attributes\":{},\"id\":\"5080\",\"type\":\"BasicTicker\"},{\"attributes\":{\"coordinates\":null,\"data_source\":{\"id\":\"5169\"},\"glyph\":{\"id\":\"5172\"},\"group\":null,\"hover_glyph\":null,\"muted_glyph\":{\"id\":\"5174\"},\"nonselection_glyph\":{\"id\":\"5173\"},\"selection_glyph\":{\"id\":\"5194\"},\"view\":{\"id\":\"5176\"}},\"id\":\"5175\",\"type\":\"GlyphRenderer\"},{\"attributes\":{},\"id\":\"5084\",\"type\":\"PanTool\"},{\"attributes\":{\"line_alpha\":0.2,\"line_color\":\"#6d904f\",\"line_width\":2,\"x\":{\"field\":\"index\"},\"y\":{\"field\":\"FLV\"}},\"id\":\"5174\",\"type\":\"Line\"},{\"attributes\":{},\"id\":\"5196\",\"type\":\"Selection\"},{\"attributes\":{\"data\":{\"FLV\":{\"__ndarray__\":\"VJvAsxo5QUDv2Wr4K9dBQFGDqPlwykFAT3OYhy+DQED7vKmtzq9AQCz/q7ot0UFAXE0S31QqQkC5VQ7j7jxCQDsEZeWk7EBAgqVoJrnkQEC7KQWc1U9BQGoMezctb0FAZGxT5xdeQUAc0C0GAdtAQH3tfcAdaj9AZgsOgF+oQEAYWNHdTMJAQBGKyvDrxkBATjOBznvHQUBq01Eo2FVBQBrC7fUeo0BArXylZN2RQEBa2eMqfKRAQPhk1/c1R0FA2OOfBaRAQUB66VmZhUZBQPhELucrOkBAO68ZtxpUQEDuUoU9MutAQPowBE6VB0JATj3sWHITQkCMZ39tSclCQL8W8/nKt0JAvVurz+VFQkBViJVCftRBQLrCd7cIW0JAxZYlEEHtQUA=\",\"dtype\":\"float64\",\"order\":\"little\",\"shape\":[37]},\"index\":[0,2,4,6,8,10,12,14,16,18,20,22,24,26,28,30,32,34,36,38,40,42,44,46,48,50,52,54,56,58,60,62,64,66,68,70,72]},\"selected\":{\"id\":\"5124\"},\"selection_policy\":{\"id\":\"5140\"}},\"id\":\"5123\",\"type\":\"ColumnDataSource\"}],\"root_ids\":[\"5056\"]},\"title\":\"Bokeh Application\",\"version\":\"2.4.2\"}};\n",
       "    var render_items = [{\"docid\":\"055b5a47-96f9-4d1c-b5ec-c3a610490804\",\"root_ids\":[\"5056\"],\"roots\":{\"5056\":\"247a2a66-2bde-4d34-a41a-79e86c3fc4d2\"}}];\n",
       "    root.Bokeh.embed.embed_items_notebook(docs_json, render_items);\n",
       "  }\n",
       "  if (root.Bokeh !== undefined && root.Bokeh.Panel !== undefined) {\n",
       "    embed_document(root);\n",
       "  } else {\n",
       "    var attempts = 0;\n",
       "    var timer = setInterval(function(root) {\n",
       "      if (root.Bokeh !== undefined && root.Bokeh.Panel !== undefined) {\n",
       "        clearInterval(timer);\n",
       "        embed_document(root);\n",
       "      } else if (document.readyState == \"complete\") {\n",
       "        attempts++;\n",
       "        if (attempts > 200) {\n",
       "          clearInterval(timer);\n",
       "          console.log(\"Bokeh: ERROR: Unable to run BokehJS code because BokehJS library is missing\");\n",
       "        }\n",
       "      }\n",
       "    }, 25, root)\n",
       "  }\n",
       "})(window);</script>"
      ],
      "text/plain": [
       ":Overlay\n",
       "   .Curve.Ideal_PF_plus_PD :Curve   [index]   (FLV)\n",
       "   .Curve.Ideal_PF         :Curve   [index]   (FLV)\n",
       "   .Curve.JMA_PF_plus_PD   :Curve   [index]   (FLV)\n",
       "   .Curve.JMA_PF           :Curve   [index]   (FLV)\n",
       "   .Curve.PD               :Curve   [index]   (FLV)\n",
       "   .Curve.Baseline         :Curve   [index]   (FLV)"
      ]
     },
     "execution_count": 39,
     "metadata": {
      "application/vnd.holoviews_exec.v0+json": {
       "id": "5056"
      }
     },
     "output_type": "execute_result"
    }
   ],
   "source": [
    "(res_ideal_pd['FLV'].hvplot(xlabel='horizon (hour)', ylabel='NSE', title='', width=750, label='Ideal PF + PD',height=400) * \\\n",
    "res_ideal['FLV'].hvplot(xlabel='horizon (hour)', ylabel='NSE', title='', width=750, label='Ideal PF',height=400) * \\\n",
    "res_jma_pd['FLV'].hvplot(xlabel='horizon (hour)', ylabel='NSE', title='', width=750, label='JMA PF + PD',height=400) * \\\n",
    "res_jma['FLV'].hvplot(xlabel='horizon (hour)', ylabel='NSE', title='', width=750, label='JMA PF',height=400) * \\\n",
    "res_pd['FLV'].hvplot(xlabel='horizon (hour)', ylabel='NSE', title='', width=750, label='PD',height=400) * \\\n",
    "res_base['FLV'].hvplot(xlabel='horizon (hour)', ylabel='NSE', title='', width=750, label='Baseline', height=400))"
   ]
  },
  {
   "cell_type": "markdown",
   "id": "e0ff132d-5cf2-499c-9e22-883f0bb53b30",
   "metadata": {},
   "source": [
    "### FMS"
   ]
  },
  {
   "cell_type": "code",
   "execution_count": 40,
   "id": "0d6f7070-0977-45cd-b6df-e91d5b1bc96d",
   "metadata": {},
   "outputs": [
    {
     "data": {},
     "metadata": {},
     "output_type": "display_data"
    },
    {
     "data": {
      "application/vnd.holoviews_exec.v0+json": "",
      "text/html": [
       "<div id='5515'>\n",
       "\n",
       "\n",
       "\n",
       "\n",
       "\n",
       "  <div class=\"bk-root\" id=\"897dd35c-629b-49b5-b24d-2edb00b29570\" data-root-id=\"5515\"></div>\n",
       "</div>\n",
       "<script type=\"application/javascript\">(function(root) {\n",
       "  function embed_document(root) {\n",
       "    var docs_json = {\"885dcf15-ac14-409f-ab73-628ac25d4b28\":{\"defs\":[{\"extends\":null,\"module\":null,\"name\":\"ReactiveHTML1\",\"overrides\":[],\"properties\":[]},{\"extends\":null,\"module\":null,\"name\":\"FlexBox1\",\"overrides\":[],\"properties\":[{\"default\":\"flex-start\",\"kind\":null,\"name\":\"align_content\"},{\"default\":\"flex-start\",\"kind\":null,\"name\":\"align_items\"},{\"default\":\"row\",\"kind\":null,\"name\":\"flex_direction\"},{\"default\":\"wrap\",\"kind\":null,\"name\":\"flex_wrap\"},{\"default\":\"flex-start\",\"kind\":null,\"name\":\"justify_content\"}]},{\"extends\":null,\"module\":null,\"name\":\"GridStack1\",\"overrides\":[],\"properties\":[{\"default\":\"warn\",\"kind\":null,\"name\":\"mode\"},{\"default\":null,\"kind\":null,\"name\":\"ncols\"},{\"default\":null,\"kind\":null,\"name\":\"nrows\"},{\"default\":true,\"kind\":null,\"name\":\"allow_resize\"},{\"default\":true,\"kind\":null,\"name\":\"allow_drag\"},{\"default\":[],\"kind\":null,\"name\":\"state\"}]},{\"extends\":null,\"module\":null,\"name\":\"click1\",\"overrides\":[],\"properties\":[{\"default\":\"\",\"kind\":null,\"name\":\"terminal_output\"},{\"default\":\"\",\"kind\":null,\"name\":\"debug_name\"},{\"default\":0,\"kind\":null,\"name\":\"clears\"}]},{\"extends\":null,\"module\":null,\"name\":\"NotificationAreaBase1\",\"overrides\":[],\"properties\":[{\"default\":\"bottom-right\",\"kind\":null,\"name\":\"position\"},{\"default\":0,\"kind\":null,\"name\":\"_clear\"}]},{\"extends\":null,\"module\":null,\"name\":\"NotificationArea1\",\"overrides\":[],\"properties\":[{\"default\":[],\"kind\":null,\"name\":\"notifications\"},{\"default\":\"bottom-right\",\"kind\":null,\"name\":\"position\"},{\"default\":0,\"kind\":null,\"name\":\"_clear\"},{\"default\":[{\"background\":\"#ffc107\",\"icon\":{\"className\":\"fas fa-exclamation-triangle\",\"color\":\"white\",\"tagName\":\"i\"},\"type\":\"warning\"},{\"background\":\"#007bff\",\"icon\":{\"className\":\"fas fa-info-circle\",\"color\":\"white\",\"tagName\":\"i\"},\"type\":\"info\"}],\"kind\":null,\"name\":\"types\"}]},{\"extends\":null,\"module\":null,\"name\":\"Notification\",\"overrides\":[],\"properties\":[{\"default\":null,\"kind\":null,\"name\":\"background\"},{\"default\":3000,\"kind\":null,\"name\":\"duration\"},{\"default\":null,\"kind\":null,\"name\":\"icon\"},{\"default\":\"\",\"kind\":null,\"name\":\"message\"},{\"default\":null,\"kind\":null,\"name\":\"notification_type\"},{\"default\":false,\"kind\":null,\"name\":\"_destroyed\"}]},{\"extends\":null,\"module\":null,\"name\":\"TemplateActions1\",\"overrides\":[],\"properties\":[{\"default\":0,\"kind\":null,\"name\":\"open_modal\"},{\"default\":0,\"kind\":null,\"name\":\"close_modal\"}]},{\"extends\":null,\"module\":null,\"name\":\"MaterialTemplateActions1\",\"overrides\":[],\"properties\":[{\"default\":0,\"kind\":null,\"name\":\"open_modal\"},{\"default\":0,\"kind\":null,\"name\":\"close_modal\"}]}],\"roots\":{\"references\":[{\"attributes\":{\"source\":{\"id\":\"5561\"}},\"id\":\"5568\",\"type\":\"CDSView\"},{\"attributes\":{\"line_alpha\":0.1,\"line_color\":\"#fc4f30\",\"line_width\":2,\"x\":{\"field\":\"index\"},\"y\":{\"field\":\"FMS\"}},\"id\":\"5586\",\"type\":\"Line\"},{\"attributes\":{},\"id\":\"5556\",\"type\":\"BasicTickFormatter\"},{\"attributes\":{\"line_alpha\":0.1,\"line_color\":\"#e5ae38\",\"line_width\":2,\"x\":{\"field\":\"index\"},\"y\":{\"field\":\"FMS\"}},\"id\":\"5608\",\"type\":\"Line\"},{\"attributes\":{\"margin\":[5,5,5,5],\"name\":\"HSpacer14807\",\"sizing_mode\":\"stretch_width\"},\"id\":\"5516\",\"type\":\"Spacer\"},{\"attributes\":{\"label\":{\"value\":\"Ideal PF\"},\"renderers\":[{\"id\":\"5588\"}]},\"id\":\"5602\",\"type\":\"LegendItem\"},{\"attributes\":{\"line_alpha\":0.2,\"line_color\":\"#fc4f30\",\"line_width\":2,\"x\":{\"field\":\"index\"},\"y\":{\"field\":\"FMS\"}},\"id\":\"5587\",\"type\":\"Line\"},{\"attributes\":{\"coordinates\":null,\"group\":null,\"text_color\":\"black\",\"text_font_size\":\"12pt\"},\"id\":\"5526\",\"type\":\"Title\"},{\"attributes\":{},\"id\":\"5532\",\"type\":\"LinearScale\"},{\"attributes\":{\"source\":{\"id\":\"5582\"}},\"id\":\"5589\",\"type\":\"CDSView\"},{\"attributes\":{\"line_color\":\"#e5ae38\",\"line_width\":2,\"x\":{\"field\":\"index\"},\"y\":{\"field\":\"FMS\"}},\"id\":\"5627\",\"type\":\"Line\"},{\"attributes\":{\"line_alpha\":0.1,\"line_color\":\"#6d904f\",\"line_width\":2,\"x\":{\"field\":\"index\"},\"y\":{\"field\":\"FMS\"}},\"id\":\"5632\",\"type\":\"Line\"},{\"attributes\":{\"axis_label\":\"horizon (hour)\",\"coordinates\":null,\"formatter\":{\"id\":\"5556\"},\"group\":null,\"major_label_policy\":{\"id\":\"5557\"},\"ticker\":{\"id\":\"5535\"}},\"id\":\"5534\",\"type\":\"LinearAxis\"},{\"attributes\":{},\"id\":\"5599\",\"type\":\"UnionRenderers\"},{\"attributes\":{},\"id\":\"5530\",\"type\":\"LinearScale\"},{\"attributes\":{\"line_color\":\"#17becf\",\"line_width\":2,\"x\":{\"field\":\"index\"},\"y\":{\"field\":\"FMS\"}},\"id\":\"5711\",\"type\":\"Line\"},{\"attributes\":{\"axis\":{\"id\":\"5534\"},\"coordinates\":null,\"grid_line_color\":null,\"group\":null,\"ticker\":null},\"id\":\"5537\",\"type\":\"Grid\"},{\"attributes\":{\"line_color\":\"#e5ae38\",\"line_width\":2,\"x\":{\"field\":\"index\"},\"y\":{\"field\":\"FMS\"}},\"id\":\"5607\",\"type\":\"Line\"},{\"attributes\":{\"label\":{\"value\":\"JMA PF\"},\"renderers\":[{\"id\":\"5634\"}]},\"id\":\"5652\",\"type\":\"LegendItem\"},{\"attributes\":{\"axis_label\":\"NSE\",\"coordinates\":null,\"formatter\":{\"id\":\"5559\"},\"group\":null,\"major_label_policy\":{\"id\":\"5560\"},\"ticker\":{\"id\":\"5539\"}},\"id\":\"5538\",\"type\":\"LinearAxis\"},{\"attributes\":{\"label\":{\"value\":\"Ideal PF + PD\"},\"renderers\":[{\"id\":\"5567\"}]},\"id\":\"5580\",\"type\":\"LegendItem\"},{\"attributes\":{\"children\":[{\"id\":\"5516\"},{\"id\":\"5525\"},{\"id\":\"5872\"}],\"margin\":[0,0,0,0],\"name\":\"Row14803\",\"tags\":[\"embedded\"]},\"id\":\"5515\",\"type\":\"Row\"},{\"attributes\":{},\"id\":\"5544\",\"type\":\"WheelZoomTool\"},{\"attributes\":{},\"id\":\"5655\",\"type\":\"Selection\"},{\"attributes\":{},\"id\":\"5535\",\"type\":\"BasicTicker\"},{\"attributes\":{\"line_color\":\"#8b8b8b\",\"line_width\":2,\"x\":{\"field\":\"index\"},\"y\":{\"field\":\"FMS\"}},\"id\":\"5681\",\"type\":\"Line\"},{\"attributes\":{\"data\":{\"FMS\":{\"__ndarray__\":\"HVVo5h1zZUCLs0jaD85eQLffLETfr1VA2kjqB3yGUkAas5r9QmlPQKEQjpuhuEhAT+/AeFX4RUB5jKvgOQBDQJ7rzZ4+4kFAgtAhe/ucQECISBvK7mM9QHRso/JLuDtAzfbfbToPOkC+oJnZL9c2QJhf96naci9AZyHHMCUkIkBZ6/KFm04PwC8y7Zj2ziHAUIUuGzofJsAa6NNwX1YqwMV3hz71VyzAm97cWgwtL8AI88vEpdswwKxzblmYUzHAYIniNJqXMsCWOqLIzOkzwA5WWw+h3jPAyk+GjdX0NMDeABFG4TM2wB6k7f1W5jXAwynwKoagNsCRrPzM08w3wNFksgrBMDfA9aWo2UYIOMDykCmD+Pc4wJuTiHl7NjjA6WiNzKsiOcA=\",\"dtype\":\"float64\",\"order\":\"little\",\"shape\":[37]},\"index\":[0,2,4,6,8,10,12,14,16,18,20,22,24,26,28,30,32,34,36,38,40,42,44,46,48,50,52,54,56,58,60,62,64,66,68,70,72]},\"selected\":{\"id\":\"5683\"},\"selection_policy\":{\"id\":\"5707\"}},\"id\":\"5682\",\"type\":\"ColumnDataSource\"},{\"attributes\":{},\"id\":\"5539\",\"type\":\"BasicTicker\"},{\"attributes\":{\"line_alpha\":0.2,\"line_color\":\"#8b8b8b\",\"line_width\":2,\"x\":{\"field\":\"index\"},\"y\":{\"field\":\"FMS\"}},\"id\":\"5659\",\"type\":\"Line\"},{\"attributes\":{},\"id\":\"5543\",\"type\":\"PanTool\"},{\"attributes\":{\"line_color\":\"#6d904f\",\"line_width\":2,\"x\":{\"field\":\"index\"},\"y\":{\"field\":\"FMS\"}},\"id\":\"5631\",\"type\":\"Line\"},{\"attributes\":{\"axis\":{\"id\":\"5538\"},\"coordinates\":null,\"dimension\":1,\"grid_line_color\":null,\"group\":null,\"ticker\":null},\"id\":\"5541\",\"type\":\"Grid\"},{\"attributes\":{\"coordinates\":null,\"data_source\":{\"id\":\"5628\"},\"glyph\":{\"id\":\"5631\"},\"group\":null,\"hover_glyph\":null,\"muted_glyph\":{\"id\":\"5633\"},\"nonselection_glyph\":{\"id\":\"5632\"},\"selection_glyph\":{\"id\":\"5653\"},\"view\":{\"id\":\"5635\"}},\"id\":\"5634\",\"type\":\"GlyphRenderer\"},{\"attributes\":{\"coordinates\":null,\"data_source\":{\"id\":\"5682\"},\"glyph\":{\"id\":\"5685\"},\"group\":null,\"hover_glyph\":null,\"muted_glyph\":{\"id\":\"5687\"},\"nonselection_glyph\":{\"id\":\"5686\"},\"selection_glyph\":{\"id\":\"5711\"},\"view\":{\"id\":\"5689\"}},\"id\":\"5688\",\"type\":\"GlyphRenderer\"},{\"attributes\":{\"line_alpha\":0.2,\"line_color\":\"#6d904f\",\"line_width\":2,\"x\":{\"field\":\"index\"},\"y\":{\"field\":\"FMS\"}},\"id\":\"5633\",\"type\":\"Line\"},{\"attributes\":{},\"id\":\"5542\",\"type\":\"SaveTool\"},{\"attributes\":{\"line_alpha\":0.1,\"line_color\":\"#8b8b8b\",\"line_width\":2,\"x\":{\"field\":\"index\"},\"y\":{\"field\":\"FMS\"}},\"id\":\"5658\",\"type\":\"Line\"},{\"attributes\":{\"line_alpha\":0.1,\"line_color\":\"#17becf\",\"line_width\":2,\"x\":{\"field\":\"index\"},\"y\":{\"field\":\"FMS\"}},\"id\":\"5686\",\"type\":\"Line\"},{\"attributes\":{\"overlay\":{\"id\":\"5547\"}},\"id\":\"5545\",\"type\":\"BoxZoomTool\"},{\"attributes\":{},\"id\":\"5683\",\"type\":\"Selection\"},{\"attributes\":{},\"id\":\"5546\",\"type\":\"ResetTool\"},{\"attributes\":{\"source\":{\"id\":\"5628\"}},\"id\":\"5635\",\"type\":\"CDSView\"},{\"attributes\":{},\"id\":\"5649\",\"type\":\"UnionRenderers\"},{\"attributes\":{\"bottom_units\":\"screen\",\"coordinates\":null,\"fill_alpha\":0.5,\"fill_color\":\"lightgrey\",\"group\":null,\"left_units\":\"screen\",\"level\":\"overlay\",\"line_alpha\":1.0,\"line_color\":\"black\",\"line_dash\":[4,4],\"line_width\":2,\"right_units\":\"screen\",\"syncable\":false,\"top_units\":\"screen\"},\"id\":\"5547\",\"type\":\"BoxAnnotation\"},{\"attributes\":{\"line_color\":\"#17becf\",\"line_width\":2,\"x\":{\"field\":\"index\"},\"y\":{\"field\":\"FMS\"}},\"id\":\"5685\",\"type\":\"Line\"},{\"attributes\":{\"label\":{\"value\":\"PD\"},\"renderers\":[{\"id\":\"5660\"}]},\"id\":\"5680\",\"type\":\"LegendItem\"},{\"attributes\":{},\"id\":\"5557\",\"type\":\"AllLabels\"},{\"attributes\":{\"data\":{\"FMS\":{\"__ndarray__\":\"PsZbBk+mN0DJ70c59bFAQKxzYYfcNUVAC1I7zLRFUEDaPrte2j9SQImmQ8hHllVAP5JxnzniWECC3heBGXlcQInyrwyVk19A9vM1pIc/YkBEzgPxS7tiQHsaRScERGNAcsaKOXZ+ZUCgUvROD/VlQDXyvn4WhWZAM/cy8bdQaEC8JQA74pxoQESFR/ZG8mhAJsRziL8gakBWp7q9YkpqQNA24qkCZWpACK1pavqBakDjvG0ie5NqQAAHpNVRGGtAGHGdNDcDbEDZHOpcbBdsQNnzzsjPLmxA8Y8YzbJLbECbSNLe71dsQIt/+jcbbmxAteP4hb9/bEBiQORTvK5sQCEb+i+Tu2xANbq6XhTWbED177WDwt1sQOZy7Xkd+GxAe20ElAngbEA=\",\"dtype\":\"float64\",\"order\":\"little\",\"shape\":[37]},\"index\":[0,2,4,6,8,10,12,14,16,18,20,22,24,26,28,30,32,34,36,38,40,42,44,46,48,50,52,54,56,58,60,62,64,66,68,70,72]},\"selected\":{\"id\":\"5562\"},\"selection_policy\":{\"id\":\"5576\"}},\"id\":\"5561\",\"type\":\"ColumnDataSource\"},{\"attributes\":{\"line_alpha\":0.2,\"line_color\":\"#17becf\",\"line_width\":2,\"x\":{\"field\":\"index\"},\"y\":{\"field\":\"FMS\"}},\"id\":\"5687\",\"type\":\"Line\"},{\"attributes\":{},\"id\":\"5576\",\"type\":\"UnionRenderers\"},{\"attributes\":{\"source\":{\"id\":\"5682\"}},\"id\":\"5689\",\"type\":\"CDSView\"},{\"attributes\":{\"data\":{\"FMS\":{\"__ndarray__\":\"SsoNq9tyZUB7GsWLocxlQHXi1blktmZAb8/9JpPMZkBFqyyh/9xmQB7zAnJo6WZA9lwjIiv6ZkBZ93G8GBFnQK8oIDmAJ2dA9V9NoYk8Z0ALlAdGWmJnQO8ARoKlfmdA+MS1Tex8Z0AXrBfmn/hnQL7D8Z5zAGlAwQscFU4SaUCF3qd4DCNpQDiQPFqvOGlADM2aGNlBaUAGkDFwSlppQIBASMRvcmlAS6x35tqEaUBNZj6oQJRpQKF5fxmYoGlAxEO5Sj+uaUAaIoU/vtBpQFkQxOitA2pAqsCj++T+aUAARvwO1BhrQLb3QHlkIWtA4k6jAR41a0AOUa/o6VVrQCnYmaUnVWpAj4I4eNl8akA4zvWfroNqQE5qy6Ize2tAzngC2ypWakA=\",\"dtype\":\"float64\",\"order\":\"little\",\"shape\":[37]},\"index\":[0,2,4,6,8,10,12,14,16,18,20,22,24,26,28,30,32,34,36,38,40,42,44,46,48,50,52,54,56,58,60,62,64,66,68,70,72]},\"selected\":{\"id\":\"5583\"},\"selection_policy\":{\"id\":\"5599\"}},\"id\":\"5582\",\"type\":\"ColumnDataSource\"},{\"attributes\":{},\"id\":\"5707\",\"type\":\"UnionRenderers\"},{\"attributes\":{\"label\":{\"value\":\"Baseline\"},\"renderers\":[{\"id\":\"5688\"}]},\"id\":\"5710\",\"type\":\"LegendItem\"},{\"attributes\":{\"line_color\":\"#fc4f30\",\"line_width\":2,\"x\":{\"field\":\"index\"},\"y\":{\"field\":\"FMS\"}},\"id\":\"5585\",\"type\":\"Line\"},{\"attributes\":{\"end\":257.6094014020729,\"reset_end\":257.6094014020729,\"reset_start\":-52.66023727910283,\"start\":-52.66023727910283,\"tags\":[[[\"FMS\",\"FMS\",null]]]},\"id\":\"5518\",\"type\":\"Range1d\"},{\"attributes\":{\"coordinates\":null,\"data_source\":{\"id\":\"5582\"},\"glyph\":{\"id\":\"5585\"},\"group\":null,\"hover_glyph\":null,\"muted_glyph\":{\"id\":\"5587\"},\"nonselection_glyph\":{\"id\":\"5586\"},\"selection_glyph\":{\"id\":\"5603\"},\"view\":{\"id\":\"5589\"}},\"id\":\"5588\",\"type\":\"GlyphRenderer\"},{\"attributes\":{\"line_color\":\"#fc4f30\",\"line_width\":2,\"x\":{\"field\":\"index\"},\"y\":{\"field\":\"FMS\"}},\"id\":\"5603\",\"type\":\"Line\"},{\"attributes\":{},\"id\":\"5560\",\"type\":\"AllLabels\"},{\"attributes\":{\"label\":{\"value\":\"JMA PF + PD\"},\"renderers\":[{\"id\":\"5610\"}]},\"id\":\"5626\",\"type\":\"LegendItem\"},{\"attributes\":{\"data\":{\"FMS\":{\"__ndarray__\":\"BWIh+uyON0CnXGzsigw6QCHlvl34BTlATuToHsUuN0C7joCRl5UyQPuo1eNFjjFAabm0LkEaMEC4VaGtdNEqQJgrNkd9AylA7N6qQBoAJ0A4TgQq0VMAwHfmfgmKbQ3AFz1E5hW1HMBLooIwQ1AiwIivwwd5nSTAFbJvCu/3KcD+wYM1nHEtwCe1Gh5TWy/AyyvqgChvMcDpOLtHqOIywFptHSWV5DLAfSDPY5diNMCg6oIrfH01wKkODCZuJTXAGG8WzzIXNsB8hHY/XYg3wEH0IebK5zbAMdYSxmJ+N8BISIhicAM5wG+SKpVYMTjAbHQKBpL9OMBZjtgktg06wHdHilb75DjA9RVRjWPnOcDZ5ehj7806wNT0KDaTwTnAbDaHxu+EOsA=\",\"dtype\":\"float64\",\"order\":\"little\",\"shape\":[37]},\"index\":[0,2,4,6,8,10,12,14,16,18,20,22,24,26,28,30,32,34,36,38,40,42,44,46,48,50,52,54,56,58,60,62,64,66,68,70,72]},\"selected\":{\"id\":\"5655\"},\"selection_policy\":{\"id\":\"5677\"}},\"id\":\"5654\",\"type\":\"ColumnDataSource\"},{\"attributes\":{\"coordinates\":null,\"data_source\":{\"id\":\"5604\"},\"glyph\":{\"id\":\"5607\"},\"group\":null,\"hover_glyph\":null,\"muted_glyph\":{\"id\":\"5609\"},\"nonselection_glyph\":{\"id\":\"5608\"},\"selection_glyph\":{\"id\":\"5627\"},\"view\":{\"id\":\"5611\"}},\"id\":\"5610\",\"type\":\"GlyphRenderer\"},{\"attributes\":{},\"id\":\"5629\",\"type\":\"Selection\"},{\"attributes\":{\"tools\":[{\"id\":\"5519\"},{\"id\":\"5542\"},{\"id\":\"5543\"},{\"id\":\"5544\"},{\"id\":\"5545\"},{\"id\":\"5546\"}]},\"id\":\"5548\",\"type\":\"Toolbar\"},{\"attributes\":{},\"id\":\"5605\",\"type\":\"Selection\"},{\"attributes\":{\"line_color\":\"#6d904f\",\"line_width\":2,\"x\":{\"field\":\"index\"},\"y\":{\"field\":\"FMS\"}},\"id\":\"5653\",\"type\":\"Line\"},{\"attributes\":{\"line_alpha\":0.2,\"line_color\":\"#e5ae38\",\"line_width\":2,\"x\":{\"field\":\"index\"},\"y\":{\"field\":\"FMS\"}},\"id\":\"5609\",\"type\":\"Line\"},{\"attributes\":{\"coordinates\":null,\"data_source\":{\"id\":\"5654\"},\"glyph\":{\"id\":\"5657\"},\"group\":null,\"hover_glyph\":null,\"muted_glyph\":{\"id\":\"5659\"},\"nonselection_glyph\":{\"id\":\"5658\"},\"selection_glyph\":{\"id\":\"5681\"},\"view\":{\"id\":\"5661\"}},\"id\":\"5660\",\"type\":\"GlyphRenderer\"},{\"attributes\":{},\"id\":\"5583\",\"type\":\"Selection\"},{\"attributes\":{\"source\":{\"id\":\"5604\"}},\"id\":\"5611\",\"type\":\"CDSView\"},{\"attributes\":{\"line_color\":\"#8b8b8b\",\"line_width\":2,\"x\":{\"field\":\"index\"},\"y\":{\"field\":\"FMS\"}},\"id\":\"5657\",\"type\":\"Line\"},{\"attributes\":{},\"id\":\"5623\",\"type\":\"UnionRenderers\"},{\"attributes\":{\"callback\":null,\"renderers\":[{\"id\":\"5567\"},{\"id\":\"5588\"},{\"id\":\"5610\"},{\"id\":\"5634\"},{\"id\":\"5660\"},{\"id\":\"5688\"}],\"tags\":[\"hv_created\"],\"tooltips\":[[\"index\",\"@{index}\"],[\"FMS\",\"@{FMS}\"]]},\"id\":\"5519\",\"type\":\"HoverTool\"},{\"attributes\":{\"source\":{\"id\":\"5654\"}},\"id\":\"5661\",\"type\":\"CDSView\"},{\"attributes\":{},\"id\":\"5559\",\"type\":\"BasicTickFormatter\"},{\"attributes\":{},\"id\":\"5677\",\"type\":\"UnionRenderers\"},{\"attributes\":{\"line_color\":\"#30a2da\",\"line_width\":2,\"x\":{\"field\":\"index\"},\"y\":{\"field\":\"FMS\"}},\"id\":\"5564\",\"type\":\"Line\"},{\"attributes\":{\"margin\":[5,5,5,5],\"name\":\"HSpacer14808\",\"sizing_mode\":\"stretch_width\"},\"id\":\"5872\",\"type\":\"Spacer\"},{\"attributes\":{\"coordinates\":null,\"data_source\":{\"id\":\"5561\"},\"glyph\":{\"id\":\"5564\"},\"group\":null,\"hover_glyph\":null,\"muted_glyph\":{\"id\":\"5566\"},\"nonselection_glyph\":{\"id\":\"5565\"},\"selection_glyph\":{\"id\":\"5581\"},\"view\":{\"id\":\"5568\"}},\"id\":\"5567\",\"type\":\"GlyphRenderer\"},{\"attributes\":{\"below\":[{\"id\":\"5534\"}],\"center\":[{\"id\":\"5537\"},{\"id\":\"5541\"},{\"id\":\"5579\"}],\"height\":400,\"left\":[{\"id\":\"5538\"}],\"margin\":[5,5,5,5],\"min_border_bottom\":10,\"min_border_left\":10,\"min_border_right\":10,\"min_border_top\":10,\"renderers\":[{\"id\":\"5567\"},{\"id\":\"5588\"},{\"id\":\"5610\"},{\"id\":\"5634\"},{\"id\":\"5660\"},{\"id\":\"5688\"}],\"sizing_mode\":\"fixed\",\"title\":{\"id\":\"5526\"},\"toolbar\":{\"id\":\"5548\"},\"width\":750,\"x_range\":{\"id\":\"5517\"},\"x_scale\":{\"id\":\"5530\"},\"y_range\":{\"id\":\"5518\"},\"y_scale\":{\"id\":\"5532\"}},\"id\":\"5525\",\"subtype\":\"Figure\",\"type\":\"Plot\"},{\"attributes\":{\"data\":{\"FMS\":{\"__ndarray__\":\"deOzLilvZUCtp5L97stkQLePSLqfY2RAEOiA6B27ZECUH6L8lUZhQPiAFzowr2FAUUNGvhwjYEDov5vnvXVbQMTaWO9Md1tALFclbf2DWkDp7+t00dBZQCMONz27m1ZAUzwwbOpcWUDLuHuhBr9WQDVxtpnhaVRAMWNGyutQVkA+23jxwHhVQAiCzMEkx1JAnN/12i1tUkDwHDsx43tQQB6jhgepr1FAIJNkQmVtUUA5FMIuOVRMQJIEh/AmSUxAUIq4zrZWS0BUUtwljrJJQNqVwFhSoElAdKTxqaGDSUBBS6Mhn5dHQC4sImEK6EdAyKoSoQ76R0DFL2zMVEVGQGd4GQAKA0dA7COJWIeQRkBYm20lONhEQHeZA31oikVAL3zqwSBsRUA=\",\"dtype\":\"float64\",\"order\":\"little\",\"shape\":[37]},\"index\":[0,2,4,6,8,10,12,14,16,18,20,22,24,26,28,30,32,34,36,38,40,42,44,46,48,50,52,54,56,58,60,62,64,66,68,70,72]},\"selected\":{\"id\":\"5629\"},\"selection_policy\":{\"id\":\"5649\"}},\"id\":\"5628\",\"type\":\"ColumnDataSource\"},{\"attributes\":{},\"id\":\"5562\",\"type\":\"Selection\"},{\"attributes\":{\"line_alpha\":0.1,\"line_color\":\"#30a2da\",\"line_width\":2,\"x\":{\"field\":\"index\"},\"y\":{\"field\":\"FMS\"}},\"id\":\"5565\",\"type\":\"Line\"},{\"attributes\":{\"end\":72.0,\"reset_end\":72.0,\"reset_start\":0.0,\"tags\":[[[\"index\",\"index\",null]]]},\"id\":\"5517\",\"type\":\"Range1d\"},{\"attributes\":{\"line_alpha\":0.2,\"line_color\":\"#30a2da\",\"line_width\":2,\"x\":{\"field\":\"index\"},\"y\":{\"field\":\"FMS\"}},\"id\":\"5566\",\"type\":\"Line\"},{\"attributes\":{\"click_policy\":\"mute\",\"coordinates\":null,\"group\":null,\"items\":[{\"id\":\"5580\"},{\"id\":\"5602\"},{\"id\":\"5626\"},{\"id\":\"5652\"},{\"id\":\"5680\"},{\"id\":\"5710\"}]},\"id\":\"5579\",\"type\":\"Legend\"},{\"attributes\":{\"data\":{\"FMS\":{\"__ndarray__\":\"bx+55rGgN0DsnRusagVAQPglOHNqL0NA5sYL5GlLRkDXxfKsBnRIQOO+g2yD8kpAlGLwZavuTECmC33qT+JRQPd3i7S8UE5AIh45hX1hUUCUUbXLt05VQMgAxm1/KVJAdlfpHmqOU0BU7/s6ZaZSQNpOQArc9FBA1vKnUn6kUkDweKjAKcpRQM2onF2IFU9AAmE6YjvCTkBXMgqlE5lNQDNxZwOWbU1AVKm6ooWbTUDLz/MKirxKQHGxMsEluUpAUPdASGA2SkDlpMiRDJlIQIwZyOcJ3UhAIzFShXDVSECjUibVkBRHQC7XuqVuwkdAAQ4Lf8WrR0CL+XNDZ/BFQAWJc3UatkZAxdDnFQ54RkCTB6of+NdEQOv4pYjDNkFAXzBHw11eRUA=\",\"dtype\":\"float64\",\"order\":\"little\",\"shape\":[37]},\"index\":[0,2,4,6,8,10,12,14,16,18,20,22,24,26,28,30,32,34,36,38,40,42,44,46,48,50,52,54,56,58,60,62,64,66,68,70,72]},\"selected\":{\"id\":\"5605\"},\"selection_policy\":{\"id\":\"5623\"}},\"id\":\"5604\",\"type\":\"ColumnDataSource\"},{\"attributes\":{\"line_color\":\"#30a2da\",\"line_width\":2,\"x\":{\"field\":\"index\"},\"y\":{\"field\":\"FMS\"}},\"id\":\"5581\",\"type\":\"Line\"}],\"root_ids\":[\"5515\"]},\"title\":\"Bokeh Application\",\"version\":\"2.4.2\"}};\n",
       "    var render_items = [{\"docid\":\"885dcf15-ac14-409f-ab73-628ac25d4b28\",\"root_ids\":[\"5515\"],\"roots\":{\"5515\":\"897dd35c-629b-49b5-b24d-2edb00b29570\"}}];\n",
       "    root.Bokeh.embed.embed_items_notebook(docs_json, render_items);\n",
       "  }\n",
       "  if (root.Bokeh !== undefined && root.Bokeh.Panel !== undefined) {\n",
       "    embed_document(root);\n",
       "  } else {\n",
       "    var attempts = 0;\n",
       "    var timer = setInterval(function(root) {\n",
       "      if (root.Bokeh !== undefined && root.Bokeh.Panel !== undefined) {\n",
       "        clearInterval(timer);\n",
       "        embed_document(root);\n",
       "      } else if (document.readyState == \"complete\") {\n",
       "        attempts++;\n",
       "        if (attempts > 200) {\n",
       "          clearInterval(timer);\n",
       "          console.log(\"Bokeh: ERROR: Unable to run BokehJS code because BokehJS library is missing\");\n",
       "        }\n",
       "      }\n",
       "    }, 25, root)\n",
       "  }\n",
       "})(window);</script>"
      ],
      "text/plain": [
       ":Overlay\n",
       "   .Curve.Ideal_PF_plus_PD :Curve   [index]   (FMS)\n",
       "   .Curve.Ideal_PF         :Curve   [index]   (FMS)\n",
       "   .Curve.JMA_PF_plus_PD   :Curve   [index]   (FMS)\n",
       "   .Curve.JMA_PF           :Curve   [index]   (FMS)\n",
       "   .Curve.PD               :Curve   [index]   (FMS)\n",
       "   .Curve.Baseline         :Curve   [index]   (FMS)"
      ]
     },
     "execution_count": 40,
     "metadata": {
      "application/vnd.holoviews_exec.v0+json": {
       "id": "5515"
      }
     },
     "output_type": "execute_result"
    }
   ],
   "source": [
    "(res_ideal_pd['FMS'].hvplot(xlabel='horizon (hour)', ylabel='NSE', title='', width=750, label='Ideal PF + PD',height=400) * \\\n",
    "res_ideal['FMS'].hvplot(xlabel='horizon (hour)', ylabel='NSE', title='', width=750, label='Ideal PF',height=400) * \\\n",
    "res_jma_pd['FMS'].hvplot(xlabel='horizon (hour)', ylabel='NSE', title='', width=750, label='JMA PF + PD',height=400) * \\\n",
    "res_jma['FMS'].hvplot(xlabel='horizon (hour)', ylabel='NSE', title='', width=750, label='JMA PF',height=400) * \\\n",
    "res_pd['FMS'].hvplot(xlabel='horizon (hour)', ylabel='NSE', title='', width=750, label='PD',height=400) * \\\n",
    "res_base['FMS'].hvplot(xlabel='horizon (hour)', ylabel='NSE', title='', width=750, label='Baseline', height=400))"
   ]
  },
  {
   "cell_type": "markdown",
   "id": "3f84089d-a7e1-4a71-8ee2-0a3be08de3ed",
   "metadata": {},
   "source": [
    "### Mean Peak-Timing"
   ]
  },
  {
   "cell_type": "code",
   "execution_count": 42,
   "id": "0d1ac9f0-0299-4aee-b2c9-862e54eb5de5",
   "metadata": {},
   "outputs": [
    {
     "data": {},
     "metadata": {},
     "output_type": "display_data"
    },
    {
     "data": {
      "application/vnd.holoviews_exec.v0+json": "",
      "text/html": [
       "<div id='6433'>\n",
       "\n",
       "\n",
       "\n",
       "\n",
       "\n",
       "  <div class=\"bk-root\" id=\"e342c5c9-1155-4509-a63c-f7bb350761c2\" data-root-id=\"6433\"></div>\n",
       "</div>\n",
       "<script type=\"application/javascript\">(function(root) {\n",
       "  function embed_document(root) {\n",
       "    var docs_json = {\"bcfcfee6-69ef-4ba8-b132-b32d5c803727\":{\"defs\":[{\"extends\":null,\"module\":null,\"name\":\"ReactiveHTML1\",\"overrides\":[],\"properties\":[]},{\"extends\":null,\"module\":null,\"name\":\"FlexBox1\",\"overrides\":[],\"properties\":[{\"default\":\"flex-start\",\"kind\":null,\"name\":\"align_content\"},{\"default\":\"flex-start\",\"kind\":null,\"name\":\"align_items\"},{\"default\":\"row\",\"kind\":null,\"name\":\"flex_direction\"},{\"default\":\"wrap\",\"kind\":null,\"name\":\"flex_wrap\"},{\"default\":\"flex-start\",\"kind\":null,\"name\":\"justify_content\"}]},{\"extends\":null,\"module\":null,\"name\":\"GridStack1\",\"overrides\":[],\"properties\":[{\"default\":\"warn\",\"kind\":null,\"name\":\"mode\"},{\"default\":null,\"kind\":null,\"name\":\"ncols\"},{\"default\":null,\"kind\":null,\"name\":\"nrows\"},{\"default\":true,\"kind\":null,\"name\":\"allow_resize\"},{\"default\":true,\"kind\":null,\"name\":\"allow_drag\"},{\"default\":[],\"kind\":null,\"name\":\"state\"}]},{\"extends\":null,\"module\":null,\"name\":\"click1\",\"overrides\":[],\"properties\":[{\"default\":\"\",\"kind\":null,\"name\":\"terminal_output\"},{\"default\":\"\",\"kind\":null,\"name\":\"debug_name\"},{\"default\":0,\"kind\":null,\"name\":\"clears\"}]},{\"extends\":null,\"module\":null,\"name\":\"NotificationAreaBase1\",\"overrides\":[],\"properties\":[{\"default\":\"bottom-right\",\"kind\":null,\"name\":\"position\"},{\"default\":0,\"kind\":null,\"name\":\"_clear\"}]},{\"extends\":null,\"module\":null,\"name\":\"NotificationArea1\",\"overrides\":[],\"properties\":[{\"default\":[],\"kind\":null,\"name\":\"notifications\"},{\"default\":\"bottom-right\",\"kind\":null,\"name\":\"position\"},{\"default\":0,\"kind\":null,\"name\":\"_clear\"},{\"default\":[{\"background\":\"#ffc107\",\"icon\":{\"className\":\"fas fa-exclamation-triangle\",\"color\":\"white\",\"tagName\":\"i\"},\"type\":\"warning\"},{\"background\":\"#007bff\",\"icon\":{\"className\":\"fas fa-info-circle\",\"color\":\"white\",\"tagName\":\"i\"},\"type\":\"info\"}],\"kind\":null,\"name\":\"types\"}]},{\"extends\":null,\"module\":null,\"name\":\"Notification\",\"overrides\":[],\"properties\":[{\"default\":null,\"kind\":null,\"name\":\"background\"},{\"default\":3000,\"kind\":null,\"name\":\"duration\"},{\"default\":null,\"kind\":null,\"name\":\"icon\"},{\"default\":\"\",\"kind\":null,\"name\":\"message\"},{\"default\":null,\"kind\":null,\"name\":\"notification_type\"},{\"default\":false,\"kind\":null,\"name\":\"_destroyed\"}]},{\"extends\":null,\"module\":null,\"name\":\"TemplateActions1\",\"overrides\":[],\"properties\":[{\"default\":0,\"kind\":null,\"name\":\"open_modal\"},{\"default\":0,\"kind\":null,\"name\":\"close_modal\"}]},{\"extends\":null,\"module\":null,\"name\":\"MaterialTemplateActions1\",\"overrides\":[],\"properties\":[{\"default\":0,\"kind\":null,\"name\":\"open_modal\"},{\"default\":0,\"kind\":null,\"name\":\"close_modal\"}]}],\"roots\":{\"references\":[{\"attributes\":{\"coordinates\":null,\"group\":null,\"text_color\":\"black\",\"text_font_size\":\"12pt\"},\"id\":\"6442\",\"type\":\"Title\"},{\"attributes\":{},\"id\":\"6448\",\"type\":\"LinearScale\"},{\"attributes\":{\"axis_label\":\"horizon (hour)\",\"coordinates\":null,\"formatter\":{\"id\":\"6472\"},\"group\":null,\"major_label_policy\":{\"id\":\"6473\"},\"ticker\":{\"id\":\"6451\"}},\"id\":\"6450\",\"type\":\"LinearAxis\"},{\"attributes\":{\"line_color\":\"#e5ae38\",\"line_width\":2,\"x\":{\"field\":\"index\"},\"y\":{\"field\":\"Peak-Timing\"}},\"id\":\"6543\",\"type\":\"Line\"},{\"attributes\":{\"line_alpha\":0.1,\"line_color\":\"#6d904f\",\"line_width\":2,\"x\":{\"field\":\"index\"},\"y\":{\"field\":\"Peak-Timing\"}},\"id\":\"6548\",\"type\":\"Line\"},{\"attributes\":{},\"id\":\"6451\",\"type\":\"BasicTicker\"},{\"attributes\":{},\"id\":\"6473\",\"type\":\"AllLabels\"},{\"attributes\":{\"axis\":{\"id\":\"6450\"},\"coordinates\":null,\"grid_line_color\":null,\"group\":null,\"ticker\":null},\"id\":\"6453\",\"type\":\"Grid\"},{\"attributes\":{},\"id\":\"6459\",\"type\":\"PanTool\"},{\"attributes\":{\"axis_label\":\"NSE\",\"coordinates\":null,\"formatter\":{\"id\":\"6475\"},\"group\":null,\"major_label_policy\":{\"id\":\"6476\"},\"ticker\":{\"id\":\"6455\"}},\"id\":\"6454\",\"type\":\"LinearAxis\"},{\"attributes\":{},\"id\":\"6515\",\"type\":\"UnionRenderers\"},{\"attributes\":{\"axis\":{\"id\":\"6454\"},\"coordinates\":null,\"dimension\":1,\"grid_line_color\":null,\"group\":null,\"ticker\":null},\"id\":\"6457\",\"type\":\"Grid\"},{\"attributes\":{},\"id\":\"6455\",\"type\":\"BasicTicker\"},{\"attributes\":{\"coordinates\":null,\"data_source\":{\"id\":\"6544\"},\"glyph\":{\"id\":\"6547\"},\"group\":null,\"hover_glyph\":null,\"muted_glyph\":{\"id\":\"6549\"},\"nonselection_glyph\":{\"id\":\"6548\"},\"selection_glyph\":{\"id\":\"6569\"},\"view\":{\"id\":\"6551\"}},\"id\":\"6550\",\"type\":\"GlyphRenderer\"},{\"attributes\":{},\"id\":\"6460\",\"type\":\"WheelZoomTool\"},{\"attributes\":{\"line_color\":\"#6d904f\",\"line_width\":2,\"x\":{\"field\":\"index\"},\"y\":{\"field\":\"Peak-Timing\"}},\"id\":\"6547\",\"type\":\"Line\"},{\"attributes\":{},\"id\":\"6458\",\"type\":\"SaveTool\"},{\"attributes\":{\"label\":{\"value\":\"Baseline\"},\"renderers\":[{\"id\":\"6550\"}]},\"id\":\"6568\",\"type\":\"LegendItem\"},{\"attributes\":{\"line_alpha\":0.2,\"line_color\":\"#6d904f\",\"line_width\":2,\"x\":{\"field\":\"index\"},\"y\":{\"field\":\"Peak-Timing\"}},\"id\":\"6549\",\"type\":\"Line\"},{\"attributes\":{\"overlay\":{\"id\":\"6463\"}},\"id\":\"6461\",\"type\":\"BoxZoomTool\"},{\"attributes\":{},\"id\":\"6462\",\"type\":\"ResetTool\"},{\"attributes\":{\"source\":{\"id\":\"6544\"}},\"id\":\"6551\",\"type\":\"CDSView\"},{\"attributes\":{\"bottom_units\":\"screen\",\"coordinates\":null,\"fill_alpha\":0.5,\"fill_color\":\"lightgrey\",\"group\":null,\"left_units\":\"screen\",\"level\":\"overlay\",\"line_alpha\":1.0,\"line_color\":\"black\",\"line_dash\":[4,4],\"line_width\":2,\"right_units\":\"screen\",\"syncable\":false,\"top_units\":\"screen\"},\"id\":\"6463\",\"type\":\"BoxAnnotation\"},{\"attributes\":{},\"id\":\"6565\",\"type\":\"UnionRenderers\"},{\"attributes\":{\"label\":{\"value\":\"JMA PF\"},\"renderers\":[{\"id\":\"6504\"}]},\"id\":\"6518\",\"type\":\"LegendItem\"},{\"attributes\":{},\"id\":\"6492\",\"type\":\"UnionRenderers\"},{\"attributes\":{},\"id\":\"6521\",\"type\":\"Selection\"},{\"attributes\":{\"source\":{\"id\":\"6498\"}},\"id\":\"6505\",\"type\":\"CDSView\"},{\"attributes\":{\"line_alpha\":0.2,\"line_color\":\"#fc4f30\",\"line_width\":2,\"x\":{\"field\":\"index\"},\"y\":{\"field\":\"Peak-Timing\"}},\"id\":\"6503\",\"type\":\"Line\"},{\"attributes\":{\"line_color\":\"#fc4f30\",\"line_width\":2,\"x\":{\"field\":\"index\"},\"y\":{\"field\":\"Peak-Timing\"}},\"id\":\"6519\",\"type\":\"Line\"},{\"attributes\":{\"line_alpha\":0.1,\"line_color\":\"#e5ae38\",\"line_width\":2,\"x\":{\"field\":\"index\"},\"y\":{\"field\":\"Peak-Timing\"}},\"id\":\"6524\",\"type\":\"Line\"},{\"attributes\":{},\"id\":\"6472\",\"type\":\"BasicTickFormatter\"},{\"attributes\":{\"margin\":[5,5,5,5],\"name\":\"HSpacer17287\",\"sizing_mode\":\"stretch_width\"},\"id\":\"6434\",\"type\":\"Spacer\"},{\"attributes\":{\"coordinates\":null,\"data_source\":{\"id\":\"6520\"},\"glyph\":{\"id\":\"6523\"},\"group\":null,\"hover_glyph\":null,\"muted_glyph\":{\"id\":\"6525\"},\"nonselection_glyph\":{\"id\":\"6524\"},\"selection_glyph\":{\"id\":\"6543\"},\"view\":{\"id\":\"6527\"}},\"id\":\"6526\",\"type\":\"GlyphRenderer\"},{\"attributes\":{\"tools\":[{\"id\":\"6437\"},{\"id\":\"6458\"},{\"id\":\"6459\"},{\"id\":\"6460\"},{\"id\":\"6461\"},{\"id\":\"6462\"}]},\"id\":\"6464\",\"type\":\"Toolbar\"},{\"attributes\":{\"line_color\":\"#e5ae38\",\"line_width\":2,\"x\":{\"field\":\"index\"},\"y\":{\"field\":\"Peak-Timing\"}},\"id\":\"6523\",\"type\":\"Line\"},{\"attributes\":{\"children\":[{\"id\":\"6434\"},{\"id\":\"6441\"},{\"id\":\"6698\"}],\"margin\":[0,0,0,0],\"name\":\"Row17283\",\"tags\":[\"embedded\"]},\"id\":\"6433\",\"type\":\"Row\"},{\"attributes\":{\"line_alpha\":0.2,\"line_color\":\"#30a2da\",\"line_width\":2,\"x\":{\"field\":\"index\"},\"y\":{\"field\":\"Peak-Timing\"}},\"id\":\"6482\",\"type\":\"Line\"},{\"attributes\":{\"label\":{\"value\":\"PD\"},\"renderers\":[{\"id\":\"6526\"}]},\"id\":\"6542\",\"type\":\"LegendItem\"},{\"attributes\":{\"line_alpha\":0.2,\"line_color\":\"#e5ae38\",\"line_width\":2,\"x\":{\"field\":\"index\"},\"y\":{\"field\":\"Peak-Timing\"}},\"id\":\"6525\",\"type\":\"Line\"},{\"attributes\":{\"line_color\":\"#6d904f\",\"line_width\":2,\"x\":{\"field\":\"index\"},\"y\":{\"field\":\"Peak-Timing\"}},\"id\":\"6569\",\"type\":\"Line\"},{\"attributes\":{\"data\":{\"Peak-Timing\":{\"__ndarray__\":\"AAAAAAAA+H+U03/P+EfbP5k/p35p6OA/VQSkKsMF5D91/vmDadnoPy24h92ulew/phWxrY777T9OoaqFTSjtPynXs9vNwe4/Sm7CYcs27z+AqHP3ebnuP9THYRjfvuw/+jWOht2S6z9ibSx6yqDrPy8Si42GXOs/7s1uwhOG6z/HVKUiyXbsP5UWkfMDrek/gJ7bxLU46T/dslYI9PTqP3Iyr0xqW+o/1/MlAq4O6T8b6wcySHzrP36eUWy6J+s/CzyvnFz+7T8eXKcsx4btP7+rDEraxuo/b+3Hb+3H7z9f55qNoYPsP/fhkw8/CO0/KYwrUFR/7j++CGd6alTuP82YzlnHiO4/ta3h8kv07j/+usUrda7uPwXgs05wW/E/u9lP4KGj8D8=\",\"dtype\":\"float64\",\"order\":\"little\",\"shape\":[37]},\"Peak_hyphen_minus_Timing\":{\"__ndarray__\":\"AAAAAAAA+H+U03/P+EfbP5k/p35p6OA/VQSkKsMF5D91/vmDadnoPy24h92ulew/phWxrY777T9OoaqFTSjtPynXs9vNwe4/Sm7CYcs27z+AqHP3ebnuP9THYRjfvuw/+jWOht2S6z9ibSx6yqDrPy8Si42GXOs/7s1uwhOG6z/HVKUiyXbsP5UWkfMDrek/gJ7bxLU46T/dslYI9PTqP3Iyr0xqW+o/1/MlAq4O6T8b6wcySHzrP36eUWy6J+s/CzyvnFz+7T8eXKcsx4btP7+rDEraxuo/b+3Hb+3H7z9f55qNoYPsP/fhkw8/CO0/KYwrUFR/7j++CGd6alTuP82YzlnHiO4/ta3h8kv07j/+usUrda7uPwXgs05wW/E/u9lP4KGj8D8=\",\"dtype\":\"float64\",\"order\":\"little\",\"shape\":[37]},\"index\":[0,2,4,6,8,10,12,14,16,18,20,22,24,26,28,30,32,34,36,38,40,42,44,46,48,50,52,54,56,58,60,62,64,66,68,70,72]},\"selected\":{\"id\":\"6499\"},\"selection_policy\":{\"id\":\"6515\"}},\"id\":\"6498\",\"type\":\"ColumnDataSource\"},{\"attributes\":{\"source\":{\"id\":\"6520\"}},\"id\":\"6527\",\"type\":\"CDSView\"},{\"attributes\":{},\"id\":\"6539\",\"type\":\"UnionRenderers\"},{\"attributes\":{},\"id\":\"6476\",\"type\":\"AllLabels\"},{\"attributes\":{},\"id\":\"6545\",\"type\":\"Selection\"},{\"attributes\":{\"margin\":[5,5,5,5],\"name\":\"HSpacer17288\",\"sizing_mode\":\"stretch_width\"},\"id\":\"6698\",\"type\":\"Spacer\"},{\"attributes\":{\"end\":2.072006127859069,\"reset_end\":2.072006127859069,\"reset_start\":0.2766552434493611,\"start\":0.2766552434493611,\"tags\":[[[\"Peak-Timing\",\"Peak-Timing\",null]]]},\"id\":\"6436\",\"type\":\"Range1d\"},{\"attributes\":{\"coordinates\":null,\"data_source\":{\"id\":\"6477\"},\"glyph\":{\"id\":\"6480\"},\"group\":null,\"hover_glyph\":null,\"muted_glyph\":{\"id\":\"6482\"},\"nonselection_glyph\":{\"id\":\"6481\"},\"selection_glyph\":{\"id\":\"6497\"},\"view\":{\"id\":\"6484\"}},\"id\":\"6483\",\"type\":\"GlyphRenderer\"},{\"attributes\":{\"data\":{\"Peak-Timing\":{\"__ndarray__\":\"AAAAAAAA+H9gv80QttvjPyZp0WyALuk/CvKDoosd8D8b4wAMeCHzP7Z0Zc7R2fc/Ejlls8ST+T8Duzi3KpH8P5ig7E8QRf0/9WbG1Be9/j84alK+H8L+P1lmO4yZbvs/DOt05CIh+j/NxqGu8OL4P1o4ex0Ts/c/SI72esEp+D/9IbfDdTn4P1RfTDQQQ/Y/A3wnmZx2+D8yMuTsGof4P9PuqmyIRPg/Gtbqqn3v+T88z0MBqnv5P+ZrdIj3ovg/Edv+adaF+T8gL+o9Ban5P4MsiTwVLPo/KatUG0B1+j+I5YlyiBX5PwU69MWb4fc/FGsvjLW/+T/axXfzIuz4P0VRoBwQAvg/6A4qIrun+T/fj6r4ZWn6P6MkJ/ItGfk/dI/hMfHO+T8=\",\"dtype\":\"float64\",\"order\":\"little\",\"shape\":[37]},\"Peak_hyphen_minus_Timing\":{\"__ndarray__\":\"AAAAAAAA+H9gv80QttvjPyZp0WyALuk/CvKDoosd8D8b4wAMeCHzP7Z0Zc7R2fc/Ejlls8ST+T8Duzi3KpH8P5ig7E8QRf0/9WbG1Be9/j84alK+H8L+P1lmO4yZbvs/DOt05CIh+j/NxqGu8OL4P1o4ex0Ts/c/SI72esEp+D/9IbfDdTn4P1RfTDQQQ/Y/A3wnmZx2+D8yMuTsGof4P9PuqmyIRPg/Gtbqqn3v+T88z0MBqnv5P+ZrdIj3ovg/Edv+adaF+T8gL+o9Ban5P4MsiTwVLPo/KatUG0B1+j+I5YlyiBX5PwU69MWb4fc/FGsvjLW/+T/axXfzIuz4P0VRoBwQAvg/6A4qIrun+T/fj6r4ZWn6P6MkJ/ItGfk/dI/hMfHO+T8=\",\"dtype\":\"float64\",\"order\":\"little\",\"shape\":[37]},\"index\":[0,2,4,6,8,10,12,14,16,18,20,22,24,26,28,30,32,34,36,38,40,42,44,46,48,50,52,54,56,58,60,62,64,66,68,70,72]},\"selected\":{\"id\":\"6521\"},\"selection_policy\":{\"id\":\"6539\"}},\"id\":\"6520\",\"type\":\"ColumnDataSource\"},{\"attributes\":{},\"id\":\"6475\",\"type\":\"BasicTickFormatter\"},{\"attributes\":{\"line_color\":\"#fc4f30\",\"line_width\":2,\"x\":{\"field\":\"index\"},\"y\":{\"field\":\"Peak-Timing\"}},\"id\":\"6501\",\"type\":\"Line\"},{\"attributes\":{\"end\":72.0,\"reset_end\":72.0,\"reset_start\":0.0,\"tags\":[[[\"index\",\"index\",null]]]},\"id\":\"6435\",\"type\":\"Range1d\"},{\"attributes\":{\"below\":[{\"id\":\"6450\"}],\"center\":[{\"id\":\"6453\"},{\"id\":\"6457\"},{\"id\":\"6495\"}],\"height\":400,\"left\":[{\"id\":\"6454\"}],\"margin\":[5,5,5,5],\"min_border_bottom\":10,\"min_border_left\":10,\"min_border_right\":10,\"min_border_top\":10,\"renderers\":[{\"id\":\"6483\"},{\"id\":\"6504\"},{\"id\":\"6526\"},{\"id\":\"6550\"}],\"sizing_mode\":\"fixed\",\"title\":{\"id\":\"6442\"},\"toolbar\":{\"id\":\"6464\"},\"width\":750,\"x_range\":{\"id\":\"6435\"},\"x_scale\":{\"id\":\"6446\"},\"y_range\":{\"id\":\"6436\"},\"y_scale\":{\"id\":\"6448\"}},\"id\":\"6441\",\"subtype\":\"Figure\",\"type\":\"Plot\"},{\"attributes\":{\"line_alpha\":0.1,\"line_color\":\"#fc4f30\",\"line_width\":2,\"x\":{\"field\":\"index\"},\"y\":{\"field\":\"Peak-Timing\"}},\"id\":\"6502\",\"type\":\"Line\"},{\"attributes\":{\"callback\":null,\"renderers\":[{\"id\":\"6483\"},{\"id\":\"6504\"},{\"id\":\"6526\"},{\"id\":\"6550\"}],\"tags\":[\"hv_created\"],\"tooltips\":[[\"index\",\"@{index}\"],[\"Peak-Timing\",\"@{Peak_hyphen_minus_Timing}\"]]},\"id\":\"6437\",\"type\":\"HoverTool\"},{\"attributes\":{},\"id\":\"6478\",\"type\":\"Selection\"},{\"attributes\":{\"line_alpha\":0.1,\"line_color\":\"#30a2da\",\"line_width\":2,\"x\":{\"field\":\"index\"},\"y\":{\"field\":\"Peak-Timing\"}},\"id\":\"6481\",\"type\":\"Line\"},{\"attributes\":{},\"id\":\"6499\",\"type\":\"Selection\"},{\"attributes\":{\"coordinates\":null,\"data_source\":{\"id\":\"6498\"},\"glyph\":{\"id\":\"6501\"},\"group\":null,\"hover_glyph\":null,\"muted_glyph\":{\"id\":\"6503\"},\"nonselection_glyph\":{\"id\":\"6502\"},\"selection_glyph\":{\"id\":\"6519\"},\"view\":{\"id\":\"6505\"}},\"id\":\"6504\",\"type\":\"GlyphRenderer\"},{\"attributes\":{\"data\":{\"Peak-Timing\":{\"__ndarray__\":\"AAAAAAAA+H/Iy/ZJCBziP9HjVvwk9eY/TT2a3eSe6j+nmq9bkb3uP3UIDeJgCPE/aJxbwxAt8T8F/FU7qNPwP/hvJ3BBbfE/VM5ACz6Z8D8dmXJnKRrwP2PskUcW0+0/e4wyHxhh7T9RG8w1RQ3sPwxA2M8aEOw/U/qKZmVq6z+5D9RHPo7sP06hFRX1l+k/FGEZ5KYw6T9xeVwBIWHqP7MSlYxKQeo/9EZ0pj2C6T9XAlGwdiLqP+hbKNh3/uo/vJKmEo4t7D+Fs4a55rnsP1rtYtM38+o/u3XWJ1WH7j/Rs/HPs/HrP6Bvl84pgO0/5iYQAYSE7j+btI183s7uP52FOv35C+8/r+DZslkk7z+e+f9lxszuP3c8KjWeF/E/1RtUwTcq8D8=\",\"dtype\":\"float64\",\"order\":\"little\",\"shape\":[37]},\"Peak_hyphen_minus_Timing\":{\"__ndarray__\":\"AAAAAAAA+H/Iy/ZJCBziP9HjVvwk9eY/TT2a3eSe6j+nmq9bkb3uP3UIDeJgCPE/aJxbwxAt8T8F/FU7qNPwP/hvJ3BBbfE/VM5ACz6Z8D8dmXJnKRrwP2PskUcW0+0/e4wyHxhh7T9RG8w1RQ3sPwxA2M8aEOw/U/qKZmVq6z+5D9RHPo7sP06hFRX1l+k/FGEZ5KYw6T9xeVwBIWHqP7MSlYxKQeo/9EZ0pj2C6T9XAlGwdiLqP+hbKNh3/uo/vJKmEo4t7D+Fs4a55rnsP1rtYtM38+o/u3XWJ1WH7j/Rs/HPs/HrP6Bvl84pgO0/5iYQAYSE7j+btI183s7uP52FOv35C+8/r+DZslkk7z+e+f9lxszuP3c8KjWeF/E/1RtUwTcq8D8=\",\"dtype\":\"float64\",\"order\":\"little\",\"shape\":[37]},\"index\":[0,2,4,6,8,10,12,14,16,18,20,22,24,26,28,30,32,34,36,38,40,42,44,46,48,50,52,54,56,58,60,62,64,66,68,70,72]},\"selected\":{\"id\":\"6478\"},\"selection_policy\":{\"id\":\"6492\"}},\"id\":\"6477\",\"type\":\"ColumnDataSource\"},{\"attributes\":{\"line_color\":\"#30a2da\",\"line_width\":2,\"x\":{\"field\":\"index\"},\"y\":{\"field\":\"Peak-Timing\"}},\"id\":\"6480\",\"type\":\"Line\"},{\"attributes\":{},\"id\":\"6446\",\"type\":\"LinearScale\"},{\"attributes\":{\"source\":{\"id\":\"6477\"}},\"id\":\"6484\",\"type\":\"CDSView\"},{\"attributes\":{\"line_color\":\"#30a2da\",\"line_width\":2,\"x\":{\"field\":\"index\"},\"y\":{\"field\":\"Peak-Timing\"}},\"id\":\"6497\",\"type\":\"Line\"},{\"attributes\":{\"click_policy\":\"mute\",\"coordinates\":null,\"group\":null,\"items\":[{\"id\":\"6496\"},{\"id\":\"6518\"},{\"id\":\"6542\"},{\"id\":\"6568\"}]},\"id\":\"6495\",\"type\":\"Legend\"},{\"attributes\":{\"label\":{\"value\":\"JMA PF + PD\"},\"renderers\":[{\"id\":\"6483\"}]},\"id\":\"6496\",\"type\":\"LegendItem\"},{\"attributes\":{\"data\":{\"Peak-Timing\":{\"__ndarray__\":\"AAAAAAAA+H/5FJoxwRfhP/KJ76WA/eQ/CbFF7dqG6z9baA/GR8DwPwIcSw6HKvU/udRjPorT9j/74o7Bvcb5Pzk1uHNagPs/GCkS6W4p/j8MpNJercT9Pzvt69aGhfo/tvS9UY5X+z9uuHQ5hUH4P10ozhMRcfc/Ur6Rgnh69z9IymtVNUv4P+6riFQS7/Y/C0naeaHV+D8WzTvKPJT3P93VHeNOaPk/ystFWnNK+T/yXOBcPJH5P7nBS+z0fvk/ZryDEDpH+T/Li4oZlXz4P4uK9Rky+vg/XBdGAxy/+T/xT/4p/Hv5P1mdd0oymPk/7gDx2hzH+T+brnlZEGf5Px1PaJ6Ljfg/2scRgsyK+D8GAh6vBpf5P63VLOWBqvg/+qxP77q6+D8=\",\"dtype\":\"float64\",\"order\":\"little\",\"shape\":[37]},\"Peak_hyphen_minus_Timing\":{\"__ndarray__\":\"AAAAAAAA+H/5FJoxwRfhP/KJ76WA/eQ/CbFF7dqG6z9baA/GR8DwPwIcSw6HKvU/udRjPorT9j/74o7Bvcb5Pzk1uHNagPs/GCkS6W4p/j8MpNJercT9Pzvt69aGhfo/tvS9UY5X+z9uuHQ5hUH4P10ozhMRcfc/Ur6Rgnh69z9IymtVNUv4P+6riFQS7/Y/C0naeaHV+D8WzTvKPJT3P93VHeNOaPk/ystFWnNK+T/yXOBcPJH5P7nBS+z0fvk/ZryDEDpH+T/Li4oZlXz4P4uK9Rky+vg/XBdGAxy/+T/xT/4p/Hv5P1mdd0oymPk/7gDx2hzH+T+brnlZEGf5Px1PaJ6Ljfg/2scRgsyK+D8GAh6vBpf5P63VLOWBqvg/+qxP77q6+D8=\",\"dtype\":\"float64\",\"order\":\"little\",\"shape\":[37]},\"index\":[0,2,4,6,8,10,12,14,16,18,20,22,24,26,28,30,32,34,36,38,40,42,44,46,48,50,52,54,56,58,60,62,64,66,68,70,72]},\"selected\":{\"id\":\"6545\"},\"selection_policy\":{\"id\":\"6565\"}},\"id\":\"6544\",\"type\":\"ColumnDataSource\"}],\"root_ids\":[\"6433\"]},\"title\":\"Bokeh Application\",\"version\":\"2.4.2\"}};\n",
       "    var render_items = [{\"docid\":\"bcfcfee6-69ef-4ba8-b132-b32d5c803727\",\"root_ids\":[\"6433\"],\"roots\":{\"6433\":\"e342c5c9-1155-4509-a63c-f7bb350761c2\"}}];\n",
       "    root.Bokeh.embed.embed_items_notebook(docs_json, render_items);\n",
       "  }\n",
       "  if (root.Bokeh !== undefined && root.Bokeh.Panel !== undefined) {\n",
       "    embed_document(root);\n",
       "  } else {\n",
       "    var attempts = 0;\n",
       "    var timer = setInterval(function(root) {\n",
       "      if (root.Bokeh !== undefined && root.Bokeh.Panel !== undefined) {\n",
       "        clearInterval(timer);\n",
       "        embed_document(root);\n",
       "      } else if (document.readyState == \"complete\") {\n",
       "        attempts++;\n",
       "        if (attempts > 200) {\n",
       "          clearInterval(timer);\n",
       "          console.log(\"Bokeh: ERROR: Unable to run BokehJS code because BokehJS library is missing\");\n",
       "        }\n",
       "      }\n",
       "    }, 25, root)\n",
       "  }\n",
       "})(window);</script>"
      ],
      "text/plain": [
       ":Overlay\n",
       "   .Curve.JMA_PF_plus_PD :Curve   [index]   (Peak-Timing)\n",
       "   .Curve.JMA_PF         :Curve   [index]   (Peak-Timing)\n",
       "   .Curve.PD             :Curve   [index]   (Peak-Timing)\n",
       "   .Curve.Baseline       :Curve   [index]   (Peak-Timing)"
      ]
     },
     "execution_count": 42,
     "metadata": {
      "application/vnd.holoviews_exec.v0+json": {
       "id": "6433"
      }
     },
     "output_type": "execute_result"
    }
   ],
   "source": [
    "(res_jma_pd['Peak-Timing'].hvplot(xlabel='horizon (hour)', ylabel='NSE', title='', width=750, label='JMA PF + PD',height=400) * \\\n",
    "res_jma['Peak-Timing'].hvplot(xlabel='horizon (hour)', ylabel='NSE', title='', width=750, label='JMA PF',height=400) * \\\n",
    "res_pd['Peak-Timing'].hvplot(xlabel='horizon (hour)', ylabel='NSE', title='', width=750, label='PD',height=400) * \\\n",
    "res_base['Peak-Timing'].hvplot(xlabel='horizon (hour)', ylabel='NSE', title='', width=750, label='Baseline', height=400))"
   ]
  }
 ],
 "metadata": {
  "kernelspec": {
   "display_name": "Python 3 (ipykernel)",
   "language": "python",
   "name": "python3"
  },
  "language_info": {
   "codemirror_mode": {
    "name": "ipython",
    "version": 3
   },
   "file_extension": ".py",
   "mimetype": "text/x-python",
   "name": "python",
   "nbconvert_exporter": "python",
   "pygments_lexer": "ipython3",
   "version": "3.8.11"
  }
 },
 "nbformat": 4,
 "nbformat_minor": 5
}
