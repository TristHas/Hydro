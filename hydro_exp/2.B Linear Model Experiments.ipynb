{
 "cells": [
  {
   "cell_type": "markdown",
   "id": "9a1538b8-6312-400f-8975-751b482e0323",
   "metadata": {
    "jp-MarkdownHeadingCollapsed": true,
    "tags": []
   },
   "source": [
    "---\n",
    "# Linear model experiments\n",
    "---\n",
    "\n",
    "This notebook does:\n",
    "- Make predictions in a variety of settings and save the results."
   ]
  },
  {
   "cell_type": "markdown",
   "id": "bef2cfe5-da5e-4bee-9163-0294c21f1549",
   "metadata": {
    "tags": []
   },
   "source": [
    "# Modules"
   ]
  },
  {
   "cell_type": "code",
   "execution_count": 1,
   "id": "2b8fafde-37cc-463f-a178-4c301e89dad1",
   "metadata": {
    "tags": []
   },
   "outputs": [],
   "source": [
    "import sys, os, datetime\n",
    "sys.path.append(\"../src\")\n",
    "\n",
    "import numpy as np\n",
    "import pandas as pd\n",
    "from sklearn.linear_model import LinearRegression\n",
    "\n",
    "from exp_helpers import format_results, result_path\n",
    "from dataset import ds_generator\n",
    "from config import data_configuration"
   ]
  },
  {
   "cell_type": "code",
   "execution_count": 2,
   "id": "7333013f-d1ca-4184-9193-6b76b9ef0781",
   "metadata": {},
   "outputs": [],
   "source": [
    "df = pd.read_pickle('data_details.pkl')\n",
    "idxs = df[~(df['lack of data']) & (df['network exist']) & ~(df['other dams']) & (df['gauge available'])].index\n",
    "model = LinearRegression()"
   ]
  },
  {
   "cell_type": "markdown",
   "id": "af9ac458-9516-40f6-a3b7-44bef74bcf56",
   "metadata": {
    "tags": []
   },
   "source": [
    "### Data format experiment"
   ]
  },
  {
   "cell_type": "code",
   "execution_count": 3,
   "id": "84fe8e4c-21de-4de1-a4bc-0528be47d708",
   "metadata": {
    "tags": []
   },
   "outputs": [
    {
     "data": {
      "application/vnd.jupyter.widget-view+json": {
       "model_id": "e79202e9719a49248e989e1e0e7922a0",
       "version_major": 2,
       "version_minor": 0
      },
      "text/plain": [
       "  0%|          | 0/86 [00:00<?, ?it/s]"
      ]
     },
     "metadata": {},
     "output_type": "display_data"
    },
    {
     "data": {
      "application/vnd.jupyter.widget-view+json": {
       "model_id": "628feb31fa83457996fdb438044222dd",
       "version_major": 2,
       "version_minor": 0
      },
      "text/plain": [
       "  0%|          | 0/86 [00:00<?, ?it/s]"
      ]
     },
     "metadata": {},
     "output_type": "display_data"
    },
    {
     "data": {
      "application/vnd.jupyter.widget-view+json": {
       "model_id": "dce2b773bc3a46b7af2c7253f269e9d1",
       "version_major": 2,
       "version_minor": 0
      },
      "text/plain": [
       "  0%|          | 0/86 [00:00<?, ?it/s]"
      ]
     },
     "metadata": {},
     "output_type": "display_data"
    },
    {
     "data": {
      "application/vnd.jupyter.widget-view+json": {
       "model_id": "546eddde9eed46b5b6d918f0080e6e4d",
       "version_major": 2,
       "version_minor": 0
      },
      "text/plain": [
       "  0%|          | 0/86 [00:00<?, ?it/s]"
      ]
     },
     "metadata": {},
     "output_type": "display_data"
    }
   ],
   "source": [
    "for pca in [True, False]:\n",
    "    for agg in [True, False]:\n",
    "        config_args = data_configuration(catchment_aggregation=agg,\n",
    "                                         pca_exec=pca)\n",
    "        results = {}\n",
    "\n",
    "        for (idx, te_ds, train_x, train_y, train_date, val_x, val_y, val_date,\n",
    "             test_x, test_y, test_date) in ds_generator(idxs, **config_args):\n",
    "\n",
    "            model.fit(train_x, train_y)\n",
    "            predict = model.predict(test_x)\n",
    "            results[idx] = format_results(predict, test_y, te_ds, test_date)\n",
    "\n",
    "        # Save results\n",
    "        dirname = result_path(config_args)\n",
    "        os.makedirs(dirname, exist_ok=True)\n",
    "\n",
    "        for k, result in results.items():\n",
    "            result.to_pickle(f\"{dirname}/{k}.pkl\")"
   ]
  },
  {
   "cell_type": "markdown",
   "id": "1dd1f9e1-1300-43b5-bcd4-de6f0a3c8ae1",
   "metadata": {
    "tags": []
   },
   "source": [
    "### Input data"
   ]
  },
  {
   "cell_type": "code",
   "execution_count": 9,
   "id": "50e7b19c-0b71-4108-9d89-e235a0e0a934",
   "metadata": {
    "tags": []
   },
   "outputs": [
    {
     "data": {
      "application/vnd.jupyter.widget-view+json": {
       "model_id": "0dfdf3f103494fb79184c68edcbad921",
       "version_major": 2,
       "version_minor": 0
      },
      "text/plain": [
       "  0%|          | 0/86 [00:00<?, ?it/s]"
      ]
     },
     "metadata": {},
     "output_type": "display_data"
    },
    {
     "data": {
      "application/vnd.jupyter.widget-view+json": {
       "model_id": "795c0c886a044c14b1386940e1244e86",
       "version_major": 2,
       "version_minor": 0
      },
      "text/plain": [
       "  0%|          | 0/86 [00:00<?, ?it/s]"
      ]
     },
     "metadata": {},
     "output_type": "display_data"
    },
    {
     "data": {
      "application/vnd.jupyter.widget-view+json": {
       "model_id": "74b680dfcda742c18009730c464d895a",
       "version_major": 2,
       "version_minor": 0
      },
      "text/plain": [
       "  0%|          | 0/86 [00:00<?, ?it/s]"
      ]
     },
     "metadata": {},
     "output_type": "display_data"
    },
    {
     "data": {
      "application/vnd.jupyter.widget-view+json": {
       "model_id": "ac43b60da1094069aece5b298c924de7",
       "version_major": 2,
       "version_minor": 0
      },
      "text/plain": [
       "  0%|          | 0/86 [00:00<?, ?it/s]"
      ]
     },
     "metadata": {},
     "output_type": "display_data"
    },
    {
     "data": {
      "application/vnd.jupyter.widget-view+json": {
       "model_id": "ce60c17aafa64f92b2fe279b63fd00cc",
       "version_major": 2,
       "version_minor": 0
      },
      "text/plain": [
       "  0%|          | 0/86 [00:00<?, ?it/s]"
      ]
     },
     "metadata": {},
     "output_type": "display_data"
    },
    {
     "data": {
      "application/vnd.jupyter.widget-view+json": {
       "model_id": "e27edfdc68034b97b05dfd5699f94c25",
       "version_major": 2,
       "version_minor": 0
      },
      "text/plain": [
       "  0%|          | 0/86 [00:00<?, ?it/s]"
      ]
     },
     "metadata": {},
     "output_type": "display_data"
    },
    {
     "data": {
      "application/vnd.jupyter.widget-view+json": {
       "model_id": "60154350439347b390e71df6cec948c1",
       "version_major": 2,
       "version_minor": 0
      },
      "text/plain": [
       "  0%|          | 0/86 [00:00<?, ?it/s]"
      ]
     },
     "metadata": {},
     "output_type": "display_data"
    },
    {
     "data": {
      "application/vnd.jupyter.widget-view+json": {
       "model_id": "408e865e727b4d9b83b5dc6c15db54fe",
       "version_major": 2,
       "version_minor": 0
      },
      "text/plain": [
       "  0%|          | 0/86 [00:00<?, ?it/s]"
      ]
     },
     "metadata": {},
     "output_type": "display_data"
    }
   ],
   "source": [
    "for snow_melt in [True, False]:\n",
    "    for monthes in [True, False]:\n",
    "        for past_discharge in [True, False]:\n",
    "            config_args = data_configuration(input_snmlt = snow_melt,\n",
    "                                             input_discharge = past_discharge,\n",
    "                                             input_month=monthes,\n",
    "                                             pca_exec=True)\n",
    "            results = {}\n",
    "\n",
    "            for (idx, te_ds, train_x, train_y, train_date, val_x, val_y, val_date,\n",
    "                 test_x, test_y, test_date) in ds_generator(idxs, **config_args):\n",
    "\n",
    "                model.fit(train_x, train_y)\n",
    "                predict = model.predict(test_x)\n",
    "                results[idx] = format_results(predict, test_y, te_ds, test_date)\n",
    "\n",
    "            # Save results\n",
    "            dirname = result_path(config_args)\n",
    "            os.makedirs(dirname, exist_ok=True)\n",
    "\n",
    "            for k, result in results.items():\n",
    "                result.to_pickle(f\"{dirname}/{k}.pkl\")"
   ]
  },
  {
   "cell_type": "markdown",
   "id": "5b09b205-5f2f-4ff9-a404-6080eed6425f",
   "metadata": {},
   "source": [
    "### Past discharge"
   ]
  },
  {
   "cell_type": "code",
   "execution_count": 17,
   "id": "688b806a-11c1-4b23-b13e-14745d60026f",
   "metadata": {},
   "outputs": [
    {
     "data": {
      "application/vnd.jupyter.widget-view+json": {
       "model_id": "e557a45aabeb441f973c1a6f3211cb57",
       "version_major": 2,
       "version_minor": 0
      },
      "text/plain": [
       "  0%|          | 0/86 [00:00<?, ?it/s]"
      ]
     },
     "metadata": {},
     "output_type": "display_data"
    },
    {
     "data": {
      "application/vnd.jupyter.widget-view+json": {
       "model_id": "491eeb1989cf42dbaeec5bba85721f11",
       "version_major": 2,
       "version_minor": 0
      },
      "text/plain": [
       "  0%|          | 0/86 [00:00<?, ?it/s]"
      ]
     },
     "metadata": {},
     "output_type": "display_data"
    },
    {
     "data": {
      "application/vnd.jupyter.widget-view+json": {
       "model_id": "652ed06c87384efcabc6c0cf85256f79",
       "version_major": 2,
       "version_minor": 0
      },
      "text/plain": [
       "  0%|          | 0/86 [00:00<?, ?it/s]"
      ]
     },
     "metadata": {},
     "output_type": "display_data"
    },
    {
     "data": {
      "application/vnd.jupyter.widget-view+json": {
       "model_id": "138046bcaedf408893afc9bf32a63362",
       "version_major": 2,
       "version_minor": 0
      },
      "text/plain": [
       "  0%|          | 0/86 [00:00<?, ?it/s]"
      ]
     },
     "metadata": {},
     "output_type": "display_data"
    },
    {
     "data": {
      "application/vnd.jupyter.widget-view+json": {
       "model_id": "b88bef9eca834426bf96b289509dd3f9",
       "version_major": 2,
       "version_minor": 0
      },
      "text/plain": [
       "  0%|          | 0/86 [00:00<?, ?it/s]"
      ]
     },
     "metadata": {},
     "output_type": "display_data"
    },
    {
     "data": {
      "application/vnd.jupyter.widget-view+json": {
       "model_id": "9362fecfede34582ac8ae3b1ccd6d732",
       "version_major": 2,
       "version_minor": 0
      },
      "text/plain": [
       "  0%|          | 0/86 [00:00<?, ?it/s]"
      ]
     },
     "metadata": {},
     "output_type": "display_data"
    }
   ],
   "source": [
    "for past in [1, 2, 5, 10, 20, 30]:\n",
    "    config_args = data_configuration(past = past,\n",
    "                                     pca_exec = True)\n",
    "    results = {}\n",
    "\n",
    "    for (idx, te_ds, train_x, train_y, train_date, val_x, val_y, val_date,\n",
    "         test_x, test_y, test_date) in ds_generator(idxs, **config_args):\n",
    "\n",
    "        model.fit(train_x, train_y)\n",
    "        predict = model.predict(test_x)\n",
    "        results[idx] = format_results(predict, test_y, te_ds, test_date)\n",
    "\n",
    "    # Save results\n",
    "    dirname = result_path(config_args)\n",
    "    os.makedirs(dirname, exist_ok=True)\n",
    "\n",
    "    for k, result in results.items():\n",
    "        result.to_pickle(f\"{dirname}/{k}.pkl\")"
   ]
  },
  {
   "cell_type": "markdown",
   "id": "d3f0bd4f-a379-447f-ae67-d71cc1f59ffe",
   "metadata": {},
   "source": [
    "### Rain obeservation"
   ]
  },
  {
   "cell_type": "code",
   "execution_count": 18,
   "id": "1e8ec88f-1cc2-46be-982c-dc1b80357194",
   "metadata": {
    "tags": []
   },
   "outputs": [
    {
     "data": {
      "application/vnd.jupyter.widget-view+json": {
       "model_id": "79cd854a7c7c4e0aaf21f31434f4a398",
       "version_major": 2,
       "version_minor": 0
      },
      "text/plain": [
       "  0%|          | 0/86 [00:00<?, ?it/s]"
      ]
     },
     "metadata": {},
     "output_type": "display_data"
    },
    {
     "data": {
      "application/vnd.jupyter.widget-view+json": {
       "model_id": "2e16bc4969784c45ada416759a72deed",
       "version_major": 2,
       "version_minor": 0
      },
      "text/plain": [
       "  0%|          | 0/86 [00:00<?, ?it/s]"
      ]
     },
     "metadata": {},
     "output_type": "display_data"
    },
    {
     "data": {
      "application/vnd.jupyter.widget-view+json": {
       "model_id": "2fdb8b4e56ec4cb7bf1725fc3c417d3e",
       "version_major": 2,
       "version_minor": 0
      },
      "text/plain": [
       "  0%|          | 0/86 [00:00<?, ?it/s]"
      ]
     },
     "metadata": {},
     "output_type": "display_data"
    },
    {
     "data": {
      "application/vnd.jupyter.widget-view+json": {
       "model_id": "7226bdec12114324bba3393925055582",
       "version_major": 2,
       "version_minor": 0
      },
      "text/plain": [
       "  0%|          | 0/86 [00:00<?, ?it/s]"
      ]
     },
     "metadata": {},
     "output_type": "display_data"
    }
   ],
   "source": [
    "for rain_obs in [\"gauge\", \"msm\", \"gsmap\", \"gsmap+gauge\"]:\n",
    "    config_args = data_configuration(rain_obs = rain_obs,\n",
    "                                     pca_exec = True)\n",
    "    results = {}\n",
    "\n",
    "    for (idx, te_ds, train_x, train_y, train_date, val_x, val_y, val_date,\n",
    "         test_x, test_y, test_date) in ds_generator(idxs, **config_args):\n",
    "\n",
    "        model.fit(train_x, train_y)\n",
    "        predict = model.predict(test_x)\n",
    "        results[idx] = format_results(predict, test_y, te_ds, test_date)\n",
    "\n",
    "    # Save results\n",
    "    dirname = result_path(config_args) \n",
    "    os.makedirs(dirname, exist_ok=True)\n",
    "\n",
    "    for k, result in results.items():\n",
    "        result.to_pickle(f\"{dirname}/{k}.pkl\")"
   ]
  },
  {
   "cell_type": "code",
   "execution_count": null,
   "id": "3f4d9114-0492-44f0-a926-30b6a6decc03",
   "metadata": {},
   "outputs": [],
   "source": []
  }
 ],
 "metadata": {
  "kernelspec": {
   "display_name": "Python 3 (ipykernel)",
   "language": "python",
   "name": "python3"
  },
  "language_info": {
   "codemirror_mode": {
    "name": "ipython",
    "version": 3
   },
   "file_extension": ".py",
   "mimetype": "text/x-python",
   "name": "python",
   "nbconvert_exporter": "python",
   "pygments_lexer": "ipython3",
   "version": "3.8.11"
  }
 },
 "nbformat": 4,
 "nbformat_minor": 5
}
