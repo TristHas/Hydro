{
 "cells": [
  {
   "cell_type": "code",
   "execution_count": 1,
   "id": "05797e72-b52b-444c-989b-2433fd6e1947",
   "metadata": {},
   "outputs": [],
   "source": [
    "import sys\n",
    "sys.path.append(\"../src/\")\n",
    "from dataio import *\n",
    "from tqdm import tqdm\n",
    "import datetime\n",
    "import pandas as pd\n",
    "import numpy as np\n",
    "import matplotlib.pyplot as plt\n",
    "import os\n",
    "\n",
    "from dataio import convert_storage"
   ]
  },
  {
   "cell_type": "markdown",
   "id": "e7c54522-8ef9-4f32-9e99-d6c8b3f838ce",
   "metadata": {
    "tags": []
   },
   "source": [
    "# Convert storage:\n",
    "- from full catchment CSV serialization\n",
    "- to per-catchment series "
   ]
  },
  {
   "cell_type": "code",
   "execution_count": 5,
   "id": "a4ceaee2-fa53-468f-b303-5ad1acaafd0d",
   "metadata": {},
   "outputs": [],
   "source": [
    "convert_basin_msm_storage('rain')\n",
    "convert_basin_msm_storage('temp')\n",
    "convert_basin_te_storage('ice_melt')"
   ]
  }
 ],
 "metadata": {
  "kernelspec": {
   "display_name": "Python 3 (ipykernel)",
   "language": "python",
   "name": "python3"
  },
  "language_info": {
   "codemirror_mode": {
    "name": "ipython",
    "version": 3
   },
   "file_extension": ".py",
   "mimetype": "text/x-python",
   "name": "python",
   "nbconvert_exporter": "python",
   "pygments_lexer": "ipython3",
   "version": "3.8.11"
  }
 },
 "nbformat": 4,
 "nbformat_minor": 5
}
