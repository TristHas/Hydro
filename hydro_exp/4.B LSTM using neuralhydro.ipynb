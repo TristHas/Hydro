{
 "cells": [
  {
   "cell_type": "code",
   "execution_count": 1,
   "metadata": {},
   "outputs": [],
   "source": [
    "import pickle\n",
    "from pathlib import Path\n",
    "from tqdm.notebook import tqdm\n",
    "import pandas as pd\n",
    "\n",
    "import torch\n",
    "from neuralhydrology.evaluation import metrics\n",
    "from neuralhydrology.nh_run import start_run, eval_run\n",
    "from neuralhydrology.utils.config import Config\n",
    "from neuralhydrology.training.basetrainer import BaseTrainer\n",
    "from neuralhydrology.nh_run import start_run, start_training, start_evaluation\n",
    "\n",
    "import shutil"
   ]
  },
  {
   "cell_type": "code",
   "execution_count": 2,
   "metadata": {},
   "outputs": [],
   "source": [
    "def _create_folder_structure(self):\n",
    "    # create as subdirectory within run directory of base run\n",
    "    if self.cfg.is_continue_training:\n",
    "        folder_name = f\"continue_training_from_epoch{self._epoch:03d}\"\n",
    "\n",
    "        # store dir of base run for easier access in weight loading\n",
    "        self.cfg.base_run_dir = self.cfg.run_dir\n",
    "        self.cfg.run_dir = self.cfg.run_dir / folder_name\n",
    "\n",
    "    # create as new folder structure\n",
    "    else:\n",
    "        run_name = f'{self.cfg.idx}'\n",
    "\n",
    "        # if no directory for the runs is specified, a 'runs' folder will be created in the current working dir\n",
    "        if self.cfg.run_dir is None:\n",
    "            self.cfg.run_dir = Path().cwd() / \"runs\" / run_name\n",
    "        else:\n",
    "            self.cfg.run_dir = self.cfg.run_dir / run_name\n",
    "\n",
    "    # create folder + necessary subfolder\n",
    "    if not self.cfg.run_dir.is_dir():\n",
    "        self.cfg.train_dir = self.cfg.run_dir / \"train_data\"\n",
    "        self.cfg.train_dir.mkdir(parents=True, exist_ok=True)\n",
    "    else:\n",
    "        raise RuntimeError(f\"There is already a folder at {self.cfg.run_dir}\")\n",
    "    if self.cfg.log_n_figures is not None:\n",
    "        self.cfg.img_log_dir = self.cfg.run_dir / \"img_log\"\n",
    "        self.cfg.img_log_dir.mkdir(parents=True, exist_ok=True)\n"
   ]
  },
  {
   "cell_type": "code",
   "execution_count": 3,
   "metadata": {},
   "outputs": [],
   "source": [
    "df = pd.read_pickle('data_details.pkl')\n",
    "idxs = df[~(df['lack of data']) & (df['network exist']) & ~(df['other dams']) & (df['gauge available'])].index\n",
    "\n",
    "BaseTrainer._create_folder_structure = _create_folder_structure"
   ]
  },
  {
   "cell_type": "markdown",
   "metadata": {},
   "source": [
    "# train and validate LSTM"
   ]
  },
  {
   "cell_type": "code",
   "execution_count": null,
   "metadata": {},
   "outputs": [],
   "source": [
    "# %%capture\n",
    "for idx in tqdm(idxs):\n",
    "    if Path(f'./runs/{idx}/').exists():\n",
    "        shutil.rmtree(Path(f'./runs/{idx}/'))\n",
    "    # set config\n",
    "    cfg = Config(Path('basin.yml'))\n",
    "    cfg.device = f\"cpu\"\n",
    "    cfg.idx = idx\n",
    "    cfg._cfg['train_basin_file'] = Path(f'./CAMELSJP/dam_idxs/{idx}.txt')\n",
    "    cfg._cfg['validation_basin_file'] = Path(f'./CAMELSJP/dam_idxs/{idx}.txt')\n",
    "    cfg._cfg['test_basin_file'] = Path(f'./CAMELSJP/dam_idxs/{idx}.txt')\n",
    "\n",
    "    # train\n",
    "    start_training(cfg)\n",
    "\n",
    "    # evaluate\n",
    "    run_dir = Path(f\"runs/{idx}\")\n",
    "    eval_run(run_dir=run_dir, period=\"test\")"
   ]
  }
 ],
 "metadata": {
  "kernelspec": {
   "display_name": "Python 3 (ipykernel)",
   "language": "python",
   "name": "python3"
  },
  "language_info": {
   "codemirror_mode": {
    "name": "ipython",
    "version": 3
   },
   "file_extension": ".py",
   "mimetype": "text/x-python",
   "name": "python",
   "nbconvert_exporter": "python",
   "pygments_lexer": "ipython3",
   "version": "3.8.11"
  }
 },
 "nbformat": 4,
 "nbformat_minor": 4
}
