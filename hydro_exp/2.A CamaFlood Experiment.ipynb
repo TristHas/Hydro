{
 "cells": [
  {
   "cell_type": "code",
   "execution_count": 1,
   "id": "de8007a3-5303-4378-8c5e-0df6c79156be",
   "metadata": {},
   "outputs": [],
   "source": [
    "import sys\n",
    "sys.path.append(\"../src\")\n",
    "\n",
    "import datetime\n",
    "import pandas as pd\n",
    "from sklearn.linear_model import LinearRegression\n",
    "from tqdm.notebook import tqdm\n",
    "\n",
    "from dataio import *"
   ]
  },
  {
   "cell_type": "code",
   "execution_count": 2,
   "id": "5af5843a-f4fd-4c95-a6b8-9f7d2f13c2e7",
   "metadata": {},
   "outputs": [],
   "source": [
    "def make_df(idx,daily=False):\n",
    "    rivout = load_dam_rivout(idx,daily=daily)\n",
    "    \n",
    "    discharge = load_dam_discharge(idx)\n",
    "    discharge = pd.concat(load_dam_discharge(idx))\n",
    "    #processing missing data\n",
    "    discharge[discharge<0] = np.nan\n",
    "    discharge.fillna(method='ffill',inplace=True,limit=3)\n",
    "    discharge.dropna(inplace=True)\n",
    "    \n",
    "    if daily:\n",
    "        discharge.index = discharge.index.date\n",
    "        discharge.index.name = 'date'\n",
    "        discharge = discharge.groupby(level=['date']).mean()\n",
    "        discharge.index = pd.to_datetime(discharge.index)\n",
    "    \n",
    "    df = pd.concat([rivout,discharge],axis=1)\n",
    "    df = df.dropna(how='any')\n",
    "    df.columns=['x','y']\n",
    "    return df "
   ]
  },
  {
   "cell_type": "code",
   "execution_count": 3,
   "id": "3e2e6baa-0bc4-4a46-8e01-fb6dc20db334",
   "metadata": {},
   "outputs": [],
   "source": [
    "df = pd.read_pickle('data_details.pkl')\n",
    "idxs = df[~(df['lack of data']) & (df['network exist']) & ~(df['other dams']) & (df['gauge available'])].index"
   ]
  },
  {
   "cell_type": "markdown",
   "id": "79c02d7e-79d5-4b96-affa-ecfab1a43853",
   "metadata": {
    "tags": []
   },
   "source": [
    "## 1. Daily Evaluation"
   ]
  },
  {
   "cell_type": "code",
   "execution_count": 4,
   "id": "475b28e9-c839-4bbe-b486-1ef29fa6ba07",
   "metadata": {
    "tags": []
   },
   "outputs": [
    {
     "data": {
      "application/vnd.jupyter.widget-view+json": {
       "model_id": "86ed6b0c63164f6b863e575a1729f4c4",
       "version_major": 2,
       "version_minor": 0
      },
      "text/plain": [
       "  0%|          | 0/86 [00:00<?, ?it/s]"
      ]
     },
     "metadata": {},
     "output_type": "display_data"
    }
   ],
   "source": [
    "results = {}\n",
    "\n",
    "for idx in tqdm(idxs):\n",
    "    if idx == 1368060475060:\n",
    "        continue\n",
    "    df = make_df(idx,daily=True)\n",
    "    x = df.values[:,0].reshape(-1, 1)\n",
    "    y = df.values[:,1].reshape(-1, 1)\n",
    "    \n",
    "    msk_tr = df.index<datetime.datetime(2018,9,1)\n",
    "    tr_idx = np.where(msk_tr)[0]\n",
    "    te_idx = get_prediction(idx).index\n",
    "\n",
    "    train_x, test_x = x[tr_idx], df.loc[te_idx,'x'].values.reshape(-1,1)\n",
    "    train_y, test_y = y[tr_idx], df.loc[te_idx,'y'].values.reshape(-1,1)\n",
    "    \n",
    "    # caribration\n",
    "    lr = LinearRegression()\n",
    "    lr.fit(train_x,train_y)\n",
    "    predict = lr.predict(test_x)\n",
    "    \n",
    "    \n",
    "    predict = predict.reshape(-1,)\n",
    "    test_y = test_y.reshape(-1,)\n",
    "    \n",
    "    inputs = {}\n",
    "    inputs[\"pred\"]=predict\n",
    "    inputs[\"y\"]=test_y\n",
    "    inputs = pd.DataFrame(inputs)\n",
    "    inputs.index = df.loc[te_idx].index\n",
    "    results[idx]=inputs\n",
    "\n",
    "# save results\n",
    "dirname = f\"./predictions/daily/CaMa-Flood\"\n",
    "os.makedirs(dirname, exist_ok=True)\n",
    "\n",
    "for k, result in results.items():\n",
    "    result.to_pickle(f\"{dirname}/{k}.pkl\")"
   ]
  },
  {
   "cell_type": "code",
   "execution_count": 5,
   "id": "d997ea3a-3e7c-4fb4-9f7b-0670881b6913",
   "metadata": {},
   "outputs": [
    {
     "data": {
      "text/plain": [
       "RMSE     14.247957\n",
       "MSE     573.989450\n",
       "NSE       0.439285\n",
       "KGE       0.525098\n",
       "bias     -1.948944\n",
       "dtype: float64"
      ]
     },
     "execution_count": 5,
     "metadata": {},
     "output_type": "execute_result"
    }
   ],
   "source": [
    "get_results(model='CaMa-Flood').mean()"
   ]
  },
  {
   "cell_type": "markdown",
   "id": "91fe9e9e-067d-40ac-a2b1-9b5b3bb88854",
   "metadata": {},
   "source": [
    "## HOURLY"
   ]
  },
  {
   "cell_type": "code",
   "execution_count": 6,
   "id": "d5b7e991-1f82-4ea8-a98b-bea119d4ff2d",
   "metadata": {},
   "outputs": [
    {
     "data": {
      "application/vnd.jupyter.widget-view+json": {
       "model_id": "ff40cccbb87a42e2afdca1551585048d",
       "version_major": 2,
       "version_minor": 0
      },
      "text/plain": [
       "  0%|          | 0/86 [00:00<?, ?it/s]"
      ]
     },
     "metadata": {},
     "output_type": "display_data"
    }
   ],
   "source": [
    "results = {}\n",
    "\n",
    "for idx in tqdm(idxs):\n",
    "    if idx == 1368060475060:\n",
    "        continue\n",
    "    # use daily data to get bias and scale\n",
    "    df = make_df(idx,daily=True)\n",
    "    x = df.values[:,0].reshape(-1, 1)\n",
    "    y = df.values[:,1].reshape(-1, 1)\n",
    "    \n",
    "    msk_tr = df.index<datetime.datetime(2018,9,1)\n",
    "    tr_idx = np.where(msk_tr)[0]\n",
    "    te_idx = np.where(~msk_tr)[0]\n",
    "\n",
    "    train_x, test_x = x[tr_idx], x[te_idx].reshape(-1,1)\n",
    "    train_y, test_y = y[tr_idx], y[te_idx].reshape(-1,1)\n",
    "    \n",
    "    # caribration\n",
    "    lr = LinearRegression()\n",
    "    lr.fit(train_x,train_y)\n",
    "    \n",
    "    # HOURLY prediction \n",
    "    df = make_df(idx,daily=False)\n",
    "    x = df.values[:,0].reshape(-1, 1)\n",
    "    y = df.values[:,1].reshape(-1, 1)\n",
    "    \n",
    "    msk_tr = df.index<datetime.datetime(2018,9,1)\n",
    "    tr_idx = np.where(msk_tr)[0]\n",
    "    te_idx = np.where(~msk_tr)[0]\n",
    "\n",
    "    train_x, test_x = x[tr_idx], x[te_idx].reshape(-1,1)\n",
    "    train_y, test_y = y[tr_idx], y[te_idx].reshape(-1,1)\n",
    "    \n",
    "    # caribration\n",
    "    predict = lr.predict(test_x)\n",
    "    \n",
    "    predict = predict.reshape(-1,)\n",
    "    test_y = test_y.reshape(-1,)\n",
    "  \n",
    "    inputs = {}\n",
    "    inputs[\"pred\"]=predict\n",
    "    inputs[\"y\"]=test_y\n",
    "    inputs = pd.DataFrame(inputs)\n",
    "    inputs.index = df.iloc[te_idx].index\n",
    "    results[idx]=inputs\n",
    "\n",
    "# save results\n",
    "dirname = f\"./predictions/hourly/CaMa-Flood\"\n",
    "os.makedirs(dirname, exist_ok=True)\n",
    "\n",
    "for k, result in results.items():\n",
    "    result.to_pickle(f\"{dirname}/{k}.pkl\")"
   ]
  },
  {
   "cell_type": "code",
   "execution_count": 7,
   "id": "602a60bf-f93d-4a64-b5a4-24db37df6052",
   "metadata": {},
   "outputs": [
    {
     "data": {
      "text/plain": [
       "RMSE      24.230551\n",
       "MSE     1193.432396\n",
       "NSE       -0.044781\n",
       "KGE        0.415215\n",
       "bias      -1.298303\n",
       "dtype: float64"
      ]
     },
     "execution_count": 7,
     "metadata": {},
     "output_type": "execute_result"
    }
   ],
   "source": [
    "get_results(model='CaMa-Flood', hourly=True).mean()"
   ]
  },
  {
   "cell_type": "code",
   "execution_count": null,
   "id": "609edeed-21d5-430f-9e11-2b57717c1d55",
   "metadata": {},
   "outputs": [],
   "source": []
  }
 ],
 "metadata": {
  "kernelspec": {
   "display_name": "Python 3 (ipykernel)",
   "language": "python",
   "name": "python3"
  },
  "language_info": {
   "codemirror_mode": {
    "name": "ipython",
    "version": 3
   },
   "file_extension": ".py",
   "mimetype": "text/x-python",
   "name": "python",
   "nbconvert_exporter": "python",
   "pygments_lexer": "ipython3",
   "version": "3.8.11"
  }
 },
 "nbformat": 4,
 "nbformat_minor": 5
}
