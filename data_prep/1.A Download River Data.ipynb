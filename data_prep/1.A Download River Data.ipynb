{
 "cells": [
  {
   "cell_type": "code",
   "execution_count": 1,
   "id": "0adbc6d4-dc1d-4862-a01d-d388e1463d44",
   "metadata": {},
   "outputs": [],
   "source": [
    "import sys\n",
    "sys.path.append(\"./src\")\n",
    "\n",
    "from river_helpers import *\n",
    "from config import (dam_data_folder, rain_data_folder, discharge_data_folder,\n",
    "                    dam_details_path, rain_details_path, discharge_details_path)"
   ]
  },
  {
   "cell_type": "markdown",
   "id": "a3811dcf-4e1a-4b71-9813-c360569deaa7",
   "metadata": {},
   "source": [
    "# 1. Scrap Dam data"
   ]
  },
  {
   "cell_type": "code",
   "execution_count": 4,
   "id": "e684e989-706b-4252-b622-1d9dcb6c8699",
   "metadata": {},
   "outputs": [],
   "source": [
    "measure = \"dam\""
   ]
  },
  {
   "cell_type": "markdown",
   "id": "ad262004-5ec6-49fb-be00-8a3795314938",
   "metadata": {},
   "source": [
    "#### Step 1: Get dam info"
   ]
  },
  {
   "cell_type": "code",
   "execution_count": 6,
   "id": "d90314bf-3dfb-4c32-b904-9f0583aa99bb",
   "metadata": {},
   "outputs": [
    {
     "name": "stderr",
     "output_type": "stream",
     "text": [
      "100%|██████████| 14/14 [00:02<00:00,  4.88it/s]\n"
     ]
    }
   ],
   "source": [
    "idxs = []\n",
    "for page_idx in tqdm(range(n_pages[measure])):\n",
    "    page = get_listing_page(page_idx, measure=measure)\n",
    "    idxs += parse_idx(page)\n",
    "    \n",
    "details = {}\n",
    "for idx in tqdm(idxs):\n",
    "    html = get_detail_page(idx)\n",
    "    details[idx] = parse_details(html)\n",
    "    \n",
    "with open(dam_details_path, \"wb\") as f:\n",
    "    pickle.dump(details, f)"
   ]
  },
  {
   "cell_type": "markdown",
   "id": "0eb2616b-c0d4-46dc-b4bc-d354ac751139",
   "metadata": {},
   "source": [
    "#### Step 2: Get availability"
   ]
  },
  {
   "cell_type": "code",
   "execution_count": 12,
   "id": "59bda149-dd85-471e-b837-7de3e2c2aebd",
   "metadata": {
    "collapsed": true,
    "jupyter": {
     "outputs_hidden": true
    },
    "tags": []
   },
   "outputs": [
    {
     "name": "stderr",
     "output_type": "stream",
     "text": [
      "  3%|▎         | 4/131 [00:00<00:03, 35.23it/s]"
     ]
    },
    {
     "name": "stdout",
     "output_type": "stream",
     "text": [
      "1363230375020 has no available data\n",
      "1363230375080 has no available data\n",
      "1363230375130 has no available data\n"
     ]
    },
    {
     "name": "stderr",
     "output_type": "stream",
     "text": [
      "100%|██████████| 131/131 [00:15<00:00,  8.61it/s]"
     ]
    },
    {
     "name": "stdout",
     "output_type": "stream",
     "text": [
      "609999999999001 has no available data\n"
     ]
    },
    {
     "name": "stderr",
     "output_type": "stream",
     "text": [
      "\n"
     ]
    }
   ],
   "source": [
    "periods = {}\n",
    "for k, v in tqdm(details.items()):\n",
    "    if 1 in v[\"info\"]:\n",
    "        v=get_dam_availability(k)\n",
    "        v=parse_availability(v)\n",
    "        periods[k]=v\n",
    "    else:\n",
    "        print(f\"{k} has no available data\")"
   ]
  },
  {
   "cell_type": "markdown",
   "id": "8cf89e31-4070-4e65-80f4-d6579d35f105",
   "metadata": {},
   "source": [
    "#### Step 3: Scrap data"
   ]
  },
  {
   "cell_type": "code",
   "execution_count": 15,
   "id": "8347601a-1542-42b8-9e44-1377c411d35a",
   "metadata": {
    "collapsed": true,
    "jupyter": {
     "outputs_hidden": true
    },
    "tags": []
   },
   "outputs": [
    {
     "name": "stderr",
     "output_type": "stream",
     "text": [
      "100%|██████████| 228/228 [01:20<00:00,  2.83it/s]\n",
      "100%|██████████| 240/240 [01:27<00:00,  2.74it/s]\n",
      "100%|██████████| 168/168 [01:02<00:00,  2.70it/s]\n",
      "100%|██████████| 240/240 [01:28<00:00,  2.71it/s]\n",
      "100%|██████████| 12/12 [00:02<00:00,  5.83it/s]\n",
      "100%|██████████| 240/240 [01:25<00:00,  2.82it/s]\n",
      "100%|██████████| 240/240 [01:27<00:00,  2.75it/s]\n",
      "100%|██████████| 240/240 [01:28<00:00,  2.71it/s]\n",
      "100%|██████████| 240/240 [01:27<00:00,  2.76it/s]\n",
      "100%|██████████| 240/240 [01:27<00:00,  2.74it/s]\n",
      "100%|██████████| 240/240 [01:28<00:00,  2.71it/s]\n",
      "100%|██████████| 240/240 [01:28<00:00,  2.73it/s]\n",
      "100%|██████████| 240/240 [01:30<00:00,  2.64it/s]\n",
      "100%|██████████| 240/240 [01:27<00:00,  2.75it/s]\n",
      "100%|██████████| 240/240 [01:28<00:00,  2.72it/s]\n",
      "100%|██████████| 240/240 [01:27<00:00,  2.75it/s]\n",
      "100%|██████████| 240/240 [01:26<00:00,  2.78it/s]\n",
      "100%|██████████| 240/240 [01:28<00:00,  2.71it/s]\n",
      "100%|██████████| 240/240 [01:29<00:00,  2.67it/s]\n",
      "100%|██████████| 240/240 [01:28<00:00,  2.73it/s]\n",
      "100%|██████████| 240/240 [01:24<00:00,  2.86it/s]\n",
      "100%|██████████| 240/240 [01:28<00:00,  2.72it/s]\n",
      "100%|██████████| 72/72 [00:24<00:00,  2.97it/s]\n",
      "100%|██████████| 132/132 [00:51<00:00,  2.56it/s]\n",
      "100%|██████████| 240/240 [01:26<00:00,  2.78it/s]\n",
      "100%|██████████| 240/240 [01:27<00:00,  2.75it/s]\n",
      "100%|██████████| 240/240 [01:26<00:00,  2.78it/s]\n",
      "100%|██████████| 240/240 [01:28<00:00,  2.70it/s]\n",
      "100%|██████████| 240/240 [01:27<00:00,  2.75it/s]\n",
      "100%|██████████| 240/240 [01:27<00:00,  2.76it/s]\n",
      "100%|██████████| 240/240 [01:27<00:00,  2.76it/s]\n",
      "100%|██████████| 240/240 [01:26<00:00,  2.76it/s]\n",
      "100%|██████████| 240/240 [01:27<00:00,  2.75it/s]\n",
      "100%|██████████| 240/240 [01:29<00:00,  2.69it/s]\n",
      "100%|██████████| 240/240 [01:31<00:00,  2.63it/s]\n",
      "100%|██████████| 240/240 [01:26<00:00,  2.78it/s]\n",
      "100%|██████████| 240/240 [01:29<00:00,  2.69it/s]\n",
      "100%|██████████| 120/120 [00:44<00:00,  2.68it/s]\n",
      "100%|██████████| 240/240 [01:26<00:00,  2.78it/s]\n",
      "100%|██████████| 228/228 [01:22<00:00,  2.75it/s]\n",
      "100%|██████████| 240/240 [01:26<00:00,  2.77it/s]\n",
      "100%|██████████| 240/240 [01:26<00:00,  2.78it/s]\n",
      "100%|██████████| 156/156 [00:53<00:00,  2.90it/s]\n",
      "100%|██████████| 240/240 [01:26<00:00,  2.76it/s]\n",
      "100%|██████████| 240/240 [01:25<00:00,  2.82it/s]\n",
      "100%|██████████| 240/240 [01:27<00:00,  2.74it/s]\n",
      "100%|██████████| 240/240 [01:26<00:00,  2.78it/s]\n",
      "100%|██████████| 240/240 [01:27<00:00,  2.74it/s]\n",
      "100%|██████████| 240/240 [01:29<00:00,  2.69it/s]\n",
      "100%|██████████| 204/204 [01:16<00:00,  2.68it/s]\n",
      "100%|██████████| 240/240 [01:27<00:00,  2.75it/s]\n",
      "100%|██████████| 240/240 [01:30<00:00,  2.66it/s]\n",
      "100%|██████████| 240/240 [01:30<00:00,  2.66it/s]\n",
      "100%|██████████| 240/240 [01:29<00:00,  2.69it/s]\n",
      "100%|██████████| 240/240 [01:27<00:00,  2.76it/s]\n",
      "100%|██████████| 240/240 [01:29<00:00,  2.67it/s]\n",
      "100%|██████████| 240/240 [01:36<00:00,  2.48it/s]\n",
      "100%|██████████| 240/240 [01:28<00:00,  2.71it/s]\n",
      "100%|██████████| 240/240 [01:29<00:00,  2.69it/s]\n",
      "100%|██████████| 228/228 [01:21<00:00,  2.80it/s]\n",
      "100%|██████████| 240/240 [01:29<00:00,  2.69it/s]\n",
      "100%|██████████| 240/240 [01:26<00:00,  2.77it/s]\n",
      "100%|██████████| 240/240 [01:25<00:00,  2.81it/s]\n",
      "100%|██████████| 240/240 [01:25<00:00,  2.81it/s]\n",
      "100%|██████████| 240/240 [01:28<00:00,  2.70it/s]\n",
      "100%|██████████| 240/240 [01:26<00:00,  2.79it/s]\n",
      "100%|██████████| 240/240 [01:28<00:00,  2.72it/s]\n",
      "100%|██████████| 240/240 [01:27<00:00,  2.74it/s]\n",
      "100%|██████████| 240/240 [01:26<00:00,  2.79it/s]\n",
      "100%|██████████| 240/240 [01:28<00:00,  2.72it/s]\n",
      "100%|██████████| 240/240 [01:26<00:00,  2.77it/s]\n",
      "100%|██████████| 240/240 [01:31<00:00,  2.63it/s]\n",
      "100%|██████████| 240/240 [01:29<00:00,  2.68it/s]\n",
      "100%|██████████| 240/240 [01:42<00:00,  2.34it/s]\n",
      "100%|██████████| 240/240 [01:27<00:00,  2.76it/s]\n",
      "100%|██████████| 240/240 [01:26<00:00,  2.79it/s]\n",
      "100%|██████████| 204/204 [01:15<00:00,  2.72it/s]\n",
      "100%|██████████| 240/240 [01:40<00:00,  2.40it/s]\n",
      "100%|██████████| 192/192 [01:13<00:00,  2.63it/s]\n",
      "100%|██████████| 240/240 [01:27<00:00,  2.75it/s]\n",
      "100%|██████████| 240/240 [01:30<00:00,  2.65it/s]\n",
      "100%|██████████| 12/12 [00:03<00:00,  3.32it/s]\n",
      "100%|██████████| 240/240 [01:28<00:00,  2.71it/s]\n",
      "100%|██████████| 240/240 [01:45<00:00,  2.27it/s]\n",
      "100%|██████████| 240/240 [01:51<00:00,  2.16it/s]\n",
      "100%|██████████| 240/240 [01:27<00:00,  2.74it/s]\n",
      "100%|██████████| 240/240 [01:55<00:00,  2.08it/s]\n",
      "100%|██████████| 240/240 [01:31<00:00,  2.62it/s]\n",
      "100%|██████████| 240/240 [01:30<00:00,  2.66it/s]\n",
      "100%|██████████| 240/240 [01:26<00:00,  2.77it/s]\n",
      "100%|██████████| 240/240 [01:27<00:00,  2.74it/s]\n",
      "100%|██████████| 240/240 [01:28<00:00,  2.71it/s]\n",
      "100%|██████████| 240/240 [01:53<00:00,  2.12it/s]\n",
      "100%|██████████| 240/240 [01:28<00:00,  2.70it/s]\n",
      "100%|██████████| 240/240 [01:31<00:00,  2.63it/s]\n",
      "100%|██████████| 24/24 [00:08<00:00,  2.85it/s]\n",
      "100%|██████████| 96/96 [00:42<00:00,  2.26it/s]\n",
      "100%|██████████| 84/84 [00:32<00:00,  2.57it/s]\n",
      "100%|██████████| 168/168 [01:00<00:00,  2.79it/s]\n",
      "100%|██████████| 24/24 [00:08<00:00,  3.00it/s]\n",
      "100%|██████████| 108/108 [00:45<00:00,  2.39it/s]\n",
      "100%|██████████| 24/24 [00:08<00:00,  2.96it/s]\n",
      "100%|██████████| 168/168 [01:06<00:00,  2.51it/s]\n",
      "100%|██████████| 168/168 [01:06<00:00,  2.52it/s]\n",
      "100%|██████████| 168/168 [01:00<00:00,  2.76it/s]\n",
      "100%|██████████| 168/168 [01:07<00:00,  2.51it/s]\n",
      "100%|██████████| 168/168 [01:21<00:00,  2.07it/s]\n",
      "100%|██████████| 168/168 [01:05<00:00,  2.55it/s]\n",
      "100%|██████████| 36/36 [00:14<00:00,  2.50it/s]\n",
      "100%|██████████| 240/240 [01:26<00:00,  2.76it/s]\n",
      "100%|██████████| 240/240 [01:30<00:00,  2.65it/s]\n",
      "100%|██████████| 240/240 [01:27<00:00,  2.75it/s]\n",
      "100%|██████████| 252/252 [01:29<00:00,  2.81it/s]\n",
      "100%|██████████| 12/12 [00:04<00:00,  2.71it/s]\n",
      "100%|██████████| 252/252 [01:31<00:00,  2.76it/s]\n",
      "100%|██████████| 240/240 [01:29<00:00,  2.67it/s]\n",
      "100%|██████████| 108/108 [00:47<00:00,  2.27it/s]\n",
      "100%|██████████| 108/108 [00:42<00:00,  2.52it/s]\n",
      "100%|██████████| 36/36 [00:12<00:00,  2.81it/s]\n",
      "100%|██████████| 72/72 [00:34<00:00,  2.10it/s]\n",
      "100%|██████████| 72/72 [00:32<00:00,  2.22it/s]\n",
      "100%|██████████| 72/72 [00:32<00:00,  2.19it/s]\n",
      "100%|██████████| 156/156 [01:13<00:00,  2.11it/s]\n",
      "100%|██████████| 120/120 [00:56<00:00,  2.11it/s]\n",
      "100%|██████████| 240/240 [01:28<00:00,  2.70it/s]\n",
      "100%|██████████| 240/240 [01:34<00:00,  2.55it/s]\n",
      "100%|██████████| 144/144 [01:10<00:00,  2.06it/s]\n"
     ]
    }
   ],
   "source": [
    "errors = []\n",
    "os.makedirs(dam_outdir)\n",
    "\n",
    "for idx, period in periods.items():\n",
    "    try:\n",
    "        data = [get_dam_data(idx, start, end) for (start, end) in tqdm(period)]\n",
    "        data = pd.concat(data)\n",
    "        data[\"timestamp\"]=parse_timestamp(data)\n",
    "        data.to_pickle(pj(dam_data_folder, str(idx)))\n",
    "    except Exception as e:\n",
    "        print(f\"Error {e} happening for {idx}\")\n",
    "        errors.append(idx)"
   ]
  },
  {
   "cell_type": "code",
   "execution_count": null,
   "id": "d2e612ce-d48d-415f-a8bd-99b4e41503a4",
   "metadata": {},
   "outputs": [],
   "source": [
    "print(len(errors))"
   ]
  },
  {
   "cell_type": "markdown",
   "id": "2586c10d-55f3-4909-b020-3bfde37a7956",
   "metadata": {},
   "source": [
    "# 2. Scrap rain data"
   ]
  },
  {
   "cell_type": "code",
   "execution_count": null,
   "id": "dfbca43e-42b2-4a0f-aa85-c65b0e213678",
   "metadata": {},
   "outputs": [],
   "source": [
    "measure = \"rain\""
   ]
  },
  {
   "cell_type": "markdown",
   "id": "2a9ee0f5-d5a0-4adf-b116-91b57611c6e9",
   "metadata": {},
   "source": [
    "#### Step 1: Get rain gauge info"
   ]
  },
  {
   "cell_type": "code",
   "execution_count": 28,
   "id": "615c98b5-3c36-4d9a-8f52-8d0fa87b6d15",
   "metadata": {},
   "outputs": [],
   "source": [
    "#Page 55 can not be downloaded, so we have to manually extract these idx:\n",
    "idxs = [102081282211030, 102081282211040,102081282211050,102081282211060,102081282211070,\n",
    "        102081282211080,102081282211090,102081282211100,102081282211110,102081282211120]\n",
    "for page_idx in tqdm(list(range(55)) + list(range(56,n_pages[measure]))):\n",
    "    page = get_listing_page(page_idx, measure=measure)\n",
    "    idxs += parse_idx(page)\n",
    "len(idxs)\n",
    "\n",
    "# Error processing 2107-2110 and 2566\n",
    "for idx in tqdmidxs[:2106]+ idxs[2111:2765]+idxs[2767:]:#\n",
    "    html = get_detail_page(idx)\n",
    "    detail = parse_details(html)\n",
    "    if detail[\"緯度経度\"]==detail[\"緯度経度\"]:\n",
    "        detail[\"coordinates\"]=parse_loc(detail[\"緯度経度\"])\n",
    "        details[idx] = detail\n",
    "        \n",
    "with open(detail_path, \"wb\") as f:\n",
    "    pickle.dump(details, f)"
   ]
  },
  {
   "cell_type": "markdown",
   "id": "8101cd91-6967-4268-800a-7084c343f339",
   "metadata": {},
   "source": [
    "#### Step 2: Get availability"
   ]
  },
  {
   "cell_type": "code",
   "execution_count": 89,
   "id": "63c48e50-8f2a-4c0b-a6f2-195bfb92731b",
   "metadata": {
    "collapsed": true,
    "jupyter": {
     "outputs_hidden": true
    },
    "tags": []
   },
   "outputs": [
    {
     "name": "stderr",
     "output_type": "stream",
     "text": [
      "  1%|          | 17/2767 [00:02<04:18, 10.62it/s]"
     ]
    },
    {
     "name": "stdout",
     "output_type": "stream",
     "text": [
      "101011281104170 has no available data\n"
     ]
    },
    {
     "name": "stderr",
     "output_type": "stream",
     "text": [
      "  9%|▊         | 237/2767 [00:28<04:08, 10.17it/s]"
     ]
    },
    {
     "name": "stdout",
     "output_type": "stream",
     "text": [
      "101071281105170 has no available data\n"
     ]
    },
    {
     "name": "stderr",
     "output_type": "stream",
     "text": [
      " 24%|██▍       | 664/2767 [01:21<03:05, 11.32it/s]"
     ]
    },
    {
     "name": "stdout",
     "output_type": "stream",
     "text": [
      "102111282221100 has no available data\n"
     ]
    },
    {
     "name": "stderr",
     "output_type": "stream",
     "text": [
      " 28%|██▊       | 785/2767 [01:36<03:17, 10.04it/s]"
     ]
    },
    {
     "name": "stdout",
     "output_type": "stream",
     "text": [
      "103031283307090 has no available data\n"
     ]
    },
    {
     "name": "stderr",
     "output_type": "stream",
     "text": [
      " 45%|████▍     | 1242/2767 [02:31<00:41, 36.83it/s]"
     ]
    },
    {
     "name": "stdout",
     "output_type": "stream",
     "text": [
      "1041110624110 has no available data\n",
      "1041110624120 has no available data\n",
      "1041110724100 has no available data\n",
      "1041110724170 has no available data\n",
      "1041110724180 has no available data\n",
      "1041110829370 has no available data\n",
      "1041110829380 has no available data\n",
      "1041110829590 has no available data\n",
      "1041110829650 has no available data\n",
      "1041110829680 has no available data\n"
     ]
    },
    {
     "name": "stderr",
     "output_type": "stream",
     "text": [
      " 50%|████▉     | 1371/2767 [02:47<02:05, 11.11it/s]"
     ]
    },
    {
     "name": "stdout",
     "output_type": "stream",
     "text": [
      "105051285516330 has no available data\n"
     ]
    },
    {
     "name": "stderr",
     "output_type": "stream",
     "text": [
      " 51%|█████     | 1400/2767 [02:50<02:14, 10.14it/s]"
     ]
    },
    {
     "name": "stdout",
     "output_type": "stream",
     "text": [
      "105061285512230 has no available data\n"
     ]
    },
    {
     "name": "stderr",
     "output_type": "stream",
     "text": [
      " 54%|█████▍    | 1500/2767 [03:02<01:56, 10.86it/s]"
     ]
    },
    {
     "name": "stdout",
     "output_type": "stream",
     "text": [
      "105091285506010 has no available data\n"
     ]
    },
    {
     "name": "stderr",
     "output_type": "stream",
     "text": [
      " 54%|█████▍    | 1502/2767 [03:02<01:38, 12.78it/s]"
     ]
    },
    {
     "name": "stdout",
     "output_type": "stream",
     "text": [
      "105091285506020 has no available data\n"
     ]
    },
    {
     "name": "stderr",
     "output_type": "stream",
     "text": [
      " 54%|█████▍    | 1506/2767 [03:03<01:35, 13.22it/s]"
     ]
    },
    {
     "name": "stdout",
     "output_type": "stream",
     "text": [
      "105091285506030 has no available data\n"
     ]
    },
    {
     "name": "stderr",
     "output_type": "stream",
     "text": [
      " 54%|█████▍    | 1508/2767 [03:03<01:25, 14.65it/s]"
     ]
    },
    {
     "name": "stdout",
     "output_type": "stream",
     "text": [
      "105091285506040 has no available data\n"
     ]
    },
    {
     "name": "stderr",
     "output_type": "stream",
     "text": [
      " 55%|█████▍    | 1512/2767 [03:03<01:36, 13.02it/s]"
     ]
    },
    {
     "name": "stdout",
     "output_type": "stream",
     "text": [
      "105091285506051 has no available data\n",
      "105091285506070 has no available data\n"
     ]
    },
    {
     "name": "stderr",
     "output_type": "stream",
     "text": [
      " 55%|█████▌    | 1533/2767 [03:05<01:47, 11.47it/s]"
     ]
    },
    {
     "name": "stdout",
     "output_type": "stream",
     "text": [
      "105091285519130 has no available data\n"
     ]
    },
    {
     "name": "stderr",
     "output_type": "stream",
     "text": [
      " 56%|█████▋    | 1559/2767 [03:08<01:47, 11.28it/s]"
     ]
    },
    {
     "name": "stdout",
     "output_type": "stream",
     "text": [
      "105121285514200 has no available data\n"
     ]
    },
    {
     "name": "stderr",
     "output_type": "stream",
     "text": [
      " 57%|█████▋    | 1591/2767 [03:11<01:12, 16.23it/s]"
     ]
    },
    {
     "name": "stdout",
     "output_type": "stream",
     "text": [
      "106011286622080 has no available data\n",
      "106011286622090 has no available data\n",
      "106011286622100 has no available data\n"
     ]
    },
    {
     "name": "stderr",
     "output_type": "stream",
     "text": [
      " 60%|██████    | 1674/2767 [03:21<01:36, 11.34it/s]"
     ]
    },
    {
     "name": "stdout",
     "output_type": "stream",
     "text": [
      "106041286603250 has no available data\n"
     ]
    },
    {
     "name": "stderr",
     "output_type": "stream",
     "text": [
      " 61%|██████    | 1678/2767 [03:22<01:32, 11.81it/s]"
     ]
    },
    {
     "name": "stdout",
     "output_type": "stream",
     "text": [
      "106041286603300 has no available data\n"
     ]
    },
    {
     "name": "stderr",
     "output_type": "stream",
     "text": [
      " 61%|██████▏   | 1700/2767 [03:24<01:40, 10.65it/s]"
     ]
    },
    {
     "name": "stdout",
     "output_type": "stream",
     "text": [
      "106041286606160 has no available data\n"
     ]
    },
    {
     "name": "stderr",
     "output_type": "stream",
     "text": [
      " 62%|██████▏   | 1706/2767 [03:25<01:40, 10.51it/s]"
     ]
    },
    {
     "name": "stdout",
     "output_type": "stream",
     "text": [
      "106041286606220 has no available data\n"
     ]
    },
    {
     "name": "stderr",
     "output_type": "stream",
     "text": [
      " 63%|██████▎   | 1756/2767 [03:31<01:15, 13.33it/s]"
     ]
    },
    {
     "name": "stdout",
     "output_type": "stream",
     "text": [
      "106041286617380 has no available data\n",
      "106041286617390 has no available data\n",
      "106041286617521 has no available data\n"
     ]
    },
    {
     "name": "stderr",
     "output_type": "stream",
     "text": [
      " 78%|███████▊  | 2159/2767 [04:20<00:53, 11.32it/s]"
     ]
    },
    {
     "name": "stdout",
     "output_type": "stream",
     "text": [
      "108011288805903 has no available data\n"
     ]
    },
    {
     "name": "stderr",
     "output_type": "stream",
     "text": [
      " 80%|████████  | 2220/2767 [04:26<00:37, 14.52it/s]"
     ]
    },
    {
     "name": "stdout",
     "output_type": "stream",
     "text": [
      "108031288809911 has no available data\n",
      "108031288809912 has no available data\n"
     ]
    },
    {
     "name": "stderr",
     "output_type": "stream",
     "text": [
      " 81%|████████  | 2247/2767 [04:29<00:32, 15.93it/s]"
     ]
    },
    {
     "name": "stdout",
     "output_type": "stream",
     "text": [
      "108041288808200 has no available data\n",
      "108041288808210 has no available data\n",
      "108041288808220 has no available data\n"
     ]
    },
    {
     "name": "stderr",
     "output_type": "stream",
     "text": [
      " 85%|████████▌ | 2353/2767 [04:42<00:26, 15.63it/s]"
     ]
    },
    {
     "name": "stdout",
     "output_type": "stream",
     "text": [
      "108081288804010 has no available data\n",
      "108081288804011 has no available data\n",
      "108081288804012 has no available data\n"
     ]
    },
    {
     "name": "stderr",
     "output_type": "stream",
     "text": [
      " 96%|█████████▋| 2669/2767 [05:25<00:09, 10.42it/s]"
     ]
    },
    {
     "name": "stdout",
     "output_type": "stream",
     "text": [
      "1361130130110 has no available data\n"
     ]
    },
    {
     "name": "stderr",
     "output_type": "stream",
     "text": [
      " 97%|█████████▋| 2693/2767 [05:28<00:07, 10.49it/s]"
     ]
    },
    {
     "name": "stdout",
     "output_type": "stream",
     "text": [
      "1361130478050 has no available data\n"
     ]
    },
    {
     "name": "stderr",
     "output_type": "stream",
     "text": [
      " 98%|█████████▊| 2700/2767 [05:28<00:06, 10.91it/s]"
     ]
    },
    {
     "name": "stdout",
     "output_type": "stream",
     "text": [
      "1361150931780 has no available data\n",
      "1361150931990 has no available data\n"
     ]
    },
    {
     "name": "stderr",
     "output_type": "stream",
     "text": [
      " 99%|█████████▊| 2728/2767 [05:32<00:03, 11.37it/s]"
     ]
    },
    {
     "name": "stdout",
     "output_type": "stream",
     "text": [
      "1361160473380 has no available data\n"
     ]
    },
    {
     "name": "stderr",
     "output_type": "stream",
     "text": [
      " 99%|█████████▉| 2738/2767 [05:32<00:02, 13.15it/s]"
     ]
    },
    {
     "name": "stdout",
     "output_type": "stream",
     "text": [
      "1361160935050 has no available data\n",
      "1361160935090 has no available data\n",
      "1361180361040 has no available data\n"
     ]
    },
    {
     "name": "stderr",
     "output_type": "stream",
     "text": [
      " 99%|█████████▉| 2740/2767 [05:32<00:01, 14.08it/s]"
     ]
    },
    {
     "name": "stdout",
     "output_type": "stream",
     "text": [
      "1361180730340 has no available data\n",
      "1361180730360 has no available data\n",
      "1361180730380 has no available data\n",
      "1361180730400 has no available data\n",
      "1361180775130 has no available data\n"
     ]
    },
    {
     "name": "stderr",
     "output_type": "stream",
     "text": [
      " 99%|█████████▉| 2753/2767 [05:33<00:00, 19.66it/s]"
     ]
    },
    {
     "name": "stdout",
     "output_type": "stream",
     "text": [
      "1361191465021 has no available data\n",
      "1361191465061 has no available data\n",
      "1361191465070 has no available data\n",
      "1361191565041 has no available data\n",
      "2041110332690 has no available data\n"
     ]
    },
    {
     "name": "stderr",
     "output_type": "stream",
     "text": [
      "100%|██████████| 2767/2767 [05:35<00:00,  8.25it/s]\n"
     ]
    },
    {
     "data": {
      "text/plain": [
       "2706"
      ]
     },
     "execution_count": 89,
     "metadata": {},
     "output_type": "execute_result"
    }
   ],
   "source": [
    "periods = {}\n",
    "for k, v in tqdm(details.items()):\n",
    "    if 1 in v[\"info\"]:\n",
    "        v=get_rain_availability(k)\n",
    "        v=parse_availability(v)\n",
    "        periods[k]=v\n",
    "    else:\n",
    "        print(f\"{k} has no available data\")\n",
    "len(periods)"
   ]
  },
  {
   "cell_type": "markdown",
   "id": "798be8c6-6b65-4cd2-b2fa-1c6b21e432b2",
   "metadata": {},
   "source": [
    "#### Step 3: Download all data"
   ]
  },
  {
   "cell_type": "code",
   "execution_count": null,
   "id": "a3983b27-85c2-4673-8243-163ff97e3983",
   "metadata": {
    "tags": []
   },
   "outputs": [],
   "source": [
    "os.makedirs(outdir)\n",
    "errors = []\n",
    "for idx, period in periods.items():\n",
    "    try:\n",
    "        data = [get_rain_data(idx, start, end) for (start, end) in tqdm(period)]\n",
    "        data = pd.concat(data)\n",
    "        data[\"timestamp\"]=parse_timestamp(data)\n",
    "        data.to_pickle(pj(outdir, str(idx)))\n",
    "    except Exception as e:\n",
    "        print(e)\n",
    "        print(f\"Error {e} happening with {idx}\")\n",
    "        errors.append(idx)"
   ]
  },
  {
   "cell_type": "markdown",
   "id": "359f01da-0790-47b1-b74d-1e8f63c55db2",
   "metadata": {},
   "source": [
    "# 3. Discharge data"
   ]
  },
  {
   "cell_type": "code",
   "execution_count": null,
   "id": "b6f82c52-5b4c-4f0b-aba0-24360ed80b2e",
   "metadata": {},
   "outputs": [],
   "source": [
    "measure = \"gauge\""
   ]
  },
  {
   "cell_type": "markdown",
   "id": "f986d916-5c4c-4bca-8765-f632d80f4b6c",
   "metadata": {},
   "source": [
    "#### Step 1: Get dicharge data"
   ]
  },
  {
   "cell_type": "code",
   "execution_count": 7,
   "id": "81d17def-5258-4963-9a8e-a243deac5b4a",
   "metadata": {},
   "outputs": [
    {
     "name": "stderr",
     "output_type": "stream",
     "text": [
      "100%|██████████| 220/220 [02:14<00:00,  1.63it/s]\n"
     ]
    }
   ],
   "source": [
    "idxs = []\n",
    "for page_idx in tqdm(range(n_pages[measure])):\n",
    "    page = get_listing_page(page_idx, measure=measure)\n",
    "    idxs += parse_idx(page)\n",
    "    \n",
    "details = {}\n",
    "for idx in tqdm(idxs):\n",
    "    html = get_detail_page(idx)\n",
    "    details[idx] = parse_details(html)\n",
    "    \n",
    "with open(detail_path, \"wb\") as f:\n",
    "    pickle.dump(details, f)"
   ]
  },
  {
   "cell_type": "markdown",
   "id": "2a727db9-7093-4495-84fd-dae8dacc0a8a",
   "metadata": {},
   "source": [
    "#### Step 2: Availability"
   ]
  },
  {
   "cell_type": "code",
   "execution_count": 14,
   "id": "2f95274c-2a6d-4b20-863f-8ef99de3d4d9",
   "metadata": {
    "collapsed": true,
    "jupyter": {
     "outputs_hidden": true
    },
    "tags": []
   },
   "outputs": [
    {
     "name": "stderr",
     "output_type": "stream",
     "text": [
      "  0%|          | 9/2121 [00:00<01:02, 33.89it/s]"
     ]
    },
    {
     "name": "stdout",
     "output_type": "stream",
     "text": [
      "1042110624080 has no available data\n",
      "1042110624090 has no available data\n",
      "1042110724060 has no available data\n",
      "1042110724070 has no available data\n",
      "1042110931140 has no available data\n",
      "1042110931910 has no available data\n"
     ]
    },
    {
     "name": "stderr",
     "output_type": "stream",
     "text": [
      "  3%|▎         | 58/2121 [00:05<02:54, 11.81it/s]"
     ]
    },
    {
     "name": "stdout",
     "output_type": "stream",
     "text": [
      "1362140331010 has no available data\n"
     ]
    },
    {
     "name": "stderr",
     "output_type": "stream",
     "text": [
      "  3%|▎         | 60/2121 [00:06<03:10, 10.79it/s]"
     ]
    },
    {
     "name": "stdout",
     "output_type": "stream",
     "text": [
      "1362160341290 has no available data\n",
      "1362160341300 has no available data\n",
      "1362160341320 has no available data\n"
     ]
    },
    {
     "name": "stderr",
     "output_type": "stream",
     "text": [
      "  4%|▎         | 75/2121 [00:07<02:52, 11.89it/s]"
     ]
    },
    {
     "name": "stdout",
     "output_type": "stream",
     "text": [
      "1362160700010 has no available data\n"
     ]
    },
    {
     "name": "stderr",
     "output_type": "stream",
     "text": [
      " 21%|██        | 441/2121 [00:53<02:30, 11.16it/s]"
     ]
    },
    {
     "name": "stdout",
     "output_type": "stream",
     "text": [
      "302021282206040 has no available data\n"
     ]
    },
    {
     "name": "stderr",
     "output_type": "stream",
     "text": [
      " 21%|██        | 445/2121 [00:53<02:15, 12.39it/s]"
     ]
    },
    {
     "name": "stdout",
     "output_type": "stream",
     "text": [
      "302021282206990 has no available data\n"
     ]
    },
    {
     "name": "stderr",
     "output_type": "stream",
     "text": [
      " 26%|██▌       | 555/2121 [01:06<02:24, 10.86it/s]"
     ]
    },
    {
     "name": "stdout",
     "output_type": "stream",
     "text": [
      "30204128222030 has no available data\n"
     ]
    },
    {
     "name": "stderr",
     "output_type": "stream",
     "text": [
      " 27%|██▋       | 576/2121 [01:08<01:39, 15.46it/s]"
     ]
    },
    {
     "name": "stdout",
     "output_type": "stream",
     "text": [
      "302051282201960 has no available data\n",
      "302051282201970 has no available data\n",
      "302051282201980 has no available data\n"
     ]
    },
    {
     "name": "stderr",
     "output_type": "stream",
     "text": [
      " 29%|██▊       | 609/2121 [01:11<00:58, 25.94it/s]"
     ]
    },
    {
     "name": "stdout",
     "output_type": "stream",
     "text": [
      "302071282201920 has no available data\n",
      "302071282201930 has no available data\n",
      "302071282201940 has no available data\n",
      "302071282201950 has no available data\n",
      "302071282201960 has no available data\n",
      "302071282201970 has no available data\n",
      "302071282201980 has no available data\n",
      "302071282201990 has no available data\n"
     ]
    },
    {
     "name": "stderr",
     "output_type": "stream",
     "text": [
      " 31%|███       | 651/2121 [01:16<02:06, 11.61it/s]"
     ]
    },
    {
     "name": "stdout",
     "output_type": "stream",
     "text": [
      "302091282210910 has no available data\n"
     ]
    },
    {
     "name": "stderr",
     "output_type": "stream",
     "text": [
      " 34%|███▍      | 728/2121 [01:26<02:10, 10.68it/s]"
     ]
    },
    {
     "name": "stdout",
     "output_type": "stream",
     "text": [
      "302111282221080 has no available data\n"
     ]
    },
    {
     "name": "stderr",
     "output_type": "stream",
     "text": [
      " 54%|█████▍    | 1146/2121 [02:18<01:23, 11.66it/s]"
     ]
    },
    {
     "name": "stdout",
     "output_type": "stream",
     "text": [
      "305031285523030 has no available data\n"
     ]
    },
    {
     "name": "stderr",
     "output_type": "stream",
     "text": [
      " 63%|██████▎   | 1327/2121 [02:38<01:09, 11.51it/s]"
     ]
    },
    {
     "name": "stdout",
     "output_type": "stream",
     "text": [
      "306011286622030 has no available data\n"
     ]
    },
    {
     "name": "stderr",
     "output_type": "stream",
     "text": [
      " 63%|██████▎   | 1329/2121 [02:38<01:00, 13.04it/s]"
     ]
    },
    {
     "name": "stdout",
     "output_type": "stream",
     "text": [
      "306011286622060 has no available data\n"
     ]
    },
    {
     "name": "stderr",
     "output_type": "stream",
     "text": [
      " 63%|██████▎   | 1333/2121 [02:39<01:02, 12.52it/s]"
     ]
    },
    {
     "name": "stdout",
     "output_type": "stream",
     "text": [
      "306021286614035 has no available data\n"
     ]
    },
    {
     "name": "stderr",
     "output_type": "stream",
     "text": [
      " 65%|██████▍   | 1377/2121 [02:44<01:07, 11.07it/s]"
     ]
    },
    {
     "name": "stdout",
     "output_type": "stream",
     "text": [
      "306041286603010 has no available data\n"
     ]
    },
    {
     "name": "stderr",
     "output_type": "stream",
     "text": [
      " 66%|██████▌   | 1393/2121 [02:45<00:54, 13.28it/s]"
     ]
    },
    {
     "name": "stdout",
     "output_type": "stream",
     "text": [
      "306041286603160 has no available data\n",
      "306041286603170 has no available data\n"
     ]
    },
    {
     "name": "stderr",
     "output_type": "stream",
     "text": [
      " 66%|██████▌   | 1403/2121 [02:46<00:32, 22.30it/s]"
     ]
    },
    {
     "name": "stdout",
     "output_type": "stream",
     "text": [
      "306041286603220 has no available data\n",
      "306041286603230 has no available data\n",
      "306041286603240 has no available data\n",
      "306041286603250 has no available data\n",
      "306041286603260 has no available data\n",
      "306041286603270 has no available data\n"
     ]
    },
    {
     "name": "stderr",
     "output_type": "stream",
     "text": [
      " 68%|██████▊   | 1442/2121 [02:50<01:05, 10.34it/s]"
     ]
    },
    {
     "name": "stdout",
     "output_type": "stream",
     "text": [
      "306041286608035 has no available data\n"
     ]
    },
    {
     "name": "stderr",
     "output_type": "stream",
     "text": [
      " 69%|██████▉   | 1459/2121 [02:52<01:01, 10.83it/s]"
     ]
    },
    {
     "name": "stdout",
     "output_type": "stream",
     "text": [
      "306041286617050 has no available data\n"
     ]
    },
    {
     "name": "stderr",
     "output_type": "stream",
     "text": [
      " 69%|██████▉   | 1461/2121 [02:52<00:55, 11.99it/s]"
     ]
    },
    {
     "name": "stdout",
     "output_type": "stream",
     "text": [
      "306041286617080 has no available data\n"
     ]
    },
    {
     "name": "stderr",
     "output_type": "stream",
     "text": [
      " 69%|██████▉   | 1472/2121 [02:53<00:49, 13.00it/s]"
     ]
    },
    {
     "name": "stdout",
     "output_type": "stream",
     "text": [
      "306041286617180 has no available data\n",
      "306041286617260 has no available data\n"
     ]
    },
    {
     "name": "stderr",
     "output_type": "stream",
     "text": [
      " 70%|███████   | 1490/2121 [02:55<00:55, 11.40it/s]"
     ]
    },
    {
     "name": "stdout",
     "output_type": "stream",
     "text": [
      "306051286611140 has no available data\n"
     ]
    },
    {
     "name": "stderr",
     "output_type": "stream",
     "text": [
      " 73%|███████▎  | 1545/2121 [03:02<00:39, 14.40it/s]"
     ]
    },
    {
     "name": "stdout",
     "output_type": "stream",
     "text": [
      "306091286605210 has no available data\n",
      "306091286605220 has no available data\n",
      "306091286605230 has no available data\n",
      "306091286605250 has no available data\n",
      "306091286605260 has no available data\n",
      "306091286605270 has no available data\n",
      "306091286605280 has no available data\n"
     ]
    },
    {
     "name": "stderr",
     "output_type": "stream",
     "text": [
      " 84%|████████▎ | 1774/2121 [03:27<00:17, 19.50it/s]"
     ]
    },
    {
     "name": "stdout",
     "output_type": "stream",
     "text": [
      "308011288805903 has no available data\n",
      "308011288805904 has no available data\n",
      "308011288805905 has no available data\n",
      "308011288805906 has no available data\n",
      "308011288805907 has no available data\n"
     ]
    },
    {
     "name": "stderr",
     "output_type": "stream",
     "text": [
      " 87%|████████▋ | 1851/2121 [03:35<00:18, 14.29it/s]"
     ]
    },
    {
     "name": "stdout",
     "output_type": "stream",
     "text": [
      "308061288803102 has no available data\n",
      "308061288803103 has no available data\n"
     ]
    },
    {
     "name": "stderr",
     "output_type": "stream",
     "text": [
      " 89%|████████▉ | 1891/2121 [03:39<00:16, 13.80it/s]"
     ]
    },
    {
     "name": "stdout",
     "output_type": "stream",
     "text": [
      "308081288804009 has no available data\n",
      "308081288804010 has no available data\n"
     ]
    },
    {
     "name": "stderr",
     "output_type": "stream",
     "text": [
      "100%|██████████| 2121/2121 [04:07<00:00,  8.56it/s]\n"
     ]
    }
   ],
   "source": [
    "periods = {}\n",
    "for k, v in tqdm(details.items()):\n",
    "    if 1 in v[\"info\"]:\n",
    "        v=get_gauge_availability(k)\n",
    "        v=parse_availability(v)\n",
    "        periods[k]=v\n",
    "    else:\n",
    "        print(f\"{k} has no available data\")"
   ]
  },
  {
   "cell_type": "markdown",
   "id": "0c1ec847-0015-447c-aec9-23974cc707dd",
   "metadata": {},
   "source": [
    "#### Step 3: download"
   ]
  },
  {
   "cell_type": "code",
   "execution_count": null,
   "id": "638aa3c1-2a33-4fe9-b5ce-07889557c819",
   "metadata": {
    "tags": []
   },
   "outputs": [],
   "source": [
    "errors = []\n",
    "os.makedirs(outdir)\n",
    "\n",
    "for idx, period in tqdm(periods.items()):\n",
    "    try:\n",
    "        data = [get_gauge_data(idx, start, end) for (start, end) in period]\n",
    "        data = pd.concat(data)\n",
    "        data[\"timestamp\"]=parse_timestamp(data)\n",
    "        data.to_pickle(pj(outdir, str(idx)))\n",
    "    except Exception as e:\n",
    "        print(f\"Error {e} happening with {idx}\")\n",
    "        errors.append(idx)"
   ]
  },
  {
   "cell_type": "code",
   "execution_count": null,
   "id": "f04964e3-5447-4f7c-b1f4-657958f3a196",
   "metadata": {},
   "outputs": [],
   "source": [
    "print(len(errors))"
   ]
  },
  {
   "cell_type": "code",
   "execution_count": null,
   "id": "f680d141-70b8-4da5-a323-080f977f5e65",
   "metadata": {},
   "outputs": [],
   "source": []
  },
  {
   "cell_type": "markdown",
   "id": "84dfdb35-21cd-4b6e-a3b4-8b02a40f4194",
   "metadata": {},
   "source": [
    "# 4. Wikipedia meta data"
   ]
  },
  {
   "cell_type": "code",
   "execution_count": null,
   "id": "ffcce78b-d502-4849-9acf-cb3a18b4db24",
   "metadata": {},
   "outputs": [],
   "source": [
    "wikipedia_detail_path = f\"{ROOT}/wiki_details.pkl\""
   ]
  },
  {
   "cell_type": "code",
   "execution_count": 4,
   "id": "88431113-427c-44c5-9651-618a6fc64611",
   "metadata": {},
   "outputs": [],
   "source": [
    "with open(dam_detail_path, \"rb\") as f:\n",
    "    dams = pickle.load(f)\n",
    "    \n",
    "dam_names = {k:v[\"観測所名\"].split(\"（\")[0] for k,v in dams.items()}\n",
    "res = {k:query(v) for k,v in dam_names.items()}\n",
    "df = pd.DataFrame(res).T\n",
    "df[\"水力発電\"]=df[\"利用目的\"].apply(lambda x:any([\"発電\" in y for y in x]) if isinstance(x, list) else False)\n",
    "df[\"水力発電\"].mean()\n",
    "df.to_pickle(wikipedia_detail_path)"
   ]
  },
  {
   "cell_type": "code",
   "execution_count": null,
   "id": "7722cf63-f00c-4b88-bd04-0ac1c2eced35",
   "metadata": {},
   "outputs": [],
   "source": []
  },
  {
   "cell_type": "code",
   "execution_count": null,
   "id": "6a7d9d3c-bf04-409f-ba52-194e7a8b3684",
   "metadata": {},
   "outputs": [],
   "source": []
  },
  {
   "cell_type": "code",
   "execution_count": null,
   "id": "6bc50f06-0d10-4c2a-b86c-3ccbd8c50aa6",
   "metadata": {},
   "outputs": [],
   "source": []
  }
 ],
 "metadata": {
  "kernelspec": {
   "display_name": "Python 3",
   "language": "python",
   "name": "python3"
  },
  "language_info": {
   "codemirror_mode": {
    "name": "ipython",
    "version": 3
   },
   "file_extension": ".py",
   "mimetype": "text/x-python",
   "name": "python",
   "nbconvert_exporter": "python",
   "pygments_lexer": "ipython3",
   "version": "3.9.4"
  }
 },
 "nbformat": 4,
 "nbformat_minor": 5
}
