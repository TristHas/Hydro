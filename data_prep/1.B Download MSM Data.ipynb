{
 "cells": [
  {
   "cell_type": "code",
   "execution_count": 3,
   "id": "f8be57a0-aa77-4455-90e5-565ff5399a31",
   "metadata": {},
   "outputs": [],
   "source": [
    "from weather_helpers import generate_dates, download_weather\n",
    "from tqdm import tqdm\n",
    "from os.path import join as pj\n",
    "from config import msm_surf_path"
   ]
  },
  {
   "cell_type": "code",
   "execution_count": 4,
   "id": "6521ac17-aa18-43be-a03b-0d590f109f9e",
   "metadata": {},
   "outputs": [],
   "source": [
    "frm_year, frm_month, frm_day = 2010, 1, 1\n",
    "to_year, to_month, to_day = 2020,1,1"
   ]
  },
  {
   "cell_type": "code",
   "execution_count": 5,
   "id": "c395c458-0d45-429a-9be8-f7d50a6a4c39",
   "metadata": {},
   "outputs": [],
   "source": [
    "dates = generate_dates(frm_year, frm_month, frm_day,\n",
    "                       to_year, to_month, to_day)\n",
    "hours = ['00', '03', '06', '09', '12', '15', '18', '21']\n",
    "forecasts = [\"00-15\", \"16-33\", \"34-39\", \"40-51\"]"
   ]
  },
  {
   "cell_type": "code",
   "execution_count": 138,
   "id": "a5075b72-24e9-49e2-bc6a-86f1377f3f4c",
   "metadata": {},
   "outputs": [],
   "source": [
    "os.makedirs(outdir, exist_ok=True)\n",
    "status = []\n",
    "for (Y,M,D) in tqdm(dates):\n",
    "    for H in hours:\n",
    "        for F in forecasts:\n",
    "            weather = download_weather(Y,M,D,H,F)\n",
    "            if weather:\n",
    "                with open(pj(msm_surf_path, f\"{Y}_{M}_{D}_{H}_{F}.grib2\"), \"wb\") as f:\n",
    "                    f.write(X.content)\n",
    "                status.append((Y, M, D, H, F, True))\n",
    "            else:\n",
    "                status.append((Y, M, D, H, F, False))"
   ]
  },
  {
   "cell_type": "code",
   "execution_count": null,
   "id": "b03a2e23-380a-4851-9ba5-1afd4fe2ef2a",
   "metadata": {
    "tags": []
   },
   "outputs": [],
   "source": [
    "df = pd.DataFrame(status, columns=[\"Y\", \"M\", \"D\", \"H\", \"F\", \"status\"])\n",
    "df[\"status\"]=df[\"status\"]==200\n",
    "df.to_pickle(\"./data/weather_status\")"
   ]
  }
 ],
 "metadata": {
  "kernelspec": {
   "display_name": "Python 3",
   "language": "python",
   "name": "python3"
  },
  "language_info": {
   "codemirror_mode": {
    "name": "ipython",
    "version": 3
   },
   "file_extension": ".py",
   "mimetype": "text/x-python",
   "name": "python",
   "nbconvert_exporter": "python",
   "pygments_lexer": "ipython3",
   "version": "3.9.4"
  }
 },
 "nbformat": 4,
 "nbformat_minor": 5
}
