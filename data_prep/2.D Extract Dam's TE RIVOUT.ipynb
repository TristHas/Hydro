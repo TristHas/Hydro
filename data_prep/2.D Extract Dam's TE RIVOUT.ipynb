{
 "cells": [
  {
   "cell_type": "markdown",
   "id": "f1f4db69-15f3-422a-a831-27e925569469",
   "metadata": {},
   "source": [
    "### TODO: Is there a better mapping from pixel back to original catchment that can be done?"
   ]
  },
  {
   "cell_type": "code",
   "execution_count": 1,
   "id": "0dc1f5e0-4e2e-4f7e-b569-86a74ddc8e0d",
   "metadata": {},
   "outputs": [],
   "source": [
    "import datetime, pickle, sys, os, shutil\n",
    "from ftplib import FTP\n",
    "from tqdm import tqdm\n",
    "import xarray as xr\n",
    "import numpy as np\n",
    "import pandas as pd\n",
    "\n",
    "sys.path.append(\"./src/\")\n",
    "from dataio import load_dam_details\n",
    "from config import dam_rivout_hourly_path, dam_rivout_daily_path"
   ]
  },
  {
   "cell_type": "code",
   "execution_count": null,
   "id": "382893c5-c380-4a31-816a-8cfd76548c52",
   "metadata": {},
   "outputs": [],
   "source": [
    "def generate_dates(frm_year=2018, frm_month=9, frm_day=1,\n",
    "                   to_year=2021, to_month=9, to_day=16,\n",
    "                   delta=datetime.timedelta(hours=1)):\n",
    "    \"\"\"\n",
    "    \"\"\"\n",
    "    interval = 0\n",
    "    current_date = datetime.datetime(year=frm_year, month=frm_month, day=frm_day)\n",
    "    end_date = datetime.datetime(year=to_year, month=to_month, day=to_day)\n",
    "    date_list = []\n",
    "    while current_date < end_date:\n",
    "        current_date = current_date + delta\n",
    "        date_list.append(datetime_to_str(current_date))\n",
    "    return date_list\n",
    "\n",
    "def datetime_to_str(x):\n",
    "    \"\"\"\n",
    "    \"\"\"\n",
    "    x = [x.year, x.month, x.day, x.hour]\n",
    "    x = [str(y) for y in x]\n",
    "    return [\"0\"+y if len(y)==1 else y for y in x]"
   ]
  },
  {
   "cell_type": "code",
   "execution_count": 2,
   "id": "adeda363-b4bd-41b2-bb1f-3ab11ced2305",
   "metadata": {},
   "outputs": [],
   "source": [
    "dams = load_dam_details()[\"coordinates\"]\n",
    "(lat, lon), idx = np.array(dams.values.tolist()).T, dams.index\n",
    "variable = \"RIVOUT\""
   ]
  },
  {
   "cell_type": "code",
   "execution_count": null,
   "id": "c5ac8f3a-503d-444d-8bff-f64ca46e99c7",
   "metadata": {},
   "outputs": [],
   "source": []
  },
  {
   "cell_type": "markdown",
   "id": "3db20877-a3fe-4e5a-a1ee-a7d69e918445",
   "metadata": {},
   "source": [
    "### Daily"
   ]
  },
  {
   "cell_type": "code",
   "execution_count": 8,
   "id": "35dad1ec-b4de-49f4-b643-40ab61f76385",
   "metadata": {
    "collapsed": true,
    "jupyter": {
     "outputs_hidden": true
    },
    "tags": []
   },
   "outputs": [
    {
     "name": "stderr",
     "output_type": "stream",
     "text": [
      " 78%|███████▊  | 4186/5357 [24:28<06:51,  2.85it/s]"
     ]
    },
    {
     "name": "stdout",
     "output_type": "stream",
     "text": [
      "[Errno -51] NetCDF: Unknown file format: b'/media/tristan/Elements/Hydro/TE/TE-Japan/Daily/Download/RIVOUT/TE-JPN01M_MSM_H20180619_RIVOUT.nc'\n"
     ]
    },
    {
     "name": "stderr",
     "output_type": "stream",
     "text": [
      " 89%|████████▉ | 4785/5357 [27:57<03:18,  2.88it/s]"
     ]
    },
    {
     "name": "stdout",
     "output_type": "stream",
     "text": [
      "[Errno -51] NetCDF: Unknown file format: b'/media/tristan/Elements/Hydro/TE/TE-Japan/Daily/Download/RIVOUT/TE-JPN01M_MSM_H20200208_RIVOUT.nc'\n",
      "[Errno -51] NetCDF: Unknown file format: b'/media/tristan/Elements/Hydro/TE/TE-Japan/Daily/Download/RIVOUT/TE-JPN01M_MSM_H20200209_RIVOUT.nc'\n"
     ]
    },
    {
     "name": "stderr",
     "output_type": "stream",
     "text": [
      " 89%|████████▉ | 4790/5357 [27:58<02:35,  3.65it/s]"
     ]
    },
    {
     "name": "stdout",
     "output_type": "stream",
     "text": [
      "[Errno -51] NetCDF: Unknown file format: b'/media/tristan/Elements/Hydro/TE/TE-Japan/Daily/Download/RIVOUT/TE-JPN01M_MSM_H20200213_RIVOUT.nc'\n",
      "[Errno -51] NetCDF: Unknown file format: b'/media/tristan/Elements/Hydro/TE/TE-Japan/Daily/Download/RIVOUT/TE-JPN01M_MSM_H20200214_RIVOUT.nc'\n",
      "[Errno -51] NetCDF: Unknown file format: b'/media/tristan/Elements/Hydro/TE/TE-Japan/Daily/Download/RIVOUT/TE-JPN01M_MSM_H20200215_RIVOUT.nc'\n",
      "[Errno -51] NetCDF: Unknown file format: b'/media/tristan/Elements/Hydro/TE/TE-Japan/Daily/Download/RIVOUT/TE-JPN01M_MSM_H20200216_RIVOUT.nc'\n"
     ]
    },
    {
     "name": "stderr",
     "output_type": "stream",
     "text": [
      " 90%|████████▉ | 4803/5357 [28:01<02:55,  3.16it/s]"
     ]
    },
    {
     "name": "stdout",
     "output_type": "stream",
     "text": [
      "[Errno -51] NetCDF: Unknown file format: b'/media/tristan/Elements/Hydro/TE/TE-Japan/Daily/Download/RIVOUT/TE-JPN01M_MSM_H20200226_RIVOUT.nc'\n"
     ]
    },
    {
     "name": "stderr",
     "output_type": "stream",
     "text": [
      " 90%|████████▉ | 4806/5357 [28:01<02:30,  3.67it/s]"
     ]
    },
    {
     "name": "stdout",
     "output_type": "stream",
     "text": [
      "[Errno -51] NetCDF: Unknown file format: b'/media/tristan/Elements/Hydro/TE/TE-Japan/Daily/Download/RIVOUT/TE-JPN01M_MSM_H20200229_RIVOUT.nc'\n"
     ]
    },
    {
     "name": "stderr",
     "output_type": "stream",
     "text": [
      " 92%|█████████▏| 4919/5357 [28:41<02:32,  2.87it/s]"
     ]
    },
    {
     "name": "stdout",
     "output_type": "stream",
     "text": [
      "[Errno -51] NetCDF: Unknown file format: b'/media/tristan/Elements/Hydro/TE/TE-Japan/Daily/Download/RIVOUT/TE-JPN01M_MSM_H20200621_RIVOUT.nc'\n"
     ]
    },
    {
     "name": "stderr",
     "output_type": "stream",
     "text": [
      "100%|██████████| 5357/5357 [29:36<00:00,  3.02it/s]"
     ]
    },
    {
     "name": "stdout",
     "output_type": "stream",
     "text": [
      "[Errno -51] NetCDF: Unknown file format: b'/media/tristan/Elements/Hydro/TE/TE-Japan/Daily/Download/RIVOUT/TE-JPN01M_MSM_H20201129_RIVOUT.nc'\n",
      "[Errno -51] NetCDF: Unknown file format: b'/media/tristan/Elements/Hydro/TE/TE-Japan/Daily/Download/RIVOUT/TE-JPN01M_MSM_H20201130_RIVOUT.nc'\n",
      "[Errno -51] NetCDF: Unknown file format: b'/media/tristan/Elements/Hydro/TE/TE-Japan/Daily/Download/RIVOUT/TE-JPN01M_MSM_H20201201_RIVOUT.nc'\n",
      "[Errno -51] NetCDF: Unknown file format: b'/media/tristan/Elements/Hydro/TE/TE-Japan/Daily/Download/RIVOUT/TE-JPN01M_MSM_H20201202_RIVOUT.nc'\n",
      "[Errno -51] NetCDF: Unknown file format: b'/media/tristan/Elements/Hydro/TE/TE-Japan/Daily/Download/RIVOUT/TE-JPN01M_MSM_H20201203_RIVOUT.nc'\n",
      "[Errno -51] NetCDF: Unknown file format: b'/media/tristan/Elements/Hydro/TE/TE-Japan/Daily/Download/RIVOUT/TE-JPN01M_MSM_H20201204_RIVOUT.nc'\n",
      "[Errno -51] NetCDF: Unknown file format: b'/media/tristan/Elements/Hydro/TE/TE-Japan/Daily/Download/RIVOUT/TE-JPN01M_MSM_H20201205_RIVOUT.nc'\n",
      "[Errno -51] NetCDF: Unknown file format: b'/media/tristan/Elements/Hydro/TE/TE-Japan/Daily/Download/RIVOUT/TE-JPN01M_MSM_H20201206_RIVOUT.nc'\n",
      "[Errno -51] NetCDF: Unknown file format: b'/media/tristan/Elements/Hydro/TE/TE-Japan/Daily/Download/RIVOUT/TE-JPN01M_MSM_H20201207_RIVOUT.nc'\n",
      "[Errno -51] NetCDF: Unknown file format: b'/media/tristan/Elements/Hydro/TE/TE-Japan/Daily/Download/RIVOUT/TE-JPN01M_MSM_H20201208_RIVOUT.nc'\n",
      "[Errno -51] NetCDF: Unknown file format: b'/media/tristan/Elements/Hydro/TE/TE-Japan/Daily/Download/RIVOUT/TE-JPN01M_MSM_H20201209_RIVOUT.nc'\n",
      "[Errno -51] NetCDF: Unknown file format: b'/media/tristan/Elements/Hydro/TE/TE-Japan/Daily/Download/RIVOUT/TE-JPN01M_MSM_H20201210_RIVOUT.nc'\n",
      "[Errno -51] NetCDF: Unknown file format: b'/media/tristan/Elements/Hydro/TE/TE-Japan/Daily/Download/RIVOUT/TE-JPN01M_MSM_H20201211_RIVOUT.nc'\n",
      "[Errno -51] NetCDF: Unknown file format: b'/media/tristan/Elements/Hydro/TE/TE-Japan/Daily/Download/RIVOUT/TE-JPN01M_MSM_H20201212_RIVOUT.nc'\n",
      "[Errno -51] NetCDF: Unknown file format: b'/media/tristan/Elements/Hydro/TE/TE-Japan/Daily/Download/RIVOUT/TE-JPN01M_MSM_H20201213_RIVOUT.nc'\n",
      "[Errno -51] NetCDF: Unknown file format: b'/media/tristan/Elements/Hydro/TE/TE-Japan/Daily/Download/RIVOUT/TE-JPN01M_MSM_H20201214_RIVOUT.nc'\n",
      "[Errno -51] NetCDF: Unknown file format: b'/media/tristan/Elements/Hydro/TE/TE-Japan/Daily/Download/RIVOUT/TE-JPN01M_MSM_H20201215_RIVOUT.nc'\n",
      "[Errno -51] NetCDF: Unknown file format: b'/media/tristan/Elements/Hydro/TE/TE-Japan/Daily/Download/RIVOUT/TE-JPN01M_MSM_H20201216_RIVOUT.nc'\n",
      "[Errno -51] NetCDF: Unknown file format: b'/media/tristan/Elements/Hydro/TE/TE-Japan/Daily/Download/RIVOUT/TE-JPN01M_MSM_H20201217_RIVOUT.nc'\n",
      "[Errno -51] NetCDF: Unknown file format: b'/media/tristan/Elements/Hydro/TE/TE-Japan/Daily/Download/RIVOUT/TE-JPN01M_MSM_H20201218_RIVOUT.nc'\n",
      "[Errno -51] NetCDF: Unknown file format: b'/media/tristan/Elements/Hydro/TE/TE-Japan/Daily/Download/RIVOUT/TE-JPN01M_MSM_H20201219_RIVOUT.nc'\n",
      "[Errno -51] NetCDF: Unknown file format: b'/media/tristan/Elements/Hydro/TE/TE-Japan/Daily/Download/RIVOUT/TE-JPN01M_MSM_H20201220_RIVOUT.nc'\n",
      "[Errno -51] NetCDF: Unknown file format: b'/media/tristan/Elements/Hydro/TE/TE-Japan/Daily/Download/RIVOUT/TE-JPN01M_MSM_H20201221_RIVOUT.nc'\n",
      "[Errno -51] NetCDF: Unknown file format: b'/media/tristan/Elements/Hydro/TE/TE-Japan/Daily/Download/RIVOUT/TE-JPN01M_MSM_H20201222_RIVOUT.nc'\n",
      "[Errno -51] NetCDF: Unknown file format: b'/media/tristan/Elements/Hydro/TE/TE-Japan/Daily/Download/RIVOUT/TE-JPN01M_MSM_H20201223_RIVOUT.nc'\n",
      "[Errno -51] NetCDF: Unknown file format: b'/media/tristan/Elements/Hydro/TE/TE-Japan/Daily/Download/RIVOUT/TE-JPN01M_MSM_H20201224_RIVOUT.nc'\n",
      "[Errno -51] NetCDF: Unknown file format: b'/media/tristan/Elements/Hydro/TE/TE-Japan/Daily/Download/RIVOUT/TE-JPN01M_MSM_H20201225_RIVOUT.nc'\n",
      "[Errno -51] NetCDF: Unknown file format: b'/media/tristan/Elements/Hydro/TE/TE-Japan/Daily/Download/RIVOUT/TE-JPN01M_MSM_H20201226_RIVOUT.nc'\n",
      "[Errno -51] NetCDF: Unknown file format: b'/media/tristan/Elements/Hydro/TE/TE-Japan/Daily/Download/RIVOUT/TE-JPN01M_MSM_H20201227_RIVOUT.nc'\n",
      "[Errno -51] NetCDF: Unknown file format: b'/media/tristan/Elements/Hydro/TE/TE-Japan/Daily/Download/RIVOUT/TE-JPN01M_MSM_H20201228_RIVOUT.nc'\n",
      "[Errno -51] NetCDF: Unknown file format: b'/media/tristan/Elements/Hydro/TE/TE-Japan/Daily/Download/RIVOUT/TE-JPN01M_MSM_H20201229_RIVOUT.nc'\n",
      "[Errno -51] NetCDF: Unknown file format: b'/media/tristan/Elements/Hydro/TE/TE-Japan/Daily/Download/RIVOUT/TE-JPN01M_MSM_H20201230_RIVOUT.nc'\n",
      "[Errno -51] NetCDF: Unknown file format: b'/media/tristan/Elements/Hydro/TE/TE-Japan/Daily/Download/RIVOUT/TE-JPN01M_MSM_H20201231_RIVOUT.nc'\n",
      "[Errno -51] NetCDF: Unknown file format: b'/media/tristan/Elements/Hydro/TE/TE-Japan/Daily/Download/RIVOUT/TE-JPN01M_MSM_H20210101_RIVOUT.nc'\n",
      "[Errno -51] NetCDF: Unknown file format: b'/media/tristan/Elements/Hydro/TE/TE-Japan/Daily/Download/RIVOUT/TE-JPN01M_MSM_H20210102_RIVOUT.nc'\n",
      "[Errno -51] NetCDF: Unknown file format: b'/media/tristan/Elements/Hydro/TE/TE-Japan/Daily/Download/RIVOUT/TE-JPN01M_MSM_H20210103_RIVOUT.nc'\n",
      "[Errno -51] NetCDF: Unknown file format: b'/media/tristan/Elements/Hydro/TE/TE-Japan/Daily/Download/RIVOUT/TE-JPN01M_MSM_H20210104_RIVOUT.nc'\n",
      "[Errno -51] NetCDF: Unknown file format: b'/media/tristan/Elements/Hydro/TE/TE-Japan/Daily/Download/RIVOUT/TE-JPN01M_MSM_H20210105_RIVOUT.nc'\n",
      "[Errno -51] NetCDF: Unknown file format: b'/media/tristan/Elements/Hydro/TE/TE-Japan/Daily/Download/RIVOUT/TE-JPN01M_MSM_H20210106_RIVOUT.nc'\n",
      "[Errno -51] NetCDF: Unknown file format: b'/media/tristan/Elements/Hydro/TE/TE-Japan/Daily/Download/RIVOUT/TE-JPN01M_MSM_H20210107_RIVOUT.nc'\n",
      "[Errno -51] NetCDF: Unknown file format: b'/media/tristan/Elements/Hydro/TE/TE-Japan/Daily/Download/RIVOUT/TE-JPN01M_MSM_H20210108_RIVOUT.nc'\n",
      "[Errno -51] NetCDF: Unknown file format: b'/media/tristan/Elements/Hydro/TE/TE-Japan/Daily/Download/RIVOUT/TE-JPN01M_MSM_H20210109_RIVOUT.nc'\n",
      "[Errno -51] NetCDF: Unknown file format: b'/media/tristan/Elements/Hydro/TE/TE-Japan/Daily/Download/RIVOUT/TE-JPN01M_MSM_H20210110_RIVOUT.nc'\n",
      "[Errno -51] NetCDF: Unknown file format: b'/media/tristan/Elements/Hydro/TE/TE-Japan/Daily/Download/RIVOUT/TE-JPN01M_MSM_H20210111_RIVOUT.nc'\n",
      "[Errno -51] NetCDF: Unknown file format: b'/media/tristan/Elements/Hydro/TE/TE-Japan/Daily/Download/RIVOUT/TE-JPN01M_MSM_H20210112_RIVOUT.nc'\n",
      "[Errno -51] NetCDF: Unknown file format: b'/media/tristan/Elements/Hydro/TE/TE-Japan/Daily/Download/RIVOUT/TE-JPN01M_MSM_H20210113_RIVOUT.nc'\n",
      "[Errno -51] NetCDF: Unknown file format: b'/media/tristan/Elements/Hydro/TE/TE-Japan/Daily/Download/RIVOUT/TE-JPN01M_MSM_H20210114_RIVOUT.nc'\n",
      "[Errno -51] NetCDF: Unknown file format: b'/media/tristan/Elements/Hydro/TE/TE-Japan/Daily/Download/RIVOUT/TE-JPN01M_MSM_H20210115_RIVOUT.nc'\n",
      "[Errno -51] NetCDF: Unknown file format: b'/media/tristan/Elements/Hydro/TE/TE-Japan/Daily/Download/RIVOUT/TE-JPN01M_MSM_H20210116_RIVOUT.nc'\n",
      "[Errno -51] NetCDF: Unknown file format: b'/media/tristan/Elements/Hydro/TE/TE-Japan/Daily/Download/RIVOUT/TE-JPN01M_MSM_H20210117_RIVOUT.nc'\n",
      "[Errno -51] NetCDF: Unknown file format: b'/media/tristan/Elements/Hydro/TE/TE-Japan/Daily/Download/RIVOUT/TE-JPN01M_MSM_H20210118_RIVOUT.nc'\n",
      "[Errno -51] NetCDF: Unknown file format: b'/media/tristan/Elements/Hydro/TE/TE-Japan/Daily/Download/RIVOUT/TE-JPN01M_MSM_H20210119_RIVOUT.nc'\n",
      "[Errno -51] NetCDF: Unknown file format: b'/media/tristan/Elements/Hydro/TE/TE-Japan/Daily/Download/RIVOUT/TE-JPN01M_MSM_H20210120_RIVOUT.nc'\n",
      "[Errno -51] NetCDF: Unknown file format: b'/media/tristan/Elements/Hydro/TE/TE-Japan/Daily/Download/RIVOUT/TE-JPN01M_MSM_H20210121_RIVOUT.nc'\n",
      "[Errno -51] NetCDF: Unknown file format: b'/media/tristan/Elements/Hydro/TE/TE-Japan/Daily/Download/RIVOUT/TE-JPN01M_MSM_H20210122_RIVOUT.nc'\n",
      "[Errno -51] NetCDF: Unknown file format: b'/media/tristan/Elements/Hydro/TE/TE-Japan/Daily/Download/RIVOUT/TE-JPN01M_MSM_H20210123_RIVOUT.nc'\n",
      "[Errno -51] NetCDF: Unknown file format: b'/media/tristan/Elements/Hydro/TE/TE-Japan/Daily/Download/RIVOUT/TE-JPN01M_MSM_H20210124_RIVOUT.nc'\n",
      "[Errno -51] NetCDF: Unknown file format: b'/media/tristan/Elements/Hydro/TE/TE-Japan/Daily/Download/RIVOUT/TE-JPN01M_MSM_H20210125_RIVOUT.nc'\n",
      "[Errno -51] NetCDF: Unknown file format: b'/media/tristan/Elements/Hydro/TE/TE-Japan/Daily/Download/RIVOUT/TE-JPN01M_MSM_H20210126_RIVOUT.nc'\n",
      "[Errno -51] NetCDF: Unknown file format: b'/media/tristan/Elements/Hydro/TE/TE-Japan/Daily/Download/RIVOUT/TE-JPN01M_MSM_H20210127_RIVOUT.nc'\n",
      "[Errno -51] NetCDF: Unknown file format: b'/media/tristan/Elements/Hydro/TE/TE-Japan/Daily/Download/RIVOUT/TE-JPN01M_MSM_H20210128_RIVOUT.nc'\n",
      "[Errno -51] NetCDF: Unknown file format: b'/media/tristan/Elements/Hydro/TE/TE-Japan/Daily/Download/RIVOUT/TE-JPN01M_MSM_H20210129_RIVOUT.nc'\n",
      "[Errno -51] NetCDF: Unknown file format: b'/media/tristan/Elements/Hydro/TE/TE-Japan/Daily/Download/RIVOUT/TE-JPN01M_MSM_H20210130_RIVOUT.nc'\n",
      "[Errno -51] NetCDF: Unknown file format: b'/media/tristan/Elements/Hydro/TE/TE-Japan/Daily/Download/RIVOUT/TE-JPN01M_MSM_H20210131_RIVOUT.nc'\n",
      "[Errno -51] NetCDF: Unknown file format: b'/media/tristan/Elements/Hydro/TE/TE-Japan/Daily/Download/RIVOUT/TE-JPN01M_MSM_H20210201_RIVOUT.nc'\n",
      "[Errno -51] NetCDF: Unknown file format: b'/media/tristan/Elements/Hydro/TE/TE-Japan/Daily/Download/RIVOUT/TE-JPN01M_MSM_H20210202_RIVOUT.nc'\n",
      "[Errno -51] NetCDF: Unknown file format: b'/media/tristan/Elements/Hydro/TE/TE-Japan/Daily/Download/RIVOUT/TE-JPN01M_MSM_H20210203_RIVOUT.nc'\n",
      "[Errno -51] NetCDF: Unknown file format: b'/media/tristan/Elements/Hydro/TE/TE-Japan/Daily/Download/RIVOUT/TE-JPN01M_MSM_H20210204_RIVOUT.nc'\n",
      "[Errno -51] NetCDF: Unknown file format: b'/media/tristan/Elements/Hydro/TE/TE-Japan/Daily/Download/RIVOUT/TE-JPN01M_MSM_H20210205_RIVOUT.nc'\n",
      "[Errno -51] NetCDF: Unknown file format: b'/media/tristan/Elements/Hydro/TE/TE-Japan/Daily/Download/RIVOUT/TE-JPN01M_MSM_H20210206_RIVOUT.nc'\n",
      "[Errno -51] NetCDF: Unknown file format: b'/media/tristan/Elements/Hydro/TE/TE-Japan/Daily/Download/RIVOUT/TE-JPN01M_MSM_H20210207_RIVOUT.nc'\n",
      "[Errno -51] NetCDF: Unknown file format: b'/media/tristan/Elements/Hydro/TE/TE-Japan/Daily/Download/RIVOUT/TE-JPN01M_MSM_H20210208_RIVOUT.nc'\n",
      "[Errno -51] NetCDF: Unknown file format: b'/media/tristan/Elements/Hydro/TE/TE-Japan/Daily/Download/RIVOUT/TE-JPN01M_MSM_H20210209_RIVOUT.nc'\n",
      "[Errno -51] NetCDF: Unknown file format: b'/media/tristan/Elements/Hydro/TE/TE-Japan/Daily/Download/RIVOUT/TE-JPN01M_MSM_H20210210_RIVOUT.nc'\n",
      "[Errno -51] NetCDF: Unknown file format: b'/media/tristan/Elements/Hydro/TE/TE-Japan/Daily/Download/RIVOUT/TE-JPN01M_MSM_H20210211_RIVOUT.nc'\n",
      "[Errno -51] NetCDF: Unknown file format: b'/media/tristan/Elements/Hydro/TE/TE-Japan/Daily/Download/RIVOUT/TE-JPN01M_MSM_H20210212_RIVOUT.nc'\n",
      "[Errno -51] NetCDF: Unknown file format: b'/media/tristan/Elements/Hydro/TE/TE-Japan/Daily/Download/RIVOUT/TE-JPN01M_MSM_H20210213_RIVOUT.nc'\n",
      "[Errno -51] NetCDF: Unknown file format: b'/media/tristan/Elements/Hydro/TE/TE-Japan/Daily/Download/RIVOUT/TE-JPN01M_MSM_H20210214_RIVOUT.nc'\n",
      "[Errno -51] NetCDF: Unknown file format: b'/media/tristan/Elements/Hydro/TE/TE-Japan/Daily/Download/RIVOUT/TE-JPN01M_MSM_H20210215_RIVOUT.nc'\n",
      "[Errno -51] NetCDF: Unknown file format: b'/media/tristan/Elements/Hydro/TE/TE-Japan/Daily/Download/RIVOUT/TE-JPN01M_MSM_H20210216_RIVOUT.nc'\n",
      "[Errno -51] NetCDF: Unknown file format: b'/media/tristan/Elements/Hydro/TE/TE-Japan/Daily/Download/RIVOUT/TE-JPN01M_MSM_H20210217_RIVOUT.nc'\n",
      "[Errno -51] NetCDF: Unknown file format: b'/media/tristan/Elements/Hydro/TE/TE-Japan/Daily/Download/RIVOUT/TE-JPN01M_MSM_H20210218_RIVOUT.nc'\n",
      "[Errno -51] NetCDF: Unknown file format: b'/media/tristan/Elements/Hydro/TE/TE-Japan/Daily/Download/RIVOUT/TE-JPN01M_MSM_H20210219_RIVOUT.nc'\n",
      "[Errno -51] NetCDF: Unknown file format: b'/media/tristan/Elements/Hydro/TE/TE-Japan/Daily/Download/RIVOUT/TE-JPN01M_MSM_H20210220_RIVOUT.nc'\n",
      "[Errno -51] NetCDF: Unknown file format: b'/media/tristan/Elements/Hydro/TE/TE-Japan/Daily/Download/RIVOUT/TE-JPN01M_MSM_H20210221_RIVOUT.nc'\n",
      "[Errno -51] NetCDF: Unknown file format: b'/media/tristan/Elements/Hydro/TE/TE-Japan/Daily/Download/RIVOUT/TE-JPN01M_MSM_H20210222_RIVOUT.nc'\n",
      "[Errno -51] NetCDF: Unknown file format: b'/media/tristan/Elements/Hydro/TE/TE-Japan/Daily/Download/RIVOUT/TE-JPN01M_MSM_H20210223_RIVOUT.nc'\n",
      "[Errno -51] NetCDF: Unknown file format: b'/media/tristan/Elements/Hydro/TE/TE-Japan/Daily/Download/RIVOUT/TE-JPN01M_MSM_H20210224_RIVOUT.nc'\n",
      "[Errno -51] NetCDF: Unknown file format: b'/media/tristan/Elements/Hydro/TE/TE-Japan/Daily/Download/RIVOUT/TE-JPN01M_MSM_H20210225_RIVOUT.nc'\n",
      "[Errno -51] NetCDF: Unknown file format: b'/media/tristan/Elements/Hydro/TE/TE-Japan/Daily/Download/RIVOUT/TE-JPN01M_MSM_H20210226_RIVOUT.nc'\n",
      "[Errno -51] NetCDF: Unknown file format: b'/media/tristan/Elements/Hydro/TE/TE-Japan/Daily/Download/RIVOUT/TE-JPN01M_MSM_H20210227_RIVOUT.nc'\n",
      "[Errno -51] NetCDF: Unknown file format: b'/media/tristan/Elements/Hydro/TE/TE-Japan/Daily/Download/RIVOUT/TE-JPN01M_MSM_H20210228_RIVOUT.nc'\n",
      "[Errno -51] NetCDF: Unknown file format: b'/media/tristan/Elements/Hydro/TE/TE-Japan/Daily/Download/RIVOUT/TE-JPN01M_MSM_H20210301_RIVOUT.nc'\n",
      "[Errno -51] NetCDF: Unknown file format: b'/media/tristan/Elements/Hydro/TE/TE-Japan/Daily/Download/RIVOUT/TE-JPN01M_MSM_H20210302_RIVOUT.nc'\n",
      "[Errno -51] NetCDF: Unknown file format: b'/media/tristan/Elements/Hydro/TE/TE-Japan/Daily/Download/RIVOUT/TE-JPN01M_MSM_H20210303_RIVOUT.nc'\n",
      "[Errno -51] NetCDF: Unknown file format: b'/media/tristan/Elements/Hydro/TE/TE-Japan/Daily/Download/RIVOUT/TE-JPN01M_MSM_H20210304_RIVOUT.nc'\n",
      "[Errno -51] NetCDF: Unknown file format: b'/media/tristan/Elements/Hydro/TE/TE-Japan/Daily/Download/RIVOUT/TE-JPN01M_MSM_H20210305_RIVOUT.nc'\n",
      "[Errno -51] NetCDF: Unknown file format: b'/media/tristan/Elements/Hydro/TE/TE-Japan/Daily/Download/RIVOUT/TE-JPN01M_MSM_H20210306_RIVOUT.nc'\n",
      "[Errno -51] NetCDF: Unknown file format: b'/media/tristan/Elements/Hydro/TE/TE-Japan/Daily/Download/RIVOUT/TE-JPN01M_MSM_H20210307_RIVOUT.nc'\n",
      "[Errno -51] NetCDF: Unknown file format: b'/media/tristan/Elements/Hydro/TE/TE-Japan/Daily/Download/RIVOUT/TE-JPN01M_MSM_H20210308_RIVOUT.nc'\n",
      "[Errno -51] NetCDF: Unknown file format: b'/media/tristan/Elements/Hydro/TE/TE-Japan/Daily/Download/RIVOUT/TE-JPN01M_MSM_H20210309_RIVOUT.nc'\n",
      "[Errno -51] NetCDF: Unknown file format: b'/media/tristan/Elements/Hydro/TE/TE-Japan/Daily/Download/RIVOUT/TE-JPN01M_MSM_H20210310_RIVOUT.nc'\n",
      "[Errno -51] NetCDF: Unknown file format: b'/media/tristan/Elements/Hydro/TE/TE-Japan/Daily/Download/RIVOUT/TE-JPN01M_MSM_H20210311_RIVOUT.nc'\n",
      "[Errno -51] NetCDF: Unknown file format: b'/media/tristan/Elements/Hydro/TE/TE-Japan/Daily/Download/RIVOUT/TE-JPN01M_MSM_H20210312_RIVOUT.nc'\n",
      "[Errno -51] NetCDF: Unknown file format: b'/media/tristan/Elements/Hydro/TE/TE-Japan/Daily/Download/RIVOUT/TE-JPN01M_MSM_H20210313_RIVOUT.nc'\n",
      "[Errno -51] NetCDF: Unknown file format: b'/media/tristan/Elements/Hydro/TE/TE-Japan/Daily/Download/RIVOUT/TE-JPN01M_MSM_H20210314_RIVOUT.nc'\n",
      "[Errno -51] NetCDF: Unknown file format: b'/media/tristan/Elements/Hydro/TE/TE-Japan/Daily/Download/RIVOUT/TE-JPN01M_MSM_H20210315_RIVOUT.nc'\n",
      "[Errno -51] NetCDF: Unknown file format: b'/media/tristan/Elements/Hydro/TE/TE-Japan/Daily/Download/RIVOUT/TE-JPN01M_MSM_H20210316_RIVOUT.nc'\n",
      "[Errno -51] NetCDF: Unknown file format: b'/media/tristan/Elements/Hydro/TE/TE-Japan/Daily/Download/RIVOUT/TE-JPN01M_MSM_H20210317_RIVOUT.nc'\n",
      "[Errno -51] NetCDF: Unknown file format: b'/media/tristan/Elements/Hydro/TE/TE-Japan/Daily/Download/RIVOUT/TE-JPN01M_MSM_H20210318_RIVOUT.nc'\n",
      "[Errno -51] NetCDF: Unknown file format: b'/media/tristan/Elements/Hydro/TE/TE-Japan/Daily/Download/RIVOUT/TE-JPN01M_MSM_H20210319_RIVOUT.nc'\n",
      "[Errno -51] NetCDF: Unknown file format: b'/media/tristan/Elements/Hydro/TE/TE-Japan/Daily/Download/RIVOUT/TE-JPN01M_MSM_H20210320_RIVOUT.nc'\n",
      "[Errno -51] NetCDF: Unknown file format: b'/media/tristan/Elements/Hydro/TE/TE-Japan/Daily/Download/RIVOUT/TE-JPN01M_MSM_H20210321_RIVOUT.nc'\n",
      "[Errno -51] NetCDF: Unknown file format: b'/media/tristan/Elements/Hydro/TE/TE-Japan/Daily/Download/RIVOUT/TE-JPN01M_MSM_H20210322_RIVOUT.nc'\n",
      "[Errno -51] NetCDF: Unknown file format: b'/media/tristan/Elements/Hydro/TE/TE-Japan/Daily/Download/RIVOUT/TE-JPN01M_MSM_H20210323_RIVOUT.nc'\n",
      "[Errno -51] NetCDF: Unknown file format: b'/media/tristan/Elements/Hydro/TE/TE-Japan/Daily/Download/RIVOUT/TE-JPN01M_MSM_H20210324_RIVOUT.nc'\n",
      "[Errno -51] NetCDF: Unknown file format: b'/media/tristan/Elements/Hydro/TE/TE-Japan/Daily/Download/RIVOUT/TE-JPN01M_MSM_H20210325_RIVOUT.nc'\n",
      "[Errno -51] NetCDF: Unknown file format: b'/media/tristan/Elements/Hydro/TE/TE-Japan/Daily/Download/RIVOUT/TE-JPN01M_MSM_H20210326_RIVOUT.nc'\n",
      "[Errno -51] NetCDF: Unknown file format: b'/media/tristan/Elements/Hydro/TE/TE-Japan/Daily/Download/RIVOUT/TE-JPN01M_MSM_H20210327_RIVOUT.nc'\n",
      "[Errno -51] NetCDF: Unknown file format: b'/media/tristan/Elements/Hydro/TE/TE-Japan/Daily/Download/RIVOUT/TE-JPN01M_MSM_H20210328_RIVOUT.nc'\n",
      "[Errno -51] NetCDF: Unknown file format: b'/media/tristan/Elements/Hydro/TE/TE-Japan/Daily/Download/RIVOUT/TE-JPN01M_MSM_H20210329_RIVOUT.nc'\n",
      "[Errno -51] NetCDF: Unknown file format: b'/media/tristan/Elements/Hydro/TE/TE-Japan/Daily/Download/RIVOUT/TE-JPN01M_MSM_H20210330_RIVOUT.nc'\n",
      "[Errno -51] NetCDF: Unknown file format: b'/media/tristan/Elements/Hydro/TE/TE-Japan/Daily/Download/RIVOUT/TE-JPN01M_MSM_H20210331_RIVOUT.nc'\n",
      "[Errno -51] NetCDF: Unknown file format: b'/media/tristan/Elements/Hydro/TE/TE-Japan/Daily/Download/RIVOUT/TE-JPN01M_MSM_H20210401_RIVOUT.nc'\n",
      "[Errno -51] NetCDF: Unknown file format: b'/media/tristan/Elements/Hydro/TE/TE-Japan/Daily/Download/RIVOUT/TE-JPN01M_MSM_H20210402_RIVOUT.nc'\n",
      "[Errno -51] NetCDF: Unknown file format: b'/media/tristan/Elements/Hydro/TE/TE-Japan/Daily/Download/RIVOUT/TE-JPN01M_MSM_H20210403_RIVOUT.nc'\n",
      "[Errno -51] NetCDF: Unknown file format: b'/media/tristan/Elements/Hydro/TE/TE-Japan/Daily/Download/RIVOUT/TE-JPN01M_MSM_H20210404_RIVOUT.nc'\n",
      "[Errno -51] NetCDF: Unknown file format: b'/media/tristan/Elements/Hydro/TE/TE-Japan/Daily/Download/RIVOUT/TE-JPN01M_MSM_H20210405_RIVOUT.nc'\n",
      "[Errno -51] NetCDF: Unknown file format: b'/media/tristan/Elements/Hydro/TE/TE-Japan/Daily/Download/RIVOUT/TE-JPN01M_MSM_H20210406_RIVOUT.nc'\n",
      "[Errno -51] NetCDF: Unknown file format: b'/media/tristan/Elements/Hydro/TE/TE-Japan/Daily/Download/RIVOUT/TE-JPN01M_MSM_H20210407_RIVOUT.nc'\n",
      "[Errno -51] NetCDF: Unknown file format: b'/media/tristan/Elements/Hydro/TE/TE-Japan/Daily/Download/RIVOUT/TE-JPN01M_MSM_H20210408_RIVOUT.nc'\n",
      "[Errno -51] NetCDF: Unknown file format: b'/media/tristan/Elements/Hydro/TE/TE-Japan/Daily/Download/RIVOUT/TE-JPN01M_MSM_H20210409_RIVOUT.nc'\n",
      "[Errno -51] NetCDF: Unknown file format: b'/media/tristan/Elements/Hydro/TE/TE-Japan/Daily/Download/RIVOUT/TE-JPN01M_MSM_H20210410_RIVOUT.nc'\n",
      "[Errno -51] NetCDF: Unknown file format: b'/media/tristan/Elements/Hydro/TE/TE-Japan/Daily/Download/RIVOUT/TE-JPN01M_MSM_H20210411_RIVOUT.nc'\n",
      "[Errno -51] NetCDF: Unknown file format: b'/media/tristan/Elements/Hydro/TE/TE-Japan/Daily/Download/RIVOUT/TE-JPN01M_MSM_H20210412_RIVOUT.nc'\n",
      "[Errno -51] NetCDF: Unknown file format: b'/media/tristan/Elements/Hydro/TE/TE-Japan/Daily/Download/RIVOUT/TE-JPN01M_MSM_H20210413_RIVOUT.nc'\n",
      "[Errno -51] NetCDF: Unknown file format: b'/media/tristan/Elements/Hydro/TE/TE-Japan/Daily/Download/RIVOUT/TE-JPN01M_MSM_H20210414_RIVOUT.nc'\n",
      "[Errno -51] NetCDF: Unknown file format: b'/media/tristan/Elements/Hydro/TE/TE-Japan/Daily/Download/RIVOUT/TE-JPN01M_MSM_H20210415_RIVOUT.nc'\n",
      "[Errno -51] NetCDF: Unknown file format: b'/media/tristan/Elements/Hydro/TE/TE-Japan/Daily/Download/RIVOUT/TE-JPN01M_MSM_H20210416_RIVOUT.nc'\n",
      "[Errno -51] NetCDF: Unknown file format: b'/media/tristan/Elements/Hydro/TE/TE-Japan/Daily/Download/RIVOUT/TE-JPN01M_MSM_H20210417_RIVOUT.nc'\n",
      "[Errno -51] NetCDF: Unknown file format: b'/media/tristan/Elements/Hydro/TE/TE-Japan/Daily/Download/RIVOUT/TE-JPN01M_MSM_H20210418_RIVOUT.nc'\n",
      "[Errno -51] NetCDF: Unknown file format: b'/media/tristan/Elements/Hydro/TE/TE-Japan/Daily/Download/RIVOUT/TE-JPN01M_MSM_H20210419_RIVOUT.nc'\n",
      "[Errno -51] NetCDF: Unknown file format: b'/media/tristan/Elements/Hydro/TE/TE-Japan/Daily/Download/RIVOUT/TE-JPN01M_MSM_H20210420_RIVOUT.nc'\n",
      "[Errno -51] NetCDF: Unknown file format: b'/media/tristan/Elements/Hydro/TE/TE-Japan/Daily/Download/RIVOUT/TE-JPN01M_MSM_H20210421_RIVOUT.nc'\n",
      "[Errno -51] NetCDF: Unknown file format: b'/media/tristan/Elements/Hydro/TE/TE-Japan/Daily/Download/RIVOUT/TE-JPN01M_MSM_H20210422_RIVOUT.nc'\n",
      "[Errno -51] NetCDF: Unknown file format: b'/media/tristan/Elements/Hydro/TE/TE-Japan/Daily/Download/RIVOUT/TE-JPN01M_MSM_H20210423_RIVOUT.nc'\n",
      "[Errno -51] NetCDF: Unknown file format: b'/media/tristan/Elements/Hydro/TE/TE-Japan/Daily/Download/RIVOUT/TE-JPN01M_MSM_H20210424_RIVOUT.nc'\n",
      "[Errno -51] NetCDF: Unknown file format: b'/media/tristan/Elements/Hydro/TE/TE-Japan/Daily/Download/RIVOUT/TE-JPN01M_MSM_H20210425_RIVOUT.nc'\n",
      "[Errno -51] NetCDF: Unknown file format: b'/media/tristan/Elements/Hydro/TE/TE-Japan/Daily/Download/RIVOUT/TE-JPN01M_MSM_H20210426_RIVOUT.nc'\n",
      "[Errno -51] NetCDF: Unknown file format: b'/media/tristan/Elements/Hydro/TE/TE-Japan/Daily/Download/RIVOUT/TE-JPN01M_MSM_H20210427_RIVOUT.nc'\n",
      "[Errno -51] NetCDF: Unknown file format: b'/media/tristan/Elements/Hydro/TE/TE-Japan/Daily/Download/RIVOUT/TE-JPN01M_MSM_H20210428_RIVOUT.nc'\n",
      "[Errno -51] NetCDF: Unknown file format: b'/media/tristan/Elements/Hydro/TE/TE-Japan/Daily/Download/RIVOUT/TE-JPN01M_MSM_H20210429_RIVOUT.nc'\n",
      "[Errno -51] NetCDF: Unknown file format: b'/media/tristan/Elements/Hydro/TE/TE-Japan/Daily/Download/RIVOUT/TE-JPN01M_MSM_H20210430_RIVOUT.nc'\n",
      "[Errno -51] NetCDF: Unknown file format: b'/media/tristan/Elements/Hydro/TE/TE-Japan/Daily/Download/RIVOUT/TE-JPN01M_MSM_H20210501_RIVOUT.nc'\n",
      "[Errno -51] NetCDF: Unknown file format: b'/media/tristan/Elements/Hydro/TE/TE-Japan/Daily/Download/RIVOUT/TE-JPN01M_MSM_H20210502_RIVOUT.nc'\n",
      "[Errno -51] NetCDF: Unknown file format: b'/media/tristan/Elements/Hydro/TE/TE-Japan/Daily/Download/RIVOUT/TE-JPN01M_MSM_H20210503_RIVOUT.nc'\n",
      "[Errno -51] NetCDF: Unknown file format: b'/media/tristan/Elements/Hydro/TE/TE-Japan/Daily/Download/RIVOUT/TE-JPN01M_MSM_H20210504_RIVOUT.nc'\n",
      "[Errno -51] NetCDF: Unknown file format: b'/media/tristan/Elements/Hydro/TE/TE-Japan/Daily/Download/RIVOUT/TE-JPN01M_MSM_H20210505_RIVOUT.nc'\n",
      "[Errno -51] NetCDF: Unknown file format: b'/media/tristan/Elements/Hydro/TE/TE-Japan/Daily/Download/RIVOUT/TE-JPN01M_MSM_H20210506_RIVOUT.nc'\n",
      "[Errno -51] NetCDF: Unknown file format: b'/media/tristan/Elements/Hydro/TE/TE-Japan/Daily/Download/RIVOUT/TE-JPN01M_MSM_H20210507_RIVOUT.nc'\n",
      "[Errno -51] NetCDF: Unknown file format: b'/media/tristan/Elements/Hydro/TE/TE-Japan/Daily/Download/RIVOUT/TE-JPN01M_MSM_H20210508_RIVOUT.nc'\n",
      "[Errno -51] NetCDF: Unknown file format: b'/media/tristan/Elements/Hydro/TE/TE-Japan/Daily/Download/RIVOUT/TE-JPN01M_MSM_H20210509_RIVOUT.nc'\n",
      "[Errno -51] NetCDF: Unknown file format: b'/media/tristan/Elements/Hydro/TE/TE-Japan/Daily/Download/RIVOUT/TE-JPN01M_MSM_H20210510_RIVOUT.nc'\n",
      "[Errno -51] NetCDF: Unknown file format: b'/media/tristan/Elements/Hydro/TE/TE-Japan/Daily/Download/RIVOUT/TE-JPN01M_MSM_H20210511_RIVOUT.nc'\n",
      "[Errno -51] NetCDF: Unknown file format: b'/media/tristan/Elements/Hydro/TE/TE-Japan/Daily/Download/RIVOUT/TE-JPN01M_MSM_H20210512_RIVOUT.nc'\n",
      "[Errno -51] NetCDF: Unknown file format: b'/media/tristan/Elements/Hydro/TE/TE-Japan/Daily/Download/RIVOUT/TE-JPN01M_MSM_H20210513_RIVOUT.nc'\n",
      "[Errno -51] NetCDF: Unknown file format: b'/media/tristan/Elements/Hydro/TE/TE-Japan/Daily/Download/RIVOUT/TE-JPN01M_MSM_H20210514_RIVOUT.nc'\n",
      "[Errno -51] NetCDF: Unknown file format: b'/media/tristan/Elements/Hydro/TE/TE-Japan/Daily/Download/RIVOUT/TE-JPN01M_MSM_H20210515_RIVOUT.nc'\n",
      "[Errno -51] NetCDF: Unknown file format: b'/media/tristan/Elements/Hydro/TE/TE-Japan/Daily/Download/RIVOUT/TE-JPN01M_MSM_H20210516_RIVOUT.nc'\n",
      "[Errno -51] NetCDF: Unknown file format: b'/media/tristan/Elements/Hydro/TE/TE-Japan/Daily/Download/RIVOUT/TE-JPN01M_MSM_H20210517_RIVOUT.nc'\n",
      "[Errno -51] NetCDF: Unknown file format: b'/media/tristan/Elements/Hydro/TE/TE-Japan/Daily/Download/RIVOUT/TE-JPN01M_MSM_H20210518_RIVOUT.nc'\n",
      "[Errno -51] NetCDF: Unknown file format: b'/media/tristan/Elements/Hydro/TE/TE-Japan/Daily/Download/RIVOUT/TE-JPN01M_MSM_H20210519_RIVOUT.nc'\n",
      "[Errno -51] NetCDF: Unknown file format: b'/media/tristan/Elements/Hydro/TE/TE-Japan/Daily/Download/RIVOUT/TE-JPN01M_MSM_H20210520_RIVOUT.nc'\n",
      "[Errno -51] NetCDF: Unknown file format: b'/media/tristan/Elements/Hydro/TE/TE-Japan/Daily/Download/RIVOUT/TE-JPN01M_MSM_H20210521_RIVOUT.nc'\n",
      "[Errno -51] NetCDF: Unknown file format: b'/media/tristan/Elements/Hydro/TE/TE-Japan/Daily/Download/RIVOUT/TE-JPN01M_MSM_H20210522_RIVOUT.nc'\n",
      "[Errno -51] NetCDF: Unknown file format: b'/media/tristan/Elements/Hydro/TE/TE-Japan/Daily/Download/RIVOUT/TE-JPN01M_MSM_H20210523_RIVOUT.nc'\n",
      "[Errno -51] NetCDF: Unknown file format: b'/media/tristan/Elements/Hydro/TE/TE-Japan/Daily/Download/RIVOUT/TE-JPN01M_MSM_H20210524_RIVOUT.nc'\n",
      "[Errno -51] NetCDF: Unknown file format: b'/media/tristan/Elements/Hydro/TE/TE-Japan/Daily/Download/RIVOUT/TE-JPN01M_MSM_H20210525_RIVOUT.nc'\n",
      "[Errno -51] NetCDF: Unknown file format: b'/media/tristan/Elements/Hydro/TE/TE-Japan/Daily/Download/RIVOUT/TE-JPN01M_MSM_H20210526_RIVOUT.nc'\n",
      "[Errno -51] NetCDF: Unknown file format: b'/media/tristan/Elements/Hydro/TE/TE-Japan/Daily/Download/RIVOUT/TE-JPN01M_MSM_H20210527_RIVOUT.nc'\n",
      "[Errno -51] NetCDF: Unknown file format: b'/media/tristan/Elements/Hydro/TE/TE-Japan/Daily/Download/RIVOUT/TE-JPN01M_MSM_H20210528_RIVOUT.nc'\n",
      "[Errno -51] NetCDF: Unknown file format: b'/media/tristan/Elements/Hydro/TE/TE-Japan/Daily/Download/RIVOUT/TE-JPN01M_MSM_H20210529_RIVOUT.nc'\n",
      "[Errno -51] NetCDF: Unknown file format: b'/media/tristan/Elements/Hydro/TE/TE-Japan/Daily/Download/RIVOUT/TE-JPN01M_MSM_H20210530_RIVOUT.nc'\n",
      "[Errno -51] NetCDF: Unknown file format: b'/media/tristan/Elements/Hydro/TE/TE-Japan/Daily/Download/RIVOUT/TE-JPN01M_MSM_H20210531_RIVOUT.nc'\n",
      "[Errno -51] NetCDF: Unknown file format: b'/media/tristan/Elements/Hydro/TE/TE-Japan/Daily/Download/RIVOUT/TE-JPN01M_MSM_H20210601_RIVOUT.nc'\n",
      "[Errno -51] NetCDF: Unknown file format: b'/media/tristan/Elements/Hydro/TE/TE-Japan/Daily/Download/RIVOUT/TE-JPN01M_MSM_H20210602_RIVOUT.nc'\n",
      "[Errno -51] NetCDF: Unknown file format: b'/media/tristan/Elements/Hydro/TE/TE-Japan/Daily/Download/RIVOUT/TE-JPN01M_MSM_H20210603_RIVOUT.nc'\n",
      "[Errno -51] NetCDF: Unknown file format: b'/media/tristan/Elements/Hydro/TE/TE-Japan/Daily/Download/RIVOUT/TE-JPN01M_MSM_H20210604_RIVOUT.nc'\n",
      "[Errno -51] NetCDF: Unknown file format: b'/media/tristan/Elements/Hydro/TE/TE-Japan/Daily/Download/RIVOUT/TE-JPN01M_MSM_H20210605_RIVOUT.nc'\n",
      "[Errno -51] NetCDF: Unknown file format: b'/media/tristan/Elements/Hydro/TE/TE-Japan/Daily/Download/RIVOUT/TE-JPN01M_MSM_H20210606_RIVOUT.nc'\n",
      "[Errno -51] NetCDF: Unknown file format: b'/media/tristan/Elements/Hydro/TE/TE-Japan/Daily/Download/RIVOUT/TE-JPN01M_MSM_H20210607_RIVOUT.nc'\n",
      "[Errno -51] NetCDF: Unknown file format: b'/media/tristan/Elements/Hydro/TE/TE-Japan/Daily/Download/RIVOUT/TE-JPN01M_MSM_H20210608_RIVOUT.nc'\n",
      "[Errno -51] NetCDF: Unknown file format: b'/media/tristan/Elements/Hydro/TE/TE-Japan/Daily/Download/RIVOUT/TE-JPN01M_MSM_H20210609_RIVOUT.nc'\n",
      "[Errno -51] NetCDF: Unknown file format: b'/media/tristan/Elements/Hydro/TE/TE-Japan/Daily/Download/RIVOUT/TE-JPN01M_MSM_H20210610_RIVOUT.nc'\n",
      "[Errno -51] NetCDF: Unknown file format: b'/media/tristan/Elements/Hydro/TE/TE-Japan/Daily/Download/RIVOUT/TE-JPN01M_MSM_H20210611_RIVOUT.nc'\n",
      "[Errno -51] NetCDF: Unknown file format: b'/media/tristan/Elements/Hydro/TE/TE-Japan/Daily/Download/RIVOUT/TE-JPN01M_MSM_H20210612_RIVOUT.nc'\n",
      "[Errno -51] NetCDF: Unknown file format: b'/media/tristan/Elements/Hydro/TE/TE-Japan/Daily/Download/RIVOUT/TE-JPN01M_MSM_H20210613_RIVOUT.nc'\n",
      "[Errno -51] NetCDF: Unknown file format: b'/media/tristan/Elements/Hydro/TE/TE-Japan/Daily/Download/RIVOUT/TE-JPN01M_MSM_H20210614_RIVOUT.nc'\n",
      "[Errno -51] NetCDF: Unknown file format: b'/media/tristan/Elements/Hydro/TE/TE-Japan/Daily/Download/RIVOUT/TE-JPN01M_MSM_H20210615_RIVOUT.nc'\n",
      "[Errno -51] NetCDF: Unknown file format: b'/media/tristan/Elements/Hydro/TE/TE-Japan/Daily/Download/RIVOUT/TE-JPN01M_MSM_H20210616_RIVOUT.nc'\n",
      "[Errno -51] NetCDF: Unknown file format: b'/media/tristan/Elements/Hydro/TE/TE-Japan/Daily/Download/RIVOUT/TE-JPN01M_MSM_H20210617_RIVOUT.nc'\n",
      "[Errno -51] NetCDF: Unknown file format: b'/media/tristan/Elements/Hydro/TE/TE-Japan/Daily/Download/RIVOUT/TE-JPN01M_MSM_H20210618_RIVOUT.nc'\n",
      "[Errno -51] NetCDF: Unknown file format: b'/media/tristan/Elements/Hydro/TE/TE-Japan/Daily/Download/RIVOUT/TE-JPN01M_MSM_H20210619_RIVOUT.nc'\n",
      "[Errno -51] NetCDF: Unknown file format: b'/media/tristan/Elements/Hydro/TE/TE-Japan/Daily/Download/RIVOUT/TE-JPN01M_MSM_H20210620_RIVOUT.nc'\n",
      "[Errno -51] NetCDF: Unknown file format: b'/media/tristan/Elements/Hydro/TE/TE-Japan/Daily/Download/RIVOUT/TE-JPN01M_MSM_H20210621_RIVOUT.nc'\n",
      "[Errno -51] NetCDF: Unknown file format: b'/media/tristan/Elements/Hydro/TE/TE-Japan/Daily/Download/RIVOUT/TE-JPN01M_MSM_H20210622_RIVOUT.nc'\n",
      "[Errno -51] NetCDF: Unknown file format: b'/media/tristan/Elements/Hydro/TE/TE-Japan/Daily/Download/RIVOUT/TE-JPN01M_MSM_H20210623_RIVOUT.nc'\n",
      "[Errno -51] NetCDF: Unknown file format: b'/media/tristan/Elements/Hydro/TE/TE-Japan/Daily/Download/RIVOUT/TE-JPN01M_MSM_H20210624_RIVOUT.nc'\n",
      "[Errno -51] NetCDF: Unknown file format: b'/media/tristan/Elements/Hydro/TE/TE-Japan/Daily/Download/RIVOUT/TE-JPN01M_MSM_H20210625_RIVOUT.nc'\n",
      "[Errno -51] NetCDF: Unknown file format: b'/media/tristan/Elements/Hydro/TE/TE-Japan/Daily/Download/RIVOUT/TE-JPN01M_MSM_H20210626_RIVOUT.nc'\n",
      "[Errno -51] NetCDF: Unknown file format: b'/media/tristan/Elements/Hydro/TE/TE-Japan/Daily/Download/RIVOUT/TE-JPN01M_MSM_H20210627_RIVOUT.nc'\n",
      "[Errno -51] NetCDF: Unknown file format: b'/media/tristan/Elements/Hydro/TE/TE-Japan/Daily/Download/RIVOUT/TE-JPN01M_MSM_H20210628_RIVOUT.nc'\n",
      "[Errno -51] NetCDF: Unknown file format: b'/media/tristan/Elements/Hydro/TE/TE-Japan/Daily/Download/RIVOUT/TE-JPN01M_MSM_H20210629_RIVOUT.nc'\n",
      "[Errno -51] NetCDF: Unknown file format: b'/media/tristan/Elements/Hydro/TE/TE-Japan/Daily/Download/RIVOUT/TE-JPN01M_MSM_H20210630_RIVOUT.nc'\n",
      "[Errno -51] NetCDF: Unknown file format: b'/media/tristan/Elements/Hydro/TE/TE-Japan/Daily/Download/RIVOUT/TE-JPN01M_MSM_H20210701_RIVOUT.nc'\n",
      "[Errno -51] NetCDF: Unknown file format: b'/media/tristan/Elements/Hydro/TE/TE-Japan/Daily/Download/RIVOUT/TE-JPN01M_MSM_H20210702_RIVOUT.nc'\n",
      "[Errno -51] NetCDF: Unknown file format: b'/media/tristan/Elements/Hydro/TE/TE-Japan/Daily/Download/RIVOUT/TE-JPN01M_MSM_H20210703_RIVOUT.nc'\n",
      "[Errno -51] NetCDF: Unknown file format: b'/media/tristan/Elements/Hydro/TE/TE-Japan/Daily/Download/RIVOUT/TE-JPN01M_MSM_H20210704_RIVOUT.nc'\n",
      "[Errno -51] NetCDF: Unknown file format: b'/media/tristan/Elements/Hydro/TE/TE-Japan/Daily/Download/RIVOUT/TE-JPN01M_MSM_H20210705_RIVOUT.nc'\n",
      "[Errno -51] NetCDF: Unknown file format: b'/media/tristan/Elements/Hydro/TE/TE-Japan/Daily/Download/RIVOUT/TE-JPN01M_MSM_H20210706_RIVOUT.nc'\n",
      "[Errno -51] NetCDF: Unknown file format: b'/media/tristan/Elements/Hydro/TE/TE-Japan/Daily/Download/RIVOUT/TE-JPN01M_MSM_H20210707_RIVOUT.nc'\n",
      "[Errno -51] NetCDF: Unknown file format: b'/media/tristan/Elements/Hydro/TE/TE-Japan/Daily/Download/RIVOUT/TE-JPN01M_MSM_H20210708_RIVOUT.nc'\n",
      "[Errno -51] NetCDF: Unknown file format: b'/media/tristan/Elements/Hydro/TE/TE-Japan/Daily/Download/RIVOUT/TE-JPN01M_MSM_H20210709_RIVOUT.nc'\n",
      "[Errno -51] NetCDF: Unknown file format: b'/media/tristan/Elements/Hydro/TE/TE-Japan/Daily/Download/RIVOUT/TE-JPN01M_MSM_H20210710_RIVOUT.nc'\n",
      "[Errno -51] NetCDF: Unknown file format: b'/media/tristan/Elements/Hydro/TE/TE-Japan/Daily/Download/RIVOUT/TE-JPN01M_MSM_H20210711_RIVOUT.nc'\n",
      "[Errno -51] NetCDF: Unknown file format: b'/media/tristan/Elements/Hydro/TE/TE-Japan/Daily/Download/RIVOUT/TE-JPN01M_MSM_H20210712_RIVOUT.nc'\n",
      "[Errno -51] NetCDF: Unknown file format: b'/media/tristan/Elements/Hydro/TE/TE-Japan/Daily/Download/RIVOUT/TE-JPN01M_MSM_H20210713_RIVOUT.nc'\n",
      "[Errno -51] NetCDF: Unknown file format: b'/media/tristan/Elements/Hydro/TE/TE-Japan/Daily/Download/RIVOUT/TE-JPN01M_MSM_H20210714_RIVOUT.nc'\n",
      "[Errno -51] NetCDF: Unknown file format: b'/media/tristan/Elements/Hydro/TE/TE-Japan/Daily/Download/RIVOUT/TE-JPN01M_MSM_H20210715_RIVOUT.nc'\n",
      "[Errno -51] NetCDF: Unknown file format: b'/media/tristan/Elements/Hydro/TE/TE-Japan/Daily/Download/RIVOUT/TE-JPN01M_MSM_H20210716_RIVOUT.nc'\n",
      "[Errno -51] NetCDF: Unknown file format: b'/media/tristan/Elements/Hydro/TE/TE-Japan/Daily/Download/RIVOUT/TE-JPN01M_MSM_H20210717_RIVOUT.nc'\n",
      "[Errno -51] NetCDF: Unknown file format: b'/media/tristan/Elements/Hydro/TE/TE-Japan/Daily/Download/RIVOUT/TE-JPN01M_MSM_H20210718_RIVOUT.nc'\n",
      "[Errno -51] NetCDF: Unknown file format: b'/media/tristan/Elements/Hydro/TE/TE-Japan/Daily/Download/RIVOUT/TE-JPN01M_MSM_H20210719_RIVOUT.nc'\n",
      "[Errno -51] NetCDF: Unknown file format: b'/media/tristan/Elements/Hydro/TE/TE-Japan/Daily/Download/RIVOUT/TE-JPN01M_MSM_H20210720_RIVOUT.nc'\n",
      "[Errno -51] NetCDF: Unknown file format: b'/media/tristan/Elements/Hydro/TE/TE-Japan/Daily/Download/RIVOUT/TE-JPN01M_MSM_H20210721_RIVOUT.nc'\n",
      "[Errno -51] NetCDF: Unknown file format: b'/media/tristan/Elements/Hydro/TE/TE-Japan/Daily/Download/RIVOUT/TE-JPN01M_MSM_H20210722_RIVOUT.nc'\n",
      "[Errno -51] NetCDF: Unknown file format: b'/media/tristan/Elements/Hydro/TE/TE-Japan/Daily/Download/RIVOUT/TE-JPN01M_MSM_H20210723_RIVOUT.nc'\n",
      "[Errno -51] NetCDF: Unknown file format: b'/media/tristan/Elements/Hydro/TE/TE-Japan/Daily/Download/RIVOUT/TE-JPN01M_MSM_H20210724_RIVOUT.nc'\n",
      "[Errno -51] NetCDF: Unknown file format: b'/media/tristan/Elements/Hydro/TE/TE-Japan/Daily/Download/RIVOUT/TE-JPN01M_MSM_H20210725_RIVOUT.nc'\n",
      "[Errno -51] NetCDF: Unknown file format: b'/media/tristan/Elements/Hydro/TE/TE-Japan/Daily/Download/RIVOUT/TE-JPN01M_MSM_H20210726_RIVOUT.nc'\n",
      "[Errno -51] NetCDF: Unknown file format: b'/media/tristan/Elements/Hydro/TE/TE-Japan/Daily/Download/RIVOUT/TE-JPN01M_MSM_H20210727_RIVOUT.nc'\n",
      "[Errno -51] NetCDF: Unknown file format: b'/media/tristan/Elements/Hydro/TE/TE-Japan/Daily/Download/RIVOUT/TE-JPN01M_MSM_H20210728_RIVOUT.nc'\n",
      "[Errno -51] NetCDF: Unknown file format: b'/media/tristan/Elements/Hydro/TE/TE-Japan/Daily/Download/RIVOUT/TE-JPN01M_MSM_H20210729_RIVOUT.nc'\n",
      "[Errno -51] NetCDF: Unknown file format: b'/media/tristan/Elements/Hydro/TE/TE-Japan/Daily/Download/RIVOUT/TE-JPN01M_MSM_H20210730_RIVOUT.nc'\n",
      "[Errno -51] NetCDF: Unknown file format: b'/media/tristan/Elements/Hydro/TE/TE-Japan/Daily/Download/RIVOUT/TE-JPN01M_MSM_H20210731_RIVOUT.nc'\n",
      "[Errno -51] NetCDF: Unknown file format: b'/media/tristan/Elements/Hydro/TE/TE-Japan/Daily/Download/RIVOUT/TE-JPN01M_MSM_H20210801_RIVOUT.nc'\n",
      "[Errno -51] NetCDF: Unknown file format: b'/media/tristan/Elements/Hydro/TE/TE-Japan/Daily/Download/RIVOUT/TE-JPN01M_MSM_H20210802_RIVOUT.nc'\n",
      "[Errno -51] NetCDF: Unknown file format: b'/media/tristan/Elements/Hydro/TE/TE-Japan/Daily/Download/RIVOUT/TE-JPN01M_MSM_H20210803_RIVOUT.nc'\n",
      "[Errno -51] NetCDF: Unknown file format: b'/media/tristan/Elements/Hydro/TE/TE-Japan/Daily/Download/RIVOUT/TE-JPN01M_MSM_H20210804_RIVOUT.nc'\n",
      "[Errno -51] NetCDF: Unknown file format: b'/media/tristan/Elements/Hydro/TE/TE-Japan/Daily/Download/RIVOUT/TE-JPN01M_MSM_H20210805_RIVOUT.nc'\n",
      "[Errno -51] NetCDF: Unknown file format: b'/media/tristan/Elements/Hydro/TE/TE-Japan/Daily/Download/RIVOUT/TE-JPN01M_MSM_H20210806_RIVOUT.nc'\n",
      "[Errno -51] NetCDF: Unknown file format: b'/media/tristan/Elements/Hydro/TE/TE-Japan/Daily/Download/RIVOUT/TE-JPN01M_MSM_H20210807_RIVOUT.nc'\n",
      "[Errno -51] NetCDF: Unknown file format: b'/media/tristan/Elements/Hydro/TE/TE-Japan/Daily/Download/RIVOUT/TE-JPN01M_MSM_H20210808_RIVOUT.nc'\n",
      "[Errno -51] NetCDF: Unknown file format: b'/media/tristan/Elements/Hydro/TE/TE-Japan/Daily/Download/RIVOUT/TE-JPN01M_MSM_H20210809_RIVOUT.nc'\n",
      "[Errno -51] NetCDF: Unknown file format: b'/media/tristan/Elements/Hydro/TE/TE-Japan/Daily/Download/RIVOUT/TE-JPN01M_MSM_H20210810_RIVOUT.nc'\n",
      "[Errno -51] NetCDF: Unknown file format: b'/media/tristan/Elements/Hydro/TE/TE-Japan/Daily/Download/RIVOUT/TE-JPN01M_MSM_H20210811_RIVOUT.nc'\n",
      "[Errno -51] NetCDF: Unknown file format: b'/media/tristan/Elements/Hydro/TE/TE-Japan/Daily/Download/RIVOUT/TE-JPN01M_MSM_H20210812_RIVOUT.nc'\n",
      "[Errno -51] NetCDF: Unknown file format: b'/media/tristan/Elements/Hydro/TE/TE-Japan/Daily/Download/RIVOUT/TE-JPN01M_MSM_H20210813_RIVOUT.nc'\n",
      "[Errno -51] NetCDF: Unknown file format: b'/media/tristan/Elements/Hydro/TE/TE-Japan/Daily/Download/RIVOUT/TE-JPN01M_MSM_H20210814_RIVOUT.nc'\n",
      "[Errno -51] NetCDF: Unknown file format: b'/media/tristan/Elements/Hydro/TE/TE-Japan/Daily/Download/RIVOUT/TE-JPN01M_MSM_H20210815_RIVOUT.nc'\n",
      "[Errno -51] NetCDF: Unknown file format: b'/media/tristan/Elements/Hydro/TE/TE-Japan/Daily/Download/RIVOUT/TE-JPN01M_MSM_H20210816_RIVOUT.nc'\n",
      "[Errno -51] NetCDF: Unknown file format: b'/media/tristan/Elements/Hydro/TE/TE-Japan/Daily/Download/RIVOUT/TE-JPN01M_MSM_H20210817_RIVOUT.nc'\n",
      "[Errno -51] NetCDF: Unknown file format: b'/media/tristan/Elements/Hydro/TE/TE-Japan/Daily/Download/RIVOUT/TE-JPN01M_MSM_H20210818_RIVOUT.nc'\n",
      "[Errno -51] NetCDF: Unknown file format: b'/media/tristan/Elements/Hydro/TE/TE-Japan/Daily/Download/RIVOUT/TE-JPN01M_MSM_H20210819_RIVOUT.nc'\n",
      "[Errno -51] NetCDF: Unknown file format: b'/media/tristan/Elements/Hydro/TE/TE-Japan/Daily/Download/RIVOUT/TE-JPN01M_MSM_H20210820_RIVOUT.nc'\n",
      "[Errno -51] NetCDF: Unknown file format: b'/media/tristan/Elements/Hydro/TE/TE-Japan/Daily/Download/RIVOUT/TE-JPN01M_MSM_H20210821_RIVOUT.nc'\n",
      "[Errno -51] NetCDF: Unknown file format: b'/media/tristan/Elements/Hydro/TE/TE-Japan/Daily/Download/RIVOUT/TE-JPN01M_MSM_H20210822_RIVOUT.nc'\n",
      "[Errno -51] NetCDF: Unknown file format: b'/media/tristan/Elements/Hydro/TE/TE-Japan/Daily/Download/RIVOUT/TE-JPN01M_MSM_H20210823_RIVOUT.nc'\n",
      "[Errno -51] NetCDF: Unknown file format: b'/media/tristan/Elements/Hydro/TE/TE-Japan/Daily/Download/RIVOUT/TE-JPN01M_MSM_H20210824_RIVOUT.nc'\n",
      "[Errno -51] NetCDF: Unknown file format: b'/media/tristan/Elements/Hydro/TE/TE-Japan/Daily/Download/RIVOUT/TE-JPN01M_MSM_H20210825_RIVOUT.nc'\n",
      "[Errno -51] NetCDF: Unknown file format: b'/media/tristan/Elements/Hydro/TE/TE-Japan/Daily/Download/RIVOUT/TE-JPN01M_MSM_H20210826_RIVOUT.nc'\n",
      "[Errno -51] NetCDF: Unknown file format: b'/media/tristan/Elements/Hydro/TE/TE-Japan/Daily/Download/RIVOUT/TE-JPN01M_MSM_H20210827_RIVOUT.nc'\n",
      "[Errno -51] NetCDF: Unknown file format: b'/media/tristan/Elements/Hydro/TE/TE-Japan/Daily/Download/RIVOUT/TE-JPN01M_MSM_H20210828_RIVOUT.nc'\n",
      "[Errno -51] NetCDF: Unknown file format: b'/media/tristan/Elements/Hydro/TE/TE-Japan/Daily/Download/RIVOUT/TE-JPN01M_MSM_H20210829_RIVOUT.nc'\n",
      "[Errno -51] NetCDF: Unknown file format: b'/media/tristan/Elements/Hydro/TE/TE-Japan/Daily/Download/RIVOUT/TE-JPN01M_MSM_H20210830_RIVOUT.nc'\n",
      "[Errno -51] NetCDF: Unknown file format: b'/media/tristan/Elements/Hydro/TE/TE-Japan/Daily/Download/RIVOUT/TE-JPN01M_MSM_H20210831_RIVOUT.nc'\n",
      "[Errno -51] NetCDF: Unknown file format: b'/media/tristan/Elements/Hydro/TE/TE-Japan/Daily/Download/RIVOUT/TE-JPN01M_MSM_H20210901_RIVOUT.nc'\n"
     ]
    },
    {
     "name": "stderr",
     "output_type": "stream",
     "text": [
      "\n"
     ]
    }
   ],
   "source": [
    "root = \"/media/tristan/Elements/Hydro/TE/TE-Japan/Daily/Download\"\n",
    "\n",
    "dates = generate_dates()\n",
    "\n",
    "dates =  generate_dates(frm_year=2007, frm_month=1, frm_day=1,\n",
    "                        to_year=2021, to_month=9, to_day=1,\n",
    "                        delta=datetime.timedelta(hours=24))\n",
    "\n",
    "values, index = [],[]\n",
    "\n",
    "for (year,month,day,hour) in tqdm(dates):\n",
    "    try:\n",
    "        path = f\"{root}/{variable}/TE-JPN01M_MSM_H{year}{month}{day}{hour}_{variable}.nc\"\n",
    "        path = f\"{root}/{variable}/TE-JPN01M_MSM_H{year}{month}{day}_{variable}.nc\"\n",
    "        ds = xr.open_dataset(path)\n",
    "        values.append(ds.sel({\"lat\":lat, \"lon\":lon}, method=\"nearest\").RIVOUT.values[0,0].diagonal()[None])\n",
    "        index.append(ds.time.values[0])\n",
    "    except Exception as e:\n",
    "        print(e)\n",
    "        \n",
    "df = pd.DataFrame([x[0] for x in values], index=index, columns=idx)\n",
    "df.to_pickle(dam_rivout_daily_path)"
   ]
  },
  {
   "cell_type": "code",
   "execution_count": 11,
   "id": "6ca3b005-57c7-4579-920f-ccfb23f37c94",
   "metadata": {},
   "outputs": [],
   "source": [
    "dam_rivout_daily_path = \"/media/tristan/Elements/Hydro/TE/TE-Japan/Dams/Daily/rivout.pkl\"\n",
    "df = pd.DataFrame([x[0] for x in values], index=index, columns=idx)\n",
    "df.to_pickle(dam_rivout_daily_path)"
   ]
  },
  {
   "cell_type": "code",
   "execution_count": null,
   "id": "df0e04a6-c1e6-41e1-9c9e-453dc6ebe31b",
   "metadata": {},
   "outputs": [],
   "source": []
  },
  {
   "cell_type": "markdown",
   "id": "9c7b1ff9-9392-45fe-a919-260d2c22fa36",
   "metadata": {},
   "source": [
    "### Hourly"
   ]
  },
  {
   "cell_type": "code",
   "execution_count": null,
   "id": "a1d697d9-d484-4369-b683-8c2809d74502",
   "metadata": {},
   "outputs": [],
   "source": [
    "root = \"/media/tristan/Elements/Hydro/TE/TE-Japan/Hourly/Download\"\n",
    "\n",
    "dates = generate_dates(frm_year=2018, frm_month=9, frm_day=1,\n",
    "                       to_year=2021, to_month=9, to_day=16,\n",
    "                       delta=datetime.timedelta(hours=1))\n",
    "values, index = [],[]"
   ]
  },
  {
   "cell_type": "code",
   "execution_count": null,
   "id": "53875050-996c-49d3-9005-2d0404f75f5d",
   "metadata": {
    "tags": []
   },
   "outputs": [],
   "source": [
    "for (year,month,day,hour) in tqdm(dates):\n",
    "    try:\n",
    "        path = f\"{root}/{variable}/TE-JPN01M_MSM_H{year}{month}{day}{hour}_{variable}.nc\"\n",
    "        ds = xr.open_dataset(path)\n",
    "        values.append(ds.sel({\"lat\":lat, \"lon\":lon}, method=\"nearest\").RIVOUT.values[0,0].diagonal()[None])\n",
    "        index.append(ds.time.values[0])\n",
    "    except Exception as e:\n",
    "        print(e)\n",
    "        \n",
    "df = pd.DataFrame([x[0] for x in values], index=index, columns=idx)\n",
    "df.to_pickle(dam_rivout_hourly_path)"
   ]
  },
  {
   "cell_type": "code",
   "execution_count": null,
   "id": "db6578be-6250-4cc5-a704-7071e58ea437",
   "metadata": {},
   "outputs": [],
   "source": []
  },
  {
   "cell_type": "code",
   "execution_count": null,
   "id": "024cf4f5-3d6e-485a-8954-4a875998d91b",
   "metadata": {},
   "outputs": [],
   "source": []
  }
 ],
 "metadata": {
  "kernelspec": {
   "display_name": "Python 3",
   "language": "python",
   "name": "python3"
  },
  "language_info": {
   "codemirror_mode": {
    "name": "ipython",
    "version": 3
   },
   "file_extension": ".py",
   "mimetype": "text/x-python",
   "name": "python",
   "nbconvert_exporter": "python",
   "pygments_lexer": "ipython3",
   "version": "3.9.4"
  }
 },
 "nbformat": 4,
 "nbformat_minor": 5
}
