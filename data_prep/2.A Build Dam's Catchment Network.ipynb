{
 "cells": [
  {
   "cell_type": "markdown",
   "id": "002d7b55-fe8e-40c5-b926-5e892901f385",
   "metadata": {},
   "source": [
    "This notebook selects the subnetworks of MERIT Basin correspondingto our dams"
   ]
  },
  {
   "cell_type": "code",
   "execution_count": 1,
   "id": "ee465c2a-8f2d-4bd7-8318-0eb85bac9da9",
   "metadata": {},
   "outputs": [],
   "source": [
    "%load_ext autoreload\n",
    "%autoreload 2"
   ]
  },
  {
   "cell_type": "code",
   "execution_count": 2,
   "id": "53b8b992-8a1a-4b45-8267-b428ff4f9165",
   "metadata": {},
   "outputs": [],
   "source": [
    "import numpy as np\n",
    "import pandas as pd\n",
    "import geopandas as gpd\n",
    "import pickle, sys\n",
    "sys.path.append(\"./src\")\n",
    "from merit_process import filter_candidates, select_candidates\n",
    "from config import *"
   ]
  },
  {
   "cell_type": "code",
   "execution_count": 4,
   "id": "fc7abfb8-2c69-433e-8367-2727937d5540",
   "metadata": {},
   "outputs": [],
   "source": [
    "rivers = gpd.read_file(merit_rivers_path).set_index(\"COMID\")\n",
    "basins = gpd.read_file(merit_catchments_path)\n",
    "with open(dam_details_path, \"rb\") as f:\n",
    "    dam_details = pickle.load(f)"
   ]
  },
  {
   "cell_type": "markdown",
   "id": "36a635ef-a1cd-4b88-ac2a-44eb0ad240a9",
   "metadata": {},
   "source": [
    "### 1. Map dam coordinates to basin"
   ]
  },
  {
   "cell_type": "code",
   "execution_count": null,
   "id": "ec3f0b64-5581-42e9-be33-7d4a2cedfdf6",
   "metadata": {
    "tags": []
   },
   "outputs": [],
   "source": [
    "df = map_dam_to_basins(dam_details, basins, N=100)"
   ]
  },
  {
   "cell_type": "markdown",
   "id": "92e0687d-7f76-4904-af82-70f1ebe43e5b",
   "metadata": {},
   "source": [
    "### 2. Gather dam's upstream catchments into a graph"
   ]
  },
  {
   "cell_type": "code",
   "execution_count": null,
   "id": "2c636cc2-270f-4d67-8c04-f5e992456d0e",
   "metadata": {},
   "outputs": [],
   "source": [
    "networks = infer_river_networks(df, rivers)"
   ]
  },
  {
   "cell_type": "markdown",
   "id": "c7061ce0-cb0d-4204-810d-2f4ef5a43db7",
   "metadata": {},
   "source": [
    "### 3. Dump results"
   ]
  },
  {
   "cell_type": "code",
   "execution_count": 13,
   "id": "75798d76-7ad8-45af-a646-6d6d8eb9e2fa",
   "metadata": {
    "tags": []
   },
   "outputs": [],
   "source": [
    "with open(dam_networks_path, \"wb\") as f:\n",
    "    pickle.dump(networks, f)"
   ]
  },
  {
   "cell_type": "code",
   "execution_count": 10,
   "id": "d3ae3511-0453-436d-9673-7d3b73dd69b0",
   "metadata": {},
   "outputs": [],
   "source": [
    "all_nodes = list(set([x for y in networks.values() for z in y for x in z]))"
   ]
  },
  {
   "cell_type": "code",
   "execution_count": 12,
   "id": "d25d89dd-4e20-4090-8ce5-9f5d32d53453",
   "metadata": {},
   "outputs": [],
   "source": [
    "dam_basins = basins[basins.COMID.isin(all_nodes)].set_index(\"COMID\")\n",
    "dam_basins[\"level\"]=np.random.randn(len(dam_basins))\n",
    "dam_basins.crs = rivers.crs\n",
    "dam_basins.to_file(dam_basins_path)"
   ]
  },
  {
   "cell_type": "code",
   "execution_count": null,
   "id": "45295e26-b3b7-403a-a1af-46646073e538",
   "metadata": {},
   "outputs": [],
   "source": []
  },
  {
   "cell_type": "code",
   "execution_count": null,
   "id": "fe2dc0e0-ad16-4cb6-a7ca-6c62bf32c91d",
   "metadata": {},
   "outputs": [],
   "source": []
  },
  {
   "cell_type": "code",
   "execution_count": null,
   "id": "cddda04a-9393-49bf-85df-2aa5ed55744f",
   "metadata": {},
   "outputs": [],
   "source": []
  }
 ],
 "metadata": {
  "kernelspec": {
   "display_name": "Python 3",
   "language": "python",
   "name": "python3"
  },
  "language_info": {
   "codemirror_mode": {
    "name": "ipython",
    "version": 3
   },
   "file_extension": ".py",
   "mimetype": "text/x-python",
   "name": "python",
   "nbconvert_exporter": "python",
   "pygments_lexer": "ipython3",
   "version": "3.9.4"
  }
 },
 "nbformat": 4,
 "nbformat_minor": 5
}
