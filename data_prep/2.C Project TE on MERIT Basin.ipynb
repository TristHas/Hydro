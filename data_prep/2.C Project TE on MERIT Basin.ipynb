{
 "cells": [
  {
   "cell_type": "code",
   "execution_count": 10,
   "id": "2966c4b1-d750-4fa2-b745-34d6865ae41d",
   "metadata": {},
   "outputs": [],
   "source": [
    "import datetime, pickle, sys, os, shutil\n",
    "from ftplib import FTP\n",
    "from tqdm import tqdm\n",
    "import xarray as xr\n",
    "import numpy as np\n",
    "import pandas as pd\n",
    "\n",
    "sys.path.append(\"./src/\")\n",
    "from dataio import load_dam_details\n",
    "from easymore_interpolation_TE import map_nc\n",
    "from merit_process import *"
   ]
  },
  {
   "cell_type": "code",
   "execution_count": null,
   "id": "9ac7cca6-9bd3-4584-822b-3576b964085c",
   "metadata": {},
   "outputs": [],
   "source": [
    "def generate_dates(frm_year=2018, frm_month=9, frm_day=1,\n",
    "                   to_year=2021, to_month=9, to_day=16,\n",
    "                   delta=datetime.timedelta(hours=1)):\n",
    "    \"\"\"\n",
    "    \"\"\"\n",
    "    interval = 0\n",
    "    current_date = datetime.datetime(year=frm_year, month=frm_month, day=frm_day)\n",
    "    end_date = datetime.datetime(year=to_year, month=to_month, day=to_day)\n",
    "    date_list = []\n",
    "    while current_date < end_date:\n",
    "        current_date = current_date + delta\n",
    "        date_list.append(datetime_to_str(current_date))\n",
    "    return date_list\n",
    "\n",
    "def datetime_to_str(x):\n",
    "    \"\"\"\n",
    "    \"\"\"\n",
    "    x = [x.year, x.month, x.day, x.hour]\n",
    "    x = [str(y) for y in x]\n",
    "    return [\"0\"+y if len(y)==1 else y for y in x]\n",
    "\n",
    "\n",
    "def get_values(path):\n",
    "    if os.path.isfile(path):\n",
    "        df = pd.read_csv(path)\n",
    "        return df.iloc[3:6,1:].set_index(\"Unnamed: 1\").values\n",
    "    else:\n",
    "        return np.array([[-1]*766])\n",
    "    \n",
    "def extract_hourly_values(root, variable, dates):\n",
    "    \"\"\"\n",
    "    \"\"\"\n",
    "    values,timestamps = [],[]\n",
    "    for (year,month,day,hour) in tqdm(dates):\n",
    "        path = f\"{download_hourly}/{variable}/TE-JPN01M_MSM_H{year}{month}{day}{hour}_{variable}.csv\"\n",
    "        print(path)\n",
    "        values.append(get_values(path))\n",
    "        date = datetime.datetime(year=int(year), month=int(month), \n",
    "                                day=int(day), hour=int(hour))\n",
    "        timestamps.append(date)\n",
    "    columns = gpd.read_file(dam_basins_path)[\"COMID\"].values.tolist()\n",
    "    return pd.DataFrame(np.concatenate(values), columns=columns, index=timestamps)\n",
    "\n",
    "def extract_daily_values(root, variable, dates):\n",
    "    \"\"\"\n",
    "    \"\"\"\n",
    "    values,timestamps = [],[]\n",
    "    for (year,month,day,hour) in tqdm(dates):\n",
    "        path = f\"{root}/{variable}/TE-JPN01M_MSM_H{year}{month}{day}_{variable}.csv\"\n",
    "        values.append(get_values(path))\n",
    "        date = datetime.datetime(year=int(year), month=int(month), \n",
    "                                day=int(day), hour=int(hour))\n",
    "        timestamps.append(date)\n",
    "    columns = gpd.read_file(dam_basins_path)[\"COMID\"].values.tolist()\n",
    "    return pd.DataFrame(np.concatenate(values), index=timestamps, columns=columns)"
   ]
  },
  {
   "cell_type": "code",
   "execution_count": null,
   "id": "c96ea766-6670-4e76-ac17-dd84f64b6c16",
   "metadata": {},
   "outputs": [],
   "source": [
    "target_variables = [\"ICESUB\", \"SNMLT\", \"GLSNW\", \n",
    "                    \"SNFRZ\", \"SNSUB\", \"ICEMLT\", \"RIVOUT\"]\n",
    "\n",
    "download_hourly = \"/media/tristan/Elements/Hydro/TE/TE-Japan/Hourly/Download/\"\n",
    "csv_hourly = \"/media/tristan/Elements/Hydro/TE/TE-Japan/Hourly/CSV/\"\n",
    "download_daily = \"/media/tristan/Elements/Hydro/TE/TE-Japan/Daily/Download/\"\n",
    "csv_daily = \"/media/tristan/Elements/Hydro/TE/TE-Japan/Daily/CSV/\"\n",
    "\n",
    "dates_daily =  generate_dates(frm_year=2007, frm_month=1, frm_day=1,\n",
    "                        to_year=2021, to_month=9, to_day=1,\n",
    "                        delta=datetime.timedelta(hours=24))\n",
    "\n",
    "dates_hourly =  generate_dates()\n"
   ]
  },
  {
   "cell_type": "markdown",
   "id": "93611c3e-8ecc-4e5d-83bc-44bed56ae8db",
   "metadata": {},
   "source": [
    "### Hourly"
   ]
  },
  {
   "cell_type": "code",
   "execution_count": null,
   "id": "01720e1b-55e8-4622-b115-0f90d9c20b42",
   "metadata": {
    "tags": []
   },
   "outputs": [],
   "source": [
    "for variable in target_variables:\n",
    "    outdir = f\"{out_root}/{variable}/\"\n",
    "    for (year,month,day,hour) in tqdm(dates_hourly):\n",
    "        path = f\"{root}/{variable}/TE-JPN01M_MSM_H{year}{month}{day}{hour}_{variable}.nc\"\n",
    "        map_nc(path, [variable], varout=[variable], outdir=outdir,\n",
    "               var_time=\"time\", var_lat=\"lat\", var_lon=\"lon\")"
   ]
  },
  {
   "cell_type": "code",
   "execution_count": null,
   "id": "98555718-ef10-4adc-a28b-1dcfc7360161",
   "metadata": {},
   "outputs": [],
   "source": [
    "for variable in target_variables:\n",
    "    results[variable]=extract_hourly_values(out_root, variable, dates_hourly)"
   ]
  },
  {
   "cell_type": "code",
   "execution_count": null,
   "id": "edb3b7df-e3c3-48bd-9ab4-8a347177ecf1",
   "metadata": {},
   "outputs": [],
   "source": [
    "for variable in target_variables:\n",
    "    out[variable].to_pickle(f\"/media/tristan/Elements/Hydro/TE/TE-Japan/Hourly/DF/{variable}.pkl\")"
   ]
  },
  {
   "cell_type": "code",
   "execution_count": null,
   "id": "ffb092b1-6643-4f2d-87b1-336d6fd4942e",
   "metadata": {},
   "outputs": [],
   "source": []
  },
  {
   "cell_type": "markdown",
   "id": "b4861685-8f04-486d-a6bb-f4e3c3c4c6ee",
   "metadata": {},
   "source": [
    "### Daily"
   ]
  },
  {
   "cell_type": "code",
   "execution_count": null,
   "id": "18184347-83a2-4657-aea0-974a05cebdbd",
   "metadata": {
    "tags": []
   },
   "outputs": [],
   "source": [
    "for variable in target_variables:\n",
    "    outdir = f\"{out_root}/{variable}/\"\n",
    "    for (year,month,day,hour) in tqdm(dates_daily):\n",
    "        path = f\"{root}/{variable}/TE-JPN01M_MSM_H{year}{month}{day}_{variable}.nc\"\n",
    "        map_nc(path, [variable], varout=[variable], outdir=outdir,\n",
    "               var_time=\"time\", var_lat=\"lat\", var_lon=\"lon\")"
   ]
  },
  {
   "cell_type": "code",
   "execution_count": null,
   "id": "b1fe5492-8e0d-4989-98b1-e07dfc48314e",
   "metadata": {},
   "outputs": [],
   "source": [
    "for variable in target_variables:\n",
    "    results[variable]=extract_daily_values(out_root, variable, dates_daily)"
   ]
  },
  {
   "cell_type": "code",
   "execution_count": null,
   "id": "5911dc2e-47d6-4b4f-b064-7ee748b54adc",
   "metadata": {},
   "outputs": [],
   "source": [
    "for variable in target_variables:\n",
    "    out[variable].to_pickle(f\"/media/tristan/Elements/Hydro/TE/TE-Japan/Daily/DF/{variable}.pkl\")"
   ]
  },
  {
   "cell_type": "code",
   "execution_count": null,
   "id": "2f0d9138-94e8-4dff-bef6-3687d276d554",
   "metadata": {},
   "outputs": [],
   "source": []
  },
  {
   "cell_type": "code",
   "execution_count": null,
   "id": "59e6fd35-f7ce-46b9-80dd-31f059bb1b68",
   "metadata": {},
   "outputs": [],
   "source": []
  }
 ],
 "metadata": {
  "kernelspec": {
   "display_name": "Python 3",
   "language": "python",
   "name": "python3"
  },
  "language_info": {
   "codemirror_mode": {
    "name": "ipython",
    "version": 3
   },
   "file_extension": ".py",
   "mimetype": "text/x-python",
   "name": "python",
   "nbconvert_exporter": "python",
   "pygments_lexer": "ipython3",
   "version": "3.9.4"
  }
 },
 "nbformat": 4,
 "nbformat_minor": 5
}
